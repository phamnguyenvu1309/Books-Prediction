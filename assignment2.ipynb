{
 "cells": [
  {
   "cell_type": "markdown",
   "metadata": {
    "jupyter": {
     "source_hidden": true
    }
   },
   "source": [
    "# Assignment 2: Data Modelling\n",
    "\n",
    "Submission for Assignment 2 for student s3701522\n",
    "\n",
    "<b> 1. Data Import </b>"
   ]
  },
  {
   "cell_type": "code",
   "execution_count": 1,
   "metadata": {},
   "outputs": [],
   "source": [
    "import pandas as pd\n",
    "import seaborn as sns\n",
    "import numpy as np\n",
    "import matplotlib.pyplot as plt\n",
    "from sklearn import preprocessing\n",
    "from sklearn.model_selection import train_test_split\n",
    "from sklearn.linear_model import LinearRegression\n",
    "from sklearn import metrics\n",
    "from sklearn import linear_model\n",
    "from sklearn.metrics import  mean_squared_error, r2_score\n",
    "from sklearn.model_selection import KFold\n",
    "from sklearn.neighbors import KNeighborsRegressor\n",
    "from sklearn.model_selection import cross_val_predict\n",
    "import xgboost\n",
    "from sklearn.pipeline import make_pipeline\n",
    "from math import sqrt\n",
    "from sklearn.preprocessing import StandardScaler\n",
    "np.random.seed(0)"
   ]
  },
  {
   "cell_type": "code",
   "execution_count": 2,
   "metadata": {},
   "outputs": [],
   "source": [
    "# read the data set\n",
    "x_train = pd.read_csv('X_train.csv', encoding='utf-8', error_bad_lines = False)\n",
    "y_train = pd.read_csv('y_train.csv', encoding='utf-8')\n",
    "x_test = pd.read_csv('X_test.csv', encoding='utf-8', error_bad_lines = False)\n",
    "y_test = pd.read_csv('sampleSubmission.csv')"
   ]
  },
  {
   "cell_type": "code",
   "execution_count": null,
   "metadata": {},
   "outputs": [],
   "source": []
  },
  {
   "cell_type": "code",
   "execution_count": 3,
   "metadata": {},
   "outputs": [
    {
     "data": {
      "text/html": [
       "<div>\n",
       "<style scoped>\n",
       "    .dataframe tbody tr th:only-of-type {\n",
       "        vertical-align: middle;\n",
       "    }\n",
       "\n",
       "    .dataframe tbody tr th {\n",
       "        vertical-align: top;\n",
       "    }\n",
       "\n",
       "    .dataframe thead th {\n",
       "        text-align: right;\n",
       "    }\n",
       "</style>\n",
       "<table border=\"1\" class=\"dataframe\">\n",
       "  <thead>\n",
       "    <tr style=\"text-align: right;\">\n",
       "      <th></th>\n",
       "      <th>id</th>\n",
       "      <th>title</th>\n",
       "      <th>link</th>\n",
       "      <th>series</th>\n",
       "      <th>cover_link</th>\n",
       "      <th>author</th>\n",
       "      <th>author_link</th>\n",
       "      <th>rating_count</th>\n",
       "      <th>review_count</th>\n",
       "      <th>number_of_pages</th>\n",
       "      <th>...</th>\n",
       "      <th>isbn13</th>\n",
       "      <th>asin</th>\n",
       "      <th>settings</th>\n",
       "      <th>characters</th>\n",
       "      <th>awards</th>\n",
       "      <th>amazon_redirect_link</th>\n",
       "      <th>worldcat_redirect_link</th>\n",
       "      <th>recommended_books</th>\n",
       "      <th>books_in_series</th>\n",
       "      <th>description</th>\n",
       "    </tr>\n",
       "  </thead>\n",
       "  <tbody>\n",
       "    <tr>\n",
       "      <th>0</th>\n",
       "      <td>2533958</td>\n",
       "      <td>Frost/Nixon</td>\n",
       "      <td>https://www.goodreads.com//book/show/2533958.F...</td>\n",
       "      <td>NaN</td>\n",
       "      <td>https://i.gr-assets.com/images/S/compressed.ph...</td>\n",
       "      <td>David Frost</td>\n",
       "      <td>https://www.goodreads.com/author/show/264173.D...</td>\n",
       "      <td>523</td>\n",
       "      <td>51</td>\n",
       "      <td>338.0</td>\n",
       "      <td>...</td>\n",
       "      <td>9780230531147</td>\n",
       "      <td>NaN</td>\n",
       "      <td>NaN</td>\n",
       "      <td>Richard Nixon, David Frost</td>\n",
       "      <td>NaN</td>\n",
       "      <td>https://www.goodreads.com//book_link/follow/17...</td>\n",
       "      <td>https://www.goodreads.com//book_link/follow/8?...</td>\n",
       "      <td>13167112, 13167112, 29429295, 2074322, 3025937...</td>\n",
       "      <td>NaN</td>\n",
       "      <td>Including hilarious tales of the people he enc...</td>\n",
       "    </tr>\n",
       "    <tr>\n",
       "      <th>1</th>\n",
       "      <td>16071790</td>\n",
       "      <td>Just What Kind of Mother Are You?</td>\n",
       "      <td>https://www.goodreads.com//book/show/16071790-...</td>\n",
       "      <td>NaN</td>\n",
       "      <td>https://i.gr-assets.com/images/S/compressed.ph...</td>\n",
       "      <td>Paula Daly</td>\n",
       "      <td>https://www.goodreads.com/author/show/6175529....</td>\n",
       "      <td>10092</td>\n",
       "      <td>1236</td>\n",
       "      <td>320.0</td>\n",
       "      <td>...</td>\n",
       "      <td>9780385680073</td>\n",
       "      <td>NaN</td>\n",
       "      <td>NaN</td>\n",
       "      <td>NaN</td>\n",
       "      <td>NaN</td>\n",
       "      <td>https://www.goodreads.com//book_link/follow/1?...</td>\n",
       "      <td>https://www.goodreads.com//book_link/follow/8?...</td>\n",
       "      <td>42614702, 42614702, 42182331, 45730306, 379129...</td>\n",
       "      <td>NaN</td>\n",
       "      <td>A searing and sinister thriller for readers wh...</td>\n",
       "    </tr>\n",
       "    <tr>\n",
       "      <th>2</th>\n",
       "      <td>13825165</td>\n",
       "      <td>Cafenova</td>\n",
       "      <td>https://www.goodreads.com//book/show/13825165-...</td>\n",
       "      <td>(Clairmont #1)</td>\n",
       "      <td>https://i.gr-assets.com/images/S/compressed.ph...</td>\n",
       "      <td>S. Jane Scheyder</td>\n",
       "      <td>https://www.goodreads.com/author/show/5871778....</td>\n",
       "      <td>769</td>\n",
       "      <td>90</td>\n",
       "      <td>318.0</td>\n",
       "      <td>...</td>\n",
       "      <td>9780983031802</td>\n",
       "      <td>NaN</td>\n",
       "      <td>NaN</td>\n",
       "      <td>NaN</td>\n",
       "      <td>NaN</td>\n",
       "      <td>https://www.goodreads.com//book_link/follow/17...</td>\n",
       "      <td>https://www.goodreads.com//book_link/follow/8?...</td>\n",
       "      <td>89959, 89959, 59091, 1996085, 25843420, 364288...</td>\n",
       "      <td>23498673</td>\n",
       "      <td>Leaving her broken heart behind in Seattle, Ma...</td>\n",
       "    </tr>\n",
       "    <tr>\n",
       "      <th>3</th>\n",
       "      <td>18061</td>\n",
       "      <td>Uncle Fred in the Springtime</td>\n",
       "      <td>https://www.goodreads.com//book/show/18061.Unc...</td>\n",
       "      <td>(Uncle Fred #1)</td>\n",
       "      <td>https://i.gr-assets.com/images/S/compressed.ph...</td>\n",
       "      <td>P.G. Wodehouse</td>\n",
       "      <td>https://www.goodreads.com/author/show/7963.P_G...</td>\n",
       "      <td>4200</td>\n",
       "      <td>328</td>\n",
       "      <td>288.0</td>\n",
       "      <td>...</td>\n",
       "      <td>9781841591308</td>\n",
       "      <td>NaN</td>\n",
       "      <td>NaN</td>\n",
       "      <td>Clarence Threepwood, Sebastian Beach, Rupert B...</td>\n",
       "      <td>NaN</td>\n",
       "      <td>https://www.goodreads.com//book_link/follow/17...</td>\n",
       "      <td>https://www.goodreads.com//book_link/follow/8?...</td>\n",
       "      <td>17910171, 17910171, 13418137, 48839090, 390885...</td>\n",
       "      <td>16241184, 16241186, 16241198</td>\n",
       "      <td>Pongo Twistleton is in a state of financial em...</td>\n",
       "    </tr>\n",
       "    <tr>\n",
       "      <th>4</th>\n",
       "      <td>3766428</td>\n",
       "      <td>Double Share</td>\n",
       "      <td>https://www.goodreads.com//book/show/3766428-d...</td>\n",
       "      <td>(Golden Age of the Solar Clipper #4)</td>\n",
       "      <td>https://i.gr-assets.com/images/S/compressed.ph...</td>\n",
       "      <td>Nathan Lowell</td>\n",
       "      <td>https://www.goodreads.com/author/show/1048167....</td>\n",
       "      <td>4212</td>\n",
       "      <td>184</td>\n",
       "      <td>308.0</td>\n",
       "      <td>...</td>\n",
       "      <td>NaN</td>\n",
       "      <td>NaN</td>\n",
       "      <td>NaN</td>\n",
       "      <td>Ishmael Horatio Wang</td>\n",
       "      <td>Parsec Award Nominee for Best Speculative Fict...</td>\n",
       "      <td>https://www.goodreads.com//book_link/follow/17...</td>\n",
       "      <td>NaN</td>\n",
       "      <td>53172544, 53172544, 20951387, 52856493, 444219...</td>\n",
       "      <td>2334538, 2906048, 4266110, 6963764, 10054649, ...</td>\n",
       "      <td>In his first assignment as an officer, Ishmael...</td>\n",
       "    </tr>\n",
       "  </tbody>\n",
       "</table>\n",
       "<p>5 rows × 25 columns</p>\n",
       "</div>"
      ],
      "text/plain": [
       "         id                              title  \\\n",
       "0   2533958                        Frost/Nixon   \n",
       "1  16071790  Just What Kind of Mother Are You?   \n",
       "2  13825165                           Cafenova   \n",
       "3     18061       Uncle Fred in the Springtime   \n",
       "4   3766428                       Double Share   \n",
       "\n",
       "                                                link  \\\n",
       "0  https://www.goodreads.com//book/show/2533958.F...   \n",
       "1  https://www.goodreads.com//book/show/16071790-...   \n",
       "2  https://www.goodreads.com//book/show/13825165-...   \n",
       "3  https://www.goodreads.com//book/show/18061.Unc...   \n",
       "4  https://www.goodreads.com//book/show/3766428-d...   \n",
       "\n",
       "                                 series  \\\n",
       "0                                   NaN   \n",
       "1                                   NaN   \n",
       "2                        (Clairmont #1)   \n",
       "3                       (Uncle Fred #1)   \n",
       "4  (Golden Age of the Solar Clipper #4)   \n",
       "\n",
       "                                          cover_link            author  \\\n",
       "0  https://i.gr-assets.com/images/S/compressed.ph...       David Frost   \n",
       "1  https://i.gr-assets.com/images/S/compressed.ph...        Paula Daly   \n",
       "2  https://i.gr-assets.com/images/S/compressed.ph...  S. Jane Scheyder   \n",
       "3  https://i.gr-assets.com/images/S/compressed.ph...    P.G. Wodehouse   \n",
       "4  https://i.gr-assets.com/images/S/compressed.ph...     Nathan Lowell   \n",
       "\n",
       "                                         author_link  rating_count  \\\n",
       "0  https://www.goodreads.com/author/show/264173.D...           523   \n",
       "1  https://www.goodreads.com/author/show/6175529....         10092   \n",
       "2  https://www.goodreads.com/author/show/5871778....           769   \n",
       "3  https://www.goodreads.com/author/show/7963.P_G...          4200   \n",
       "4  https://www.goodreads.com/author/show/1048167....          4212   \n",
       "\n",
       "   review_count  number_of_pages  ...         isbn13 asin settings  \\\n",
       "0            51            338.0  ...  9780230531147  NaN      NaN   \n",
       "1          1236            320.0  ...  9780385680073  NaN      NaN   \n",
       "2            90            318.0  ...  9780983031802  NaN      NaN   \n",
       "3           328            288.0  ...  9781841591308  NaN      NaN   \n",
       "4           184            308.0  ...            NaN  NaN      NaN   \n",
       "\n",
       "                                          characters  \\\n",
       "0                         Richard Nixon, David Frost   \n",
       "1                                                NaN   \n",
       "2                                                NaN   \n",
       "3  Clarence Threepwood, Sebastian Beach, Rupert B...   \n",
       "4                               Ishmael Horatio Wang   \n",
       "\n",
       "                                              awards  \\\n",
       "0                                                NaN   \n",
       "1                                                NaN   \n",
       "2                                                NaN   \n",
       "3                                                NaN   \n",
       "4  Parsec Award Nominee for Best Speculative Fict...   \n",
       "\n",
       "                                amazon_redirect_link  \\\n",
       "0  https://www.goodreads.com//book_link/follow/17...   \n",
       "1  https://www.goodreads.com//book_link/follow/1?...   \n",
       "2  https://www.goodreads.com//book_link/follow/17...   \n",
       "3  https://www.goodreads.com//book_link/follow/17...   \n",
       "4  https://www.goodreads.com//book_link/follow/17...   \n",
       "\n",
       "                              worldcat_redirect_link  \\\n",
       "0  https://www.goodreads.com//book_link/follow/8?...   \n",
       "1  https://www.goodreads.com//book_link/follow/8?...   \n",
       "2  https://www.goodreads.com//book_link/follow/8?...   \n",
       "3  https://www.goodreads.com//book_link/follow/8?...   \n",
       "4                                                NaN   \n",
       "\n",
       "                                   recommended_books  \\\n",
       "0  13167112, 13167112, 29429295, 2074322, 3025937...   \n",
       "1  42614702, 42614702, 42182331, 45730306, 379129...   \n",
       "2  89959, 89959, 59091, 1996085, 25843420, 364288...   \n",
       "3  17910171, 17910171, 13418137, 48839090, 390885...   \n",
       "4  53172544, 53172544, 20951387, 52856493, 444219...   \n",
       "\n",
       "                                     books_in_series  \\\n",
       "0                                                NaN   \n",
       "1                                                NaN   \n",
       "2                                           23498673   \n",
       "3                       16241184, 16241186, 16241198   \n",
       "4  2334538, 2906048, 4266110, 6963764, 10054649, ...   \n",
       "\n",
       "                                         description  \n",
       "0  Including hilarious tales of the people he enc...  \n",
       "1  A searing and sinister thriller for readers wh...  \n",
       "2  Leaving her broken heart behind in Seattle, Ma...  \n",
       "3  Pongo Twistleton is in a state of financial em...  \n",
       "4  In his first assignment as an officer, Ishmael...  \n",
       "\n",
       "[5 rows x 25 columns]"
      ]
     },
     "execution_count": 3,
     "metadata": {},
     "output_type": "execute_result"
    }
   ],
   "source": [
    "# check data \n",
    "x_train.head()"
   ]
  },
  {
   "cell_type": "code",
   "execution_count": 4,
   "metadata": {},
   "outputs": [
    {
     "name": "stdout",
     "output_type": "stream",
     "text": [
      "<class 'pandas.core.frame.DataFrame'>\n",
      "RangeIndex: 41759 entries, 0 to 41758\n",
      "Data columns (total 25 columns):\n",
      " #   Column                  Non-Null Count  Dtype  \n",
      "---  ------                  --------------  -----  \n",
      " 0   id                      41759 non-null  int64  \n",
      " 1   title                   41759 non-null  object \n",
      " 2   link                    41759 non-null  object \n",
      " 3   series                  18647 non-null  object \n",
      " 4   cover_link              41273 non-null  object \n",
      " 5   author                  41759 non-null  object \n",
      " 6   author_link             41759 non-null  object \n",
      " 7   rating_count            41759 non-null  int64  \n",
      " 8   review_count            41759 non-null  int64  \n",
      " 9   number_of_pages         39886 non-null  float64\n",
      " 10  date_published          41071 non-null  object \n",
      " 11  publisher               38866 non-null  object \n",
      " 12  original_title          31463 non-null  object \n",
      " 13  genre_and_votes         39521 non-null  object \n",
      " 14  isbn                    32284 non-null  object \n",
      " 15  isbn13                  31660 non-null  object \n",
      " 16  asin                    4154 non-null   object \n",
      " 17  settings                9286 non-null   object \n",
      " 18  characters              10977 non-null  object \n",
      " 19  awards                  8503 non-null   object \n",
      " 20  amazon_redirect_link    41759 non-null  object \n",
      " 21  worldcat_redirect_link  38556 non-null  object \n",
      " 22  recommended_books       38608 non-null  object \n",
      " 23  books_in_series         17663 non-null  object \n",
      " 24  description             39688 non-null  object \n",
      "dtypes: float64(1), int64(3), object(21)\n",
      "memory usage: 4.6+ MB\n"
     ]
    }
   ],
   "source": [
    "x_train.info()"
   ]
  },
  {
   "cell_type": "markdown",
   "metadata": {},
   "source": [
    "<b> 1.1 Data Preparation </b>"
   ]
  },
  {
   "cell_type": "markdown",
   "metadata": {},
   "source": [
    "Basically, I did the same method in assignment 1 such as uppercase, cleaning extra whitespaces and deal with missing value for both training/test dataset"
   ]
  },
  {
   "cell_type": "markdown",
   "metadata": {},
   "source": [
    "<b>Uppercase</b>"
   ]
  },
  {
   "cell_type": "code",
   "execution_count": 5,
   "metadata": {},
   "outputs": [],
   "source": [
    "#Upper case\n",
    "def upper_case(x):\n",
    "    for i in x: #create a loop to run through whole data file\n",
    "        if x[i].dtype == \"object\": #condition: check if this value is a string or not\n",
    "            x[i] = x[i].str.upper() #return the uppercase string \n",
    "upper_case(x_train)\n",
    "upper_case(x_test)"
   ]
  },
  {
   "cell_type": "markdown",
   "metadata": {},
   "source": [
    "<b>Extra whitespaces</b>"
   ]
  },
  {
   "cell_type": "code",
   "execution_count": 6,
   "metadata": {},
   "outputs": [],
   "source": [
    "#Extra whitespaces\n",
    "def whitespaces_remover(x):\n",
    "    for i in x: #create a loop to run through whole data file\n",
    "        if x[i].dtype == \"object\": #check if this value is a string or not\n",
    "            x[i] = x[i].str.strip() #return the same string without whitespaces\n",
    "            \n",
    "whitespaces_remover(x_train)\n",
    "whitespaces_remover(x_test)\n"
   ]
  },
  {
   "cell_type": "markdown",
   "metadata": {},
   "source": [
    "<b> Typos mistake </b>"
   ]
  },
  {
   "cell_type": "code",
   "execution_count": 7,
   "metadata": {},
   "outputs": [
    {
     "name": "stdout",
     "output_type": "stream",
     "text": [
      "43626552    1\n",
      "308540      1\n",
      "8764765     1\n",
      "175675      1\n",
      "10087767    1\n",
      "           ..\n",
      "9581107     1\n",
      "52568625    1\n",
      "338480      1\n",
      "7389741     1\n",
      "2049        1\n",
      "Name: id, Length: 41759, dtype: int64\n",
      "BROKEN                            12\n",
      "LEGACY                            11\n",
      "TWISTED                           10\n",
      "SELECTED POEMS                     9\n",
      "TORN                               9\n",
      "                                  ..\n",
      "KINDLE PAPERWHITE USER'S GUIDE     1\n",
      "THREE MINUTES MORE                 1\n",
      "HEART OF A WARRIOR ANGEL           1\n",
      "LOVE AT FIRST BITE                 1\n",
      "LA CATEDRAL DEL MAR                1\n",
      "Name: title, Length: 40005, dtype: int64\n",
      "HTTPS://WWW.GOODREADS.COM//BOOK/SHOW/23359127-SINFUL-DESIRES            1\n",
      "HTTPS://WWW.GOODREADS.COM//BOOK/SHOW/6850768-HUZUR                      1\n",
      "HTTPS://WWW.GOODREADS.COM//BOOK/SHOW/28434.JR                           1\n",
      "HTTPS://WWW.GOODREADS.COM//BOOK/SHOW/911645.A_LIVING_SOUL               1\n",
      "HTTPS://WWW.GOODREADS.COM//BOOK/SHOW/25152052-THE-JAPANESE-LOVER        1\n",
      "                                                                       ..\n",
      "HTTPS://WWW.GOODREADS.COM//BOOK/SHOW/163716.THE_COMPLETE_FAIRY_TALES    1\n",
      "HTTPS://WWW.GOODREADS.COM//BOOK/SHOW/1561628.MACKENZIE_S_PLEASURE       1\n",
      "HTTPS://WWW.GOODREADS.COM//BOOK/SHOW/19161872-I-AM-MALALA               1\n",
      "HTTPS://WWW.GOODREADS.COM//BOOK/SHOW/18217413-DIAMOND-SKY               1\n",
      "HTTPS://WWW.GOODREADS.COM//BOOK/SHOW/15449.VALE_OF_THE_VOLE             1\n",
      "Name: link, Length: 41759, dtype: int64\n",
      "(SHERLOCK HOLMES)                     12\n",
      "(DEAR AMERICA)                        10\n",
      "(THE SOCIETY ON DA RUN)               10\n",
      "(DULUOZ LEGEND)                       10\n",
      "(AVATAR: THE LAST AIRBENDER BOOKS)     8\n",
      "                                      ..\n",
      "(DEMON CYCLE #1)                       1\n",
      "(THE BLACK JEWELS #3)                  1\n",
      "(HORRIBLE HISTORIES #3)                1\n",
      "(SPIONIN WIDER WILLEN #5)              1\n",
      "(RIVAL LOVE #3)                        1\n",
      "Name: series, Length: 18194, dtype: int64\n",
      "HTTPS://I.GR-ASSETS.COM/IMAGES/S/COMPRESSED.PHOTO.GOODREADS.COM/BOOKS/1386921826L/3407345.JPG             1\n",
      "HTTPS://I.GR-ASSETS.COM/IMAGES/S/COMPRESSED.PHOTO.GOODREADS.COM/BOOKS/1168227616L/31156._SX318_.JPG       1\n",
      "HTTPS://I.GR-ASSETS.COM/IMAGES/S/COMPRESSED.PHOTO.GOODREADS.COM/BOOKS/1403541255L/22217702.JPG            1\n",
      "HTTPS://I.GR-ASSETS.COM/IMAGES/S/COMPRESSED.PHOTO.GOODREADS.COM/BOOKS/1521800733L/36306771._SX318_.JPG    1\n",
      "HTTPS://I.GR-ASSETS.COM/IMAGES/S/COMPRESSED.PHOTO.GOODREADS.COM/BOOKS/1442148875L/548772.JPG              1\n",
      "                                                                                                         ..\n",
      "HTTPS://I.GR-ASSETS.COM/IMAGES/S/COMPRESSED.PHOTO.GOODREADS.COM/BOOKS/1359803797L/15793184.JPG            1\n",
      "HTTPS://I.GR-ASSETS.COM/IMAGES/S/COMPRESSED.PHOTO.GOODREADS.COM/BOOKS/1259112609L/6260558.JPG             1\n",
      "HTTPS://I.GR-ASSETS.COM/IMAGES/S/COMPRESSED.PHOTO.GOODREADS.COM/BOOKS/1372421223L/17185556.JPG            1\n",
      "HTTPS://I.GR-ASSETS.COM/IMAGES/S/COMPRESSED.PHOTO.GOODREADS.COM/BOOKS/1451515557L/28277894._SX318_.JPG    1\n",
      "HTTPS://I.GR-ASSETS.COM/IMAGES/S/COMPRESSED.PHOTO.GOODREADS.COM/BOOKS/1435096531L/25783023._SX318_.JPG    1\n",
      "Name: cover_link, Length: 41273, dtype: int64\n",
      "NORA ROBERTS                             65\n",
      "AGATHA CHRISTIE                          61\n",
      "STEPHEN KING                             57\n",
      "ERIN HUNTER                              50\n",
      "LUCIAN BANE                              45\n",
      "                                         ..\n",
      "ASRORI S. KARNI                           1\n",
      "DAVE BARRY, RIDLEY PEARSON, JIM  DALE     1\n",
      "SARA  HOLLAND                             1\n",
      "JACK KEROUAC, ARAM SAROYAN                1\n",
      "PAUL CELAN, MICHAEL HAMBURGER             1\n",
      "Name: author, Length: 23482, dtype: int64\n",
      "HTTPS://WWW.GOODREADS.COM/AUTHOR/SHOW/3389.STEPHEN_KING           82\n",
      "HTTPS://WWW.GOODREADS.COM/AUTHOR/SHOW/3780.JAMES_PATTERSON        71\n",
      "HTTPS://WWW.GOODREADS.COM/AUTHOR/SHOW/123715.AGATHA_CHRISTIE      71\n",
      "HTTPS://WWW.GOODREADS.COM/AUTHOR/SHOW/625.NORA_ROBERTS            70\n",
      "HTTPS://WWW.GOODREADS.COM/AUTHOR/SHOW/27498.ERIN_HUNTER           66\n",
      "                                                                  ..\n",
      "HTTPS://WWW.GOODREADS.COM/AUTHOR/SHOW/6912764.WILLIAM_A_PRATER     1\n",
      "HTTPS://WWW.GOODREADS.COM/AUTHOR/SHOW/19009720.NATHEA_ANEMYR       1\n",
      "HTTPS://WWW.GOODREADS.COM/AUTHOR/SHOW/8750.JON_KABAT_ZINN          1\n",
      "HTTPS://WWW.GOODREADS.COM/AUTHOR/SHOW/2303450.NASEEM_RAKHA         1\n",
      "HTTPS://WWW.GOODREADS.COM/AUTHOR/SHOW/91156.NORBERT_ELIAS          1\n",
      "Name: author_link, Length: 19803, dtype: int64\n",
      "2         292\n",
      "3         284\n",
      "1         260\n",
      "4         219\n",
      "5         191\n",
      "         ... \n",
      "215128      1\n",
      "31634       1\n",
      "2128        1\n",
      "47174       1\n",
      "32672       1\n",
      "Name: rating_count, Length: 16724, dtype: int64\n",
      "0        1132\n",
      "1         934\n",
      "2         753\n",
      "3         600\n",
      "4         520\n",
      "         ... \n",
      "4239        1\n",
      "2552        1\n",
      "22662       1\n",
      "53367       1\n",
      "4968        1\n",
      "Name: review_count, Length: 5009, dtype: int64\n",
      "320.0     854\n",
      "352.0     709\n",
      "288.0     689\n",
      "256.0     630\n",
      "384.0     601\n",
      "         ... \n",
      "841.0       1\n",
      "4736.0      1\n",
      "2560.0      1\n",
      "869.0       1\n",
      "2508.0      1\n",
      "Name: number_of_pages, Length: 1290, dtype: int64\n",
      "2009                   371\n",
      "2010                   333\n",
      "2007                   332\n",
      "2008                   329\n",
      "2006                   314\n",
      "                      ... \n",
      "FEBRUARY 1ST 1971        1\n",
      "JUNE 1897                1\n",
      "JULY 1ST 1925            1\n",
      "SEPTEMBER 17TH 2001      1\n",
      "NOVEMBER 20TH 2016       1\n",
      "Name: date_published, Length: 8299, dtype: int64\n",
      "HARPERCOLLINS                                  459\n",
      "VINTAGE                                        457\n",
      "PENGUIN BOOKS                                  417\n",
      "CREATESPACE INDEPENDENT PUBLISHING PLATFORM    393\n",
      "BALLANTINE BOOKS                               322\n",
      "                                              ... \n",
      "KATE KASTEN                                      1\n",
      "ELLIOT'S BOOKS                                   1\n",
      "AVON HARPER COLLINS                              1\n",
      "ICS PUBLICATIONS                                 1\n",
      "TOTAL E BOUND PUBLISHING                         1\n",
      "Name: publisher, Length: 9310, dtype: int64\n",
      "LEGACY                            8\n",
      "BROKEN                            7\n",
      "KARIN                             7\n",
      "THE GIFT                          7\n",
      "FOREVER                           6\n",
      "                                 ..\n",
      "THE PIRATE PRINCE                 1\n",
      "BLOODMARK (BLOODMARK SAGA, #1)    1\n",
      "THE BODY ARTIST                   1\n",
      "HEART'S BLOOD                     1\n",
      "Ç«Ã®Å®¢ [NEKO NO KYAKU]         1\n",
      "Name: original_title, Length: 30487, dtype: int64\n",
      "FICTION 1USER                                                                                                                                                                                     70\n",
      "FICTION 2                                                                                                                                                                                         47\n",
      "NONFICTION 1USER                                                                                                                                                                                  45\n",
      "CHILDRENS 1USER                                                                                                                                                                                   32\n",
      "ROMANCE 1USER                                                                                                                                                                                     28\n",
      "                                                                                                                                                                                                  ..\n",
      "POLYAMOROUS-REVERSE HAREM 173, ROMANCE 128, YOUNG ADULT 121, CONTEMPORARY 54, YOUNG ADULT-HIGH SCHOOL 38, MYSTERY 25, SPY THRILLER-ESPIONAGE 17, NEW ADULT 17, FICTION 15, YOUNG ADULT-TEEN 12     1\n",
      "ANIMALS 39, NONFICTION 28, HUMOR 10, AUTOBIOGRAPHY-MEMOIR 9, ANIMALS-BIRDS 3, ENVIRONMENT-NATURE 3, BIOGRAPHY MEMOIR 2, BIOGRAPHY 2                                                                1\n",
      "FICTION 15, HISTORICAL-HISTORICAL FICTION 7, MYTHOLOGY-ARTHURIAN 5, FANTASY 4, LITERATURE 3, NOVELS 2                                                                                              1\n",
      "MYSTERY 8, MYSTERY-CRIME 4, ROMANCE 3, MYSTERY-COZY MYSTERY 3, THRILLER-MYSTERY THRILLER 3                                                                                                         1\n",
      "PARANORMAL-VAMPIRES 24, YOUNG ADULT 22, FANTASY 21, THRILLER 14, FANTASY-SUPERNATURAL 14, ADVENTURE 14, FANTASY-MAGIC 13, YOUNG ADULT-TEEN 11, FANTASY-PARANORMAL 10, HORROR 9                     1\n",
      "Name: genre_and_votes, Length: 37957, dtype: int64\n",
      "1936719002    1\n",
      "0805098534    1\n",
      "0886777992    1\n",
      "1935192671    1\n",
      "142010375X    1\n",
      "             ..\n",
      "014240165X    1\n",
      "0425093255    1\n",
      "1945631104    1\n",
      "074349282X    1\n",
      "9500303302    1\n",
      "Name: isbn, Length: 32284, dtype: int64\n",
      "9781595145956    1\n",
      "9781939457134    1\n",
      "9780752805825    1\n",
      "9781420103755    1\n",
      "9780345324191    1\n",
      "                ..\n",
      "9781596913431    1\n",
      "9781548159887    1\n",
      "9780312346065    1\n",
      "9781476717487    1\n",
      "9781845334574    1\n",
      "Name: isbn13, Length: 31660, dtype: int64\n",
      "B006UZ70P2    1\n",
      "B07DRJN56C    1\n",
      "B008IEJTSE    1\n",
      "B07HQN7KRC    1\n",
      "B008ODKYHY    1\n",
      "             ..\n",
      "B07HF2ZK75    1\n",
      "B00JJY7XY4    1\n",
      "B00I9JLGWU    1\n",
      "B01BKR478M    1\n",
      "B006ZT0IIE    1\n",
      "Name: asin, Length: 4154, dtype: int64\n",
      "UNITED STATES OF AMERICA                                                       514\n",
      "LONDON, ENGLAND                                                                189\n",
      "UNITED KINGDOM                                                                 188\n",
      "NEW YORK CITY, NEW YORK(UNITED STATES)                                         164\n",
      "ENGLAND                                                                         93\n",
      "                                                                              ... \n",
      "UNITED STATES OF AMERICA ALASKA(UNITED STATES)                                   1\n",
      "ATLANTIC OCEAN TIBET                                                             1\n",
      "NEW YORK CITY, NEW YORK,1912(UNITED STATES)                                      1\n",
      "ATLANTA, GEORGIA(UNITED STATES) SHADY CREEK, GEORGIA GEORGIA(UNITED STATES)      1\n",
      "KENETTRA                                                                         1\n",
      "Name: settings, Length: 4443, dtype: int64\n",
      "EVE DALLAS, ROARKE                                                                                                                                                23\n",
      "JACK AUBREY, STEPHEN MATURIN                                                                                                                                      18\n",
      "INSPECTOR JOHN REBUS                                                                                                                                              13\n",
      "NANCY DREW                                                                                                                                                        11\n",
      "DAMALI RICHARDS                                                                                                                                                   10\n",
      "                                                                                                                                                                  ..\n",
      "MARY LANG, JAMES EASTON, FELICITY FRAME, ANNE TRELEAVEN, QUEEN VICTORIA                                                                                            1\n",
      "MAYA, JACK COLE, STEPHANIE LOGAN, MILES RAYMOND                                                                                                                    1\n",
      "OLIVER QUEEN, HARVEY DENT, SUPERMAN, ALFRED PENNYWORTH, CARRIE KELLEY, JAMES GORDON, SELINA KYLE, BRUCE WAYNE, JOKER                                               1\n",
      "MARK FULLER, COCÃ³, TIAN TIAN                                                                                                                                      1\n",
      "MUMINMAMMAN, MYMLANS DOTTER, LILLA MY, MUMINTROLLET, MUMINPAPPAN, SNUSMUMRIKEN, SNORKFRÃ¶KEN, HOMSAN, MISAN, EMMA, PARKVAKTEN, PARKTANTEN, FILIFJONKA, HEMULEN     1\n",
      "Name: characters, Length: 9967, dtype: int64\n",
      "GOODREADS CHOICE AWARD NOMINEE FOR YOUNG ADULT FICTION (2019)                                                                                                                                                 12\n",
      "LOVELYBOOKS LESERPREIS NOMINEE FOR ALLGEMEINE LITERATUR (2009)                                                                                                                                                12\n",
      "GOODREADS CHOICE AWARD NOMINEE FOR ROMANCE (2017)                                                                                                                                                             12\n",
      "GOODREADS CHOICE AWARD NOMINEE FOR ROMANCE (2016)                                                                                                                                                             12\n",
      "GOODREADS CHOICE AWARD NOMINEE FOR PARANORMAL FANTASY (2012)                                                                                                                                                  11\n",
      "                                                                                                                                                                                                              ..\n",
      "LOS ANGELES TIMES BOOK PRIZE FOR SCIENCE AND TECHNOLOGY (2007)                                                                                                                                                 1\n",
      "SCOTIABANK GILLER PRIZE NOMINEE (1995)                                                                                                                                                                         1\n",
      "FRIEDRICH-GLAUSER-PREIS FOR DEBÃ¼TROMAN (2006)                                                                                                                                                                 1\n",
      "PRIX RODOLPHE TÃ¶PFFER POUR LA JEUNE BANDE DESSINÃ©E GENEVOISE (2001), PRIX DU FESTIVAL D'ANGOULÃªME NOMINEE FOR ALPH-ART DU MEILLEUR ALBUM (2002), TROFÃ©U HQMIX FOR EDIÃ§Ã£O ESPECIAL ESTRANGEIRA (2015)     1\n",
      "NEBULA AWARD FOR BEST NOVEL (2003), ARTHUR C. CLARKE AWARD NOMINEE (2003)                                                                                                                                      1\n",
      "Name: awards, Length: 7427, dtype: int64\n",
      "HTTPS://WWW.GOODREADS.COM//BOOK_LINK/FOLLOW/17439?BOOK_ID=177076&SOURCE=DROPDOWN      1\n",
      "HTTPS://WWW.GOODREADS.COM//BOOK_LINK/FOLLOW/17439?BOOK_ID=127586&SOURCE=DROPDOWN      1\n",
      "HTTPS://WWW.GOODREADS.COM//BOOK_LINK/FOLLOW/17439?BOOK_ID=107966&SOURCE=DROPDOWN      1\n",
      "HTTPS://WWW.GOODREADS.COM//BOOK_LINK/FOLLOW/17439?BOOK_ID=826583&SOURCE=DROPDOWN      1\n",
      "HTTPS://WWW.GOODREADS.COM//BOOK_LINK/FOLLOW/17439?BOOK_ID=10308452&SOURCE=DROPDOWN    1\n",
      "                                                                                     ..\n",
      "HTTPS://WWW.GOODREADS.COM//BOOK_LINK/FOLLOW/17439?BOOK_ID=19254151&SOURCE=DROPDOWN    1\n",
      "HTTPS://WWW.GOODREADS.COM//BOOK_LINK/FOLLOW/17439?BOOK_ID=24961285&SOURCE=DROPDOWN    1\n",
      "HTTPS://WWW.GOODREADS.COM//BOOK_LINK/FOLLOW/17439?BOOK_ID=2855642&SOURCE=DROPDOWN     1\n",
      "HTTPS://WWW.GOODREADS.COM//BOOK_LINK/FOLLOW/17439?BOOK_ID=266666&SOURCE=DROPDOWN      1\n",
      "HTTPS://WWW.GOODREADS.COM//BOOK_LINK/FOLLOW/17439?BOOK_ID=46058612&SOURCE=DROPDOWN    1\n",
      "Name: amazon_redirect_link, Length: 41759, dtype: int64\n",
      "HTTPS://WWW.GOODREADS.COM//BOOK_LINK/FOLLOW/8?BOOK_ID=9915707     1\n",
      "HTTPS://WWW.GOODREADS.COM//BOOK_LINK/FOLLOW/8?BOOK_ID=2653622     1\n",
      "HTTPS://WWW.GOODREADS.COM//BOOK_LINK/FOLLOW/8?BOOK_ID=21897149    1\n",
      "HTTPS://WWW.GOODREADS.COM//BOOK_LINK/FOLLOW/8?BOOK_ID=7715816     1\n",
      "HTTPS://WWW.GOODREADS.COM//BOOK_LINK/FOLLOW/8?BOOK_ID=8104355     1\n",
      "                                                                 ..\n",
      "HTTPS://WWW.GOODREADS.COM//BOOK_LINK/FOLLOW/8?BOOK_ID=762040      1\n",
      "HTTPS://WWW.GOODREADS.COM//BOOK_LINK/FOLLOW/8?BOOK_ID=23822838    1\n",
      "HTTPS://WWW.GOODREADS.COM//BOOK_LINK/FOLLOW/8?BOOK_ID=2336        1\n",
      "HTTPS://WWW.GOODREADS.COM//BOOK_LINK/FOLLOW/8?BOOK_ID=18193486    1\n",
      "HTTPS://WWW.GOODREADS.COM//BOOK_LINK/FOLLOW/8?BOOK_ID=44274121    1\n",
      "Name: worldcat_redirect_link, Length: 38556, dtype: int64\n",
      "871181, 871181, 581003, 412668, 1557364, 1247303, 1803569, 1557360, 1557376, 1557355, 1462252                                                                                                   29\n",
      "764220, 764220, 850410, 850411, 850385, 850413, 850397, 850390, 1806174, 1207062, 764225                                                                                                         8\n",
      "52121879, 52121879, 52122100                                                                                                                                                                     6\n",
      "52122100, 52122100                                                                                                                                                                               5\n",
      "32978021, 32978021, 36541951, 40942107                                                                                                                                                           5\n",
      "                                                                                                                                                                                                ..\n",
      "21795430, 21795430, 15799166, 22361144, 16099159, 21417430, 17828418, 18138755, 16140036, 18346345, 18149927, 21795442, 17411703, 17930773, 25208536, 16033902, 17675048, 41060893, 17255265     1\n",
      "28256253, 28256253, 343508, 38362811, 41028045, 248787, 721007, 38311414, 8739264, 24611818, 20685373, 296535, 99894, 40605640, 12799058, 36473940, 961831, 43253240, 23360118                   1\n",
      "704043, 704043, 715791, 4769247, 3373198, 1928873, 44316010, 7384801, 1388813, 6481245, 12042279, 8150317, 17184930, 14384, 22008590, 13170607, 476543, 2712967, 6944032                         1\n",
      "46074122, 46074122, 3418962, 3418964, 3418975, 6757893, 22546691, 52759540, 33652276, 27015382, 26457233, 35599362, 25877517, 3836, 43456820, 12822875, 42346392, 4769651, 21996360              1\n",
      "45144178, 45144178, 41064227, 43885041, 44287119, 39088984, 51310795, 43886034, 11007587, 26245853, 24244, 18353714, 12849385, 40606240, 15791154, 20767918, 35959808, 43801724, 7959473         1\n",
      "Name: recommended_books, Length: 38496, dtype: int64\n",
      "479309, 268601, 238126, 201175, 74036, 132778, 238125, 172691, 268598, 213975                         46\n",
      "32979, 233637, 156979, 48764, 101001, 546255, 32978, 32977, 117645, 48795                             39\n",
      "106588, 106584, 106554, 106552, 106582, 157088, 171731, 735116, 1507235, 1747741                      34\n",
      "17255435, 17733861, 17925397, 18813530, 18191814, 18967087, 21466236, 23790992, 24089731, 24695337    31\n",
      "15759610, 16154457, 16154478, 16154488, 16085045, 16154511, 16154527, 16154537, 15763472, 16154561    26\n",
      "                                                                                                      ..\n",
      "270804, 7171876                                                                                        1\n",
      "290502, 371080, 290512, 84028, 290506, 361718, 371064, 137956, 282613, 2004357                         1\n",
      "165361, 165319, 2650681, 28686775                                                                      1\n",
      "328936, 157180, 62901, 492919, 360562, 564547, 557307, 108386, 266944, 29395                           1\n",
      "14384, 14383, 435045, 2003625, 3585344, 16145662, 6337006, 7098304, 8534799, 10790516                  1\n",
      "Name: books_in_series, Length: 16336, dtype: int64\n",
      "                                                                                                                                                                                                                                                                                                                                                                                                                                                                                                                                                                                                                                                                                                                                                                                                                                                                                                                                                                                                                                                                                                                                                                                                                                                                                                                                                                                                                                                                                                                                                                                                                                                                                                                                                                                                                                                                                                                                                                                                                                                                                                                                                                                                                                                                                                                                                                                                                                                                                                                                                                                                                                                                                                                                                                                                                                                                                                                                                                                                                                                                                                                                                                                                  145\n",
      "ÙØ°Ù ÙÙ Ø·Ø¨Ø¹Ø© \"Ø¯Ø§Ø± Ø§ÙÙÙØ± - Ø¨ÙØ±ÙØª\" ÙÙÙ Ø¢Ø®Ø± Ø·Ø¨Ø¹Ø© Ø¹Ø±Ø¨ÙØ© ØªÙ",
      " Ø§ØΜØ¯Ø§Ø±ÙØ§ Ø­ØªÙ Ø§ÙØ¢Ù Ø¹ÙÙ 47 Ø¬Ø²Ø¡ ÙÙ 23 Ù",
      "Ø¬ÙØ¯ Ø¨Ø§ÙØ§Ø¶Ø§ÙØ© Ø§ÙÙ Ù",
      "Ø¬ÙØ¯ Ø®Ø§ØΜ Ø¨Ø§ÙÙÙØ§Ø±Ø³ ÙØªØ¨Ù Ø§ÙØ§Ø³ØªØ§Ø° Ù",
      "Ø­Ù",
      "Ø¯ Ø¹Ø¨Ø¯ Ø§ÙØ±Ø­ÙÙ",
      " Ø¨Ù",
      "ÙØ¯Ù",
      "Ø© Ø®Ø§ØΜØ© ÙØ³Ø±Ø¯ Ø³ÙØ±Ø© Ø§ÙÙÙÙØ³ÙÙ \"ÙÙÙ Ø¯ÙÙØ±Ø§ÙØª\" Ù",
      "Ø¤ÙÙ Ø§ÙÙ",
      "ÙØ³ÙØ¹Ø© Ø§ÙØ§Ø´ÙØ± ÙÙ Ø§ÙÙØ±Ù Ø§ÙØ¹Ø´Ø±ÙÙ ÙØªØ§Ø¨ Ù",
      "ÙØ³ÙØ¹Ù ØªØ§Ø±ÙØ®Ù Ø¶Ø®Ù",
      " Ù",
      "Ù ØªØ£ÙÙÙ Ø§ÙÙÙÙØ³ÙÙ ÙØ§ÙÙ",
      "Ø¤Ø±Ø® Ø§ÙØ£Ù",
      "Ø±ÙÙÙ \"ÙÙÙ Ø¯ÙÙØ±Ø§ÙØª\" ÙØ²ÙØ¬ØªÙ \"Ø£Ø±ÙÙ Ø¯ÙÙØ±Ø§ÙØª\". ÙÙ Ù",
      "ÙØ³ÙØ¹Ø© ÙÙ ÙÙØ³ÙØ© Ø§ÙØªØ§Ø±ÙØ® ÙØ¶Ù Ù",
      "Ø¤ÙÙÙØ§ Ø¹Ø´Ø±Ø§Øª Ø§ ÙØ°Ù ÙÙ Ø·Ø¨Ø¹Ø© \"Ø¯Ø§Ø± Ø§ÙÙÙØ± - Ø¨ÙØ±ÙØª\" ÙÙÙ Ø¢Ø®Ø± Ø·Ø¨Ø¹Ø© Ø¹Ø±Ø¨ÙØ© ØªÙ",
      " Ø§ØΜØ¯Ø§Ø±ÙØ§ Ø­ØªÙ Ø§ÙØ¢Ù Ø¹ÙÙ 47 Ø¬Ø²Ø¡ ÙÙ 23 Ù",
      "Ø¬ÙØ¯ Ø¨Ø§ÙØ§Ø¶Ø§ÙØ© Ø§ÙÙ Ù",
      "Ø¬ÙØ¯ Ø®Ø§ØΜ Ø¨Ø§ÙÙÙØ§Ø±Ø³ ÙØªØ¨Ù Ø§ÙØ§Ø³ØªØ§Ø° Ù",
      "Ø­Ù",
      "Ø¯ Ø¹Ø¨Ø¯ Ø§ÙØ±Ø­ÙÙ",
      " Ø¨Ù",
      "ÙØ¯Ù",
      "Ø© Ø®Ø§ØΜØ© ÙØ³Ø±Ø¯ Ø³ÙØ±Ø© Ø§ÙÙÙÙØ³ÙÙ \"ÙÙÙ Ø¯ÙÙØ±Ø§ÙØª\" Ù",
      "Ø¤ÙÙ Ø§ÙÙ",
      "ÙØ³ÙØ¹Ø© Ø§ÙØ§Ø´ÙØ± ÙÙ Ø§ÙÙØ±Ù Ø§ÙØ¹Ø´Ø±ÙÙ ÙØªØ§Ø¨ Ù",
      "ÙØ³ÙØ¹Ù ØªØ§Ø±ÙØ®Ù Ø¶Ø®Ù",
      " Ù",
      "Ù ØªØ£ÙÙÙ Ø§ÙÙÙÙØ³ÙÙ ÙØ§ÙÙ",
      "Ø¤Ø±Ø® Ø§ÙØ£Ù",
      "Ø±ÙÙÙ \"ÙÙÙ Ø¯ÙÙØ±Ø§ÙØª\" ÙØ²ÙØ¬ØªÙ \"Ø£Ø±ÙÙ Ø¯ÙÙØ±Ø§ÙØª\". ÙÙ Ù",
      "ÙØ³ÙØ¹Ø© ÙÙ ÙÙØ³ÙØ© Ø§ÙØªØ§Ø±ÙØ® ÙØ¶Ù Ù",
      "Ø¤ÙÙÙØ§ Ø¹Ø´Ø±Ø§Øª Ø§ÙØ³ÙÙÙ ÙÙ Ø¥Ø¹Ø¯Ø§Ø¯ÙØ§Ø ÙÙØ±Ø£ ÙØ°ÙÙ Ø¹Ø´Ø±Ø§Øª Ø§ÙÙ",
      "Ø¤ÙÙØ§Øª ÙØ·Ø§Ù Ø¨Ø¬Ù",
      "ÙØ¹ Ø£Ø±Ø¬Ø§Ø¡ Ø§ÙØ¹Ø§ÙÙ",
      " Ù",
      "Ù Ø´Ø±ÙÙØ© Ø¥ÙÙ ØºØ±Ø¨ÙØ© Ø£ÙØ«Ø± Ù",
      "Ù Ù",
      "Ø±Ø© Ø¹ÙÙ Ù",
      "Ø¯Ø§Ø± 40 Ø¹Ø§Ù",
      "ÙØ§ Ù",
      "Ù Ø¹Ø§Ù",
      " 1935 Ø­ØªÙ Ø¹Ø§Ù",
      " 1975Ø ÙØ­Ø³Ø¨ Ø§ÙÙØ§Ø±Ø¦ Ø¯ÙÙÙØ§ Ø¹ÙÙ Ø§ÙØ¬ÙØ¯ Ø§ÙØ°Ù Ø¨Ø°ÙÙ ÙÙ Ø¥Ø¹Ø¯Ø§Ø¯ Ø§ÙØ¹Ø¯Ø© ÙÙØ§ Ø£Ù ÙØ·ÙØ¹ Ø¹ÙÙ Ø«Ø¨Øª Ø§ÙÙ",
      "Ø±Ø§Ø¬Ø¹ Ø§ÙØ¹Ø§Ù",
      "Ø© ÙØ§ÙØ®Ø§ØΜØ© Ø§ÙØ°Ù Ø£Ø«Ø¨ØªÙØ§Ù ÙÙ Ø¢Ø®Ø± ÙÙ Ø¬Ø²Ø¡ Ù",
      "Ù ÙØ°Ù Ø§ÙØ£Ø¬Ø²Ø§Ø¡. ÙÙØ¯ ÙØ§Ù ÙØ¹ØªØ²Ù",
      " ÙÙ Ø¨Ø§Ø¯Ø¦ Ø§ÙØ£Ù",
      "Ø± Ø£Ù ØªÙÙÙ ÙØ°Ù Ø§ÙØ³ÙØ³ÙØ© ÙÙ Ø®Ù",
      "Ø³Ø© Ù",
      "Ø¬ÙØ¯Ø§ØªØ ÙÙÙÙ Ø§ÙØ¨Ø­Ø« ØªØ´Ø¹Ø¨ ÙØ§ÙÙ",
      "Ø§Ø¯Ø© ÙØ«Ø±Øª ÙØ²Ø§Ø¯ÙØ§ Ø¥ÙÙ Ø³Ø¨Ø¹Ø©Ø Ø«Ù",
      " ØªØ¬Ø§ÙØ²Øª ÙØ°Ø§ Ø§ÙØ¹Ø¯Ø¯ Ø§ÙØ°Ù ÙØ¯Ø±Ù ÙÙØ§ Ø£Ø®ÙØ±Ø§Ù ÙÙØ±Ø±ÙØ§ ÙÙ 11 Ù",
      "Ø¬ÙØ¯. ÙØªØ­Ø¯Ø« ÙÙÙØ§ Ø¹Ù ÙØΜØ© Ø¬Ù",
      "ÙØ¹ Ø§ÙØ­Ø¶Ø§Ø±Ø§Øª Ø§ÙØ¨Ø´Ø±ÙØ© Ù",
      "ÙØ° Ø¨Ø¯Ø§ÙØªÙØ§ ÙØ­ØªÙ Ø¹ØΜØ± ÙØ§Ø¨ÙÙÙÙ ÙÙØªØ³Ù",
      " Ø¨Ø§ÙÙ",
      "ÙØ¶ÙØ¹ÙØ© ÙØ¨Ø§ÙÙ",
      "ÙÙØ¬ Ø§ÙØ¹ÙÙ",
      "Ù ÙØ§ÙØ®ÙØ§ØΜØ© Ø£Ù ÙØ°Ù Ø§ÙØ³ÙØ³ÙØ© Ø°Ø®ÙØ±Ø© Ø¹ÙÙ",
      "ÙØ© ÙØ§ ØºÙÙ Ø¹ÙÙØ§ ÙÙÙ",
      "ÙØªØ¨Ø© Ø§ÙØ¹Ø±Ø¨ÙØ© ÙÙØ¹Ø´Ø§Ù Ø§ÙØªØ§Ø±ÙØ® ÙØ§ÙÙÙØ³ÙØ© ÙØ§ÙØ£Ø¯Ø¨ ÙØ§ÙØ¹ÙÙ",
      " ÙØ§ÙÙÙ ÙØ§ÙØ§Ø¬ØªÙ",
      "Ø§Ø¹ ÙØ¬Ù",
      "ÙØ¹ Ù",
      "ÙÙÙ",
      "Ø§Øª Ø§ÙØ­Ø¶Ø§Ø±Ø©.  Ø§ÙØªØ±Ø¬Ù",
      "Ø© Ø§ÙØ¹Ø±Ø¨ÙØ©:  ØªÙ",
      "Øª ØªØ±Ø¬Ù",
      "Ø© Ø§ÙÙØªØ§Ø¨ Ø¥ÙÙ Ø§ÙÙØºØ© Ø§ÙØ¹Ø±Ø¨ÙØ© ÙØ£ØΜØ¯Ø±ØªÙ Ø§ÙÙ",
      "ÙØ¸Ù",
      "Ø© Ø§ÙØ¹Ø±Ø¨ÙØ© ÙÙØªØ±Ø¨ÙØ© ÙØ§ÙØ«ÙØ§ÙØ© ÙØ§ÙØ¹ÙÙÙ",
      " Ø§ÙØªØ§Ø¨Ø¹Ø© ÙØ¬Ø§Ù",
      "Ø¹Ø© Ø§ÙØ¯ÙÙ Ø§ÙØ¹Ø±Ø¨ÙØ© ÙØ¯Ø§Ø± Ø§ÙØ¬ÙÙ ÙÙ Ø¨ÙØ±ÙØª Ø³ÙØ© 1988  Ø§ÙÙØ³Ø®Ø© Ø§ÙØ¹Ø±Ø¨ÙØ© ØªØªÙÙÙ Ù",
      "Ù 42 Ø¬Ø²Ø¡ ÙÙ 24 Ù",
      "Ø¬ÙØ¯Ø ØªÙØ§ÙØ¨ Ø¹ÙÙ ØªØ±Ø¬Ù",
      "ØªÙ ÙØ®Ø¨Ø© Ù",
      "Ù Ø§ÙØ§Ø³Ø§ØªØ°Ù ÙÙ Ø§ÙÙÙØ³ÙØ© ÙØ§ÙØªØ§Ø±ÙØ® ÙØ§ÙØ¹ÙÙÙ",
      ".     33\n",
      "THIS SCARCE ANTIQUARIAN BOOK IS A FACSIMILE REPRINT OF THE ORIGINAL. DUE TO ITS AGE, IT MAY CONTAIN IMPERFECTIONS SUCH AS MARKS, NOTATIONS, MARGINALIA AND FLAWED PAGES. BECAUSE WE BELIEVE THIS WORK IS CULTURALLY IMPORTANT, WE HAVE MADE IT AVAILABLE AS PART OF OUR COMMITMENT FOR PROTECTING, PRESERVING, AND PROMOTING THE WORLD'S LITERATURE IN AFFORDABLE, HIGH QUALITY, MODERN THIS SCARCE ANTIQUARIAN BOOK IS A FACSIMILE REPRINT OF THE ORIGINAL. DUE TO ITS AGE, IT MAY CONTAIN IMPERFECTIONS SUCH AS MARKS, NOTATIONS, MARGINALIA AND FLAWED PAGES. BECAUSE WE BELIEVE THIS WORK IS CULTURALLY IMPORTANT, WE HAVE MADE IT AVAILABLE AS PART OF OUR COMMITMENT FOR PROTECTING, PRESERVING, AND PROMOTING THE WORLD'S LITERATURE IN AFFORDABLE, HIGH QUALITY, MODERN EDITIONS THAT ARE TRUE TO THE ORIGINAL WORK.                                                                                                                                                                                                                                                                                                                                                                                                                                                                                                                                                                                                                                                                                                                                                                                                                                                                                                                                                                                                                                                                                                                                                                                                                                                                                                                                                                                                                                                                                                                                                                                                                                                                                                                                                                                                                                                                                                                                                                                                                                                                                                                                                                                                                                                                                                                                                                       15\n",
      "THIS BOOK WAS CONVERTED FROM ITS PHYSICAL EDITION TO THE DIGITAL FORMAT BY A COMMUNITY OF VOLUNTEERS. YOU MAY FIND IT FOR FREE ON THE WEB. PURCHASE OF THE KINDLE EDITION INCLUDES WIRELESS DELIVERY.                                                                                                                                                                                                                                                                                                                                                                                                                                                                                                                                                                                                                                                                                                                                                                                                                                                                                                                                                                                                                                                                                                                                                                                                                                                                                                                                                                                                                                                                                                                                                                                                                                                                                                                                                                                                                                                                                                                                                                                                                                                                                                                                                                                                                                                                                                                                                                                                                                                                                                                                                                                                                                                                                                                                                                                                                                                                                                                                                                                              11\n",
      "THIS IS A PRE-1923 HISTORICAL REPRODUCTION THAT WAS CURATED FOR QUALITY. QUALITY ASSURANCE WAS CONDUCTED ON EACH OF THESE BOOKS IN AN ATTEMPT TO REMOVE BOOKS WITH IMPERFECTIONS INTRODUCED BY THE DIGITIZATION PROCESS. THOUGH WE HAVE MADE BEST EFFORTS - THE BOOKS MAY HAVE OCCASIONAL ERRORS THAT DO NOT IMPEDE THE READING EXPERIENCE. WE BELIEVE THIS WORK IS CULTURALLY IMPORTAN THIS IS A PRE-1923 HISTORICAL REPRODUCTION THAT WAS CURATED FOR QUALITY. QUALITY ASSURANCE WAS CONDUCTED ON EACH OF THESE BOOKS IN AN ATTEMPT TO REMOVE BOOKS WITH IMPERFECTIONS INTRODUCED BY THE DIGITIZATION PROCESS. THOUGH WE HAVE MADE BEST EFFORTS - THE BOOKS MAY HAVE OCCASIONAL ERRORS THAT DO NOT IMPEDE THE READING EXPERIENCE. WE BELIEVE THIS WORK IS CULTURALLY IMPORTANT AND HAVE ELECTED TO BRING THE BOOK BACK INTO PRINT AS PART OF OUR CONTINUING COMMITMENT TO THE PRESERVATION OF PRINTED WORKS WORLDWIDE.                                                                                                                                                                                                                                                                                                                                                                                                                                                                                                                                                                                                                                                                                                                                                                                                                                                                                                                                                                                                                                                                                                                                                                                                                                                                                                                                                                                                                                                                                                                                                                                                                                                                                                                                                                                                                                                                                                                                                                                                                                                                                                                                                                                                                                                                            8\n",
      "                                                                                                                                                                                                                                                                                                                                                                                                                                                                                                                                                                                                                                                                                                                                                                                                                                                                                                                                                                                                                                                                                                                                                                                                                                                                                                                                                                                                                                                                                                                                                                                                                                                                                                                                                                                                                                                                                                                                                                                                                                                                                                                                                                                                                                                                                                                                                                                                                                                                                                                                                                                                                                                                                                                                                                                                                                                                                                                                                                                                                                                                                                                                                                                                 ... \n",
      "WOLF TOWN GUARDIANS - BORN TO WALK THIS WORLD AS BOTH WOLF AND HUMAN, THESE MEN TAKE THEIR ROLE AS PROTECTORS VERY SERIOUSLY. ENJOYING SENSUAL PLEASURES AS THEY PLEASE, THIS GROUP OF ALPHA WEREWOLVES ARE THE FINEST WHEN IT COMES TO PROTECTING THEIR HIDDEN SETTLEMENT. GUARDIANS ARE THE MASTERS OF SELF-CONTROL, TAKING PRIDE IN THEIR AUTHORITY AND HARD, MUSCLED BODIES. THAT AL WOLF TOWN GUARDIANS - BORN TO WALK THIS WORLD AS BOTH WOLF AND HUMAN, THESE MEN TAKE THEIR ROLE AS PROTECTORS VERY SERIOUSLY. ENJOYING SENSUAL PLEASURES AS THEY PLEASE, THIS GROUP OF ALPHA WEREWOLVES ARE THE FINEST WHEN IT COMES TO PROTECTING THEIR HIDDEN SETTLEMENT. GUARDIANS ARE THE MASTERS OF SELF-CONTROL, TAKING PRIDE IN THEIR AUTHORITY AND HARD, MUSCLED BODIES. THAT ALL CHANGES AT THE FIRST SCENT OF THEIR MATES. THEIR CONTROL SNAPS. THE MATING HEAT BEGINS. THIS IS THEIR STORIES. BOOK TWO, WOLF TOWN GUARDIANS RESIGNED TO NEVER KNOWING THE TRUTH ABOUT HIS MATE'S DISAPPEARANCE, MARROK WALKER IS A GUARDIAN WITH NOTHING LEFT TO LOSE. LATE ONE NIGHT, HIS ENTIRE WORLD IS TURNED UPSIDE DOWN WHEN TWO BATTERED WEREWOLVES STUMBLE INTO WOLF TOWN. THEY HAVE ESCAPED FROM A HIDDEN RESEARCH FACILITY IN NEW MEXICO, ONLY MOMENTS AWAY FROM DEATH. BEFORE LOSING CONSCIOUSNESS, ONE OF THEM MAKES A SHOCKING REVELATION. MARROK DISCOVERS HIS MATE IS STILL ALIVE... AND DESPERATE TO BE RESCUED. TAYLOR MOORE WAS JUST YOUR AVERAGE, VIRGIN ACCOUNTANT, UNTIL A SERIES OF HORRIFIC EVENTS ALTERED HER LIFE. PLUS-SIZED AND LOADED DOWN WITH RESPONSIBILITIES, SHE LETS HER BEST FRIEND TALK HER INTO TROUBLE. AT THE VERY LAST MOMENT, SHE'S RESCUED BY A TALL, DANGEROUS MALE RIDING A MOTORCYCLE. IT'S THE START OF SOMETHING WONDERFUL... UNTIL SHE'S ABDUCTED FROM HIM AND TAKEN TO HELL'S PIT. THROWN INTO A NIGHTMARISH WORLD BENEATH A MESA, SHE HAS HELD ONTO THE MEMORY OF THE ONE NIGHT SHE SPENT WITH THE HANDSOME, APACHE MAN. WHEN THE OPPORTUNITY COMES TO HELP TWO WEREWOLVES ESCAPE, SHE ASSISTS THEM, ASKING ONLY ONE THING IN RETURN. FIND THE WEREWOLF NAMED MARROK. NOW THAT HE KNOWS HIS MATE IS ALIVE, MARROK WON'T LET ANYTHING STAND IN THE WAY OF RECLAIMING HER. PLANNING A DARING RESCUE, THE GUARDIANS FREE THE PRISONERS, BUT CAN HE FREE TAYLOR FROM THE TIES THAT BIND HER? HIS MATE IS NO LONGER THE SAME WOMAN HE KNEW, BUT THE MATING HEAT DOESN'T CARE. IT EXPLODES, BURNING THEM BOTH UP ALIVE. TAYLOR CAN'T RESIST THE HOT, ALPHA WEREWOLF, BUT MARROK IS KNOWN FOR HIS RIGID SELF-CONTROL. HER PAST IS COMING BACK TO HAUNT HER.... WILL SHE BE ABLE TO SEDUCE THE WILD AND SAVAGE MAN BEFORE IT DOES?                                                                                                                                                                                                                                                                                                                                                                                                                                                                                                                                    1\n",
      "INTERNATIONALLY-RENOWNED ARTIST MAX ESTIN IS AS WELL KNOWN FOR HIS MILLION DOLLAR COMMISSIONS AS HE IS HIS PARTYING AND CLUBBING. BUT MAX IS HIDING A SECRETÂFOR ALMOST A YEAR HEÂS BEEN COMPLETELY BLOCKED. UNABLE TO PAINT. AND TO UNLOCK HIS ART, AND SAVE HIS CAREER, HEÂS GOING TO NEED THE ONE WOMAN HE NEVER WANTED TO SEE AGAIN.   INTERNATIONALLY-RENOWNED ARTIST MAX ESTIN IS AS WELL KNOWN FOR HIS MILLION DOLLAR COMMISSIONS AS HE IS HIS PARTYING AND CLUBBING. BUT MAX IS HIDING A SECRETÂFOR ALMOST A YEAR HEÂS BEEN COMPLETELY BLOCKED. UNABLE TO PAINT. AND TO UNLOCK HIS ART, AND SAVE HIS CAREER, HEÂS GOING TO NEED THE ONE WOMAN HE NEVER WANTED TO SEE AGAIN. KIRA ESTIN NEVER TOLD MAX EXACTLY WHY SHE LEFT, OR WHAT SECRETS FORCED HER TO RETURN HOME TO PASSION CREEK SO ABRUPTLY. SO WHEN A CHANCE REUNION TURNS TO SEDUCTION, KIRA IS MORE THAN A LITTLE SUSPICIOUS. SHE KNOWS BETTER THAN TO TRUST MAX, BUT CANÂT FIGHT THE FIRE THAT HE LIGHTS IN HER BODYÂOR HER HEART. BUT WHEN EVERYONE IS HIDING A SECRET, CAN EVEN THE HOTTEST PASSION SURVIVE?                                                                                                                                                                                                                                                                                                                                                                                                                                                                                                                                                                                                                                                                                                                                                                                                                                                                                                                                                                                                                                                                                                                                                                                                                                                                                                                                                                                                                                                                                                                                                                                                                                                                                                                                                                                                                                                                                                                                                                                                                                                                                                   1\n",
      "TOUGH BUT OFTEN MISUNDERSTOOD, MORGAN MILLER STRUGGLES TO COME TO GRIPS WITH THE FACT THAT HER BEST FRIEND JUST DUMPED HER.                                                                                                                                                                                                                                                                                                                                                                                                                                                                                                                                                                                                                                                                                                                                                                                                                                                                                                                                                                                                                                                                                                                                                                                                                                                                                                                                                                                                                                                                                                                                                                                                                                                                                                                                                                                                                                                                                                                                                                                                                                                                                                                                                                                                                                                                                                                                                                                                                                                                                                                                                                                                                                                                                                                                                                                                                                                                                                                                                                                                                                                                         1\n",
      "IS Â A CAPTIVATING NOVEL ABOUT THE WOMAN WHO CHAPERONED AN IRREVERENT LOUISE BROOKS TO NEW YORK CITY IN 1922 AND THE SUMMER THAT WOULD CHANGE THEM BOTH. Â  ONLY A FEW YEARS BEFORE BECOMING A FAMOUS SILENT-FILM STAR AND AN ICON OF HER GENERATION, A FIFTEEN-YEAR-OLD LOUISE BROOKS LEAVES WICHITA, KANSAS, TO STUDY WITH THE PRESTIGIOUS DENISHAWN SCHOOL OF DANCING IN N IS Â A CAPTIVATING NOVEL ABOUT THE WOMAN WHO CHAPERONED AN IRREVERENT LOUISE BROOKS TO NEW YORK CITY IN 1922 AND THE SUMMER THAT WOULD CHANGE THEM BOTH. Â  ONLY A FEW YEARS BEFORE BECOMING A FAMOUS SILENT-FILM STAR AND AN ICON OF HER GENERATION, A FIFTEEN-YEAR-OLD LOUISE BROOKS LEAVES WICHITA, KANSAS, TO STUDY WITH THE PRESTIGIOUS DENISHAWN SCHOOL OF DANCING IN NEW YORK. MUCH TO HER ANNOYANCE, SHE IS ACCOMPANIED BY A THIRTY-SIX-YEAR-OLD CHAPERONE, WHO IS NEITHER MOTHER NOR FRIEND. CORA CARLISLE, A COMPLICATED BUT TRADITIONAL WOMAN WITH HER OWN REASONS FOR MAKING THE TRIP, HAS NO IDEA WHAT SHEÂS IN FOR. YOUNG LOUISE, ALREADY STUNNINGLY BEAUTIFUL AND SPORTING HER FAMOUS BLACK BOB WITH BLUNT BANGS, IS KNOWN FOR HER ARROGANCE AND HER LACK OF RESPECT FOR CONVENTION. ULTIMATELY, THE FIVE WEEKS THEY SPEND TOGETHER WILL TRANSFORM THEIR LIVES FOREVER. Â  FOR CORA, THE CITY HOLDS THE PROMISE OF DISCOVERY THAT MIGHT ANSWER THE QUESTION AT THE CORE OF HER BEING, AND EVEN AS SHE DOES HER BEST TO WATCH OVER LOUISE IN THIS STRANGE AND BUSTLING PLACE SHE EMBARKS ON A MISSION OF HER OWN. AND WHILE WHAT SHE FINDS ISNÂT WHAT SHE ANTICIPATED, SHE IS LIBERATED IN A WAY SHE COULD NOT HAVE IMAGINED. OVER THE COURSE OF CORAÂS RELATIONSHIP WITH LOUISE, HER EYES ARE OPENED TO THE PROMISE OF THE TWENTIETH CENTURY AND A NEW UNDERSTANDING OF THE POSSIBILITIES FOR BEING FULLY ALIVE. Â  DRAWING ON THE RICH HISTORY OF THE 1920S,Â30S, AND BEYONDÂFROM THE ORPHAN TRAINS TO PROHIBITION, FLAPPERS, Â AND THE ONSET OF THE GREAT DEPRESSION TO THE BURGEONING MOVEMENT FOR EQUAL RIGHTS AND NEW OPPORTUNITIES FOR WOMENÂLAURA MORIARTYÂS   ILLUSTRATES HOW RAPIDLY EVERYTHING, FROM FASHION AND HEMLINES TO VALUES AND ATTITUDES, WAS CHANGING AT THIS TIME AND WHAT A VAST DIFFERENCE IT ALL MADE FOR LOUISE BROOKS, CORA CARLISLE, AND OTHERS LIKE THEM.                                                                                                                                                                                                                                                                                                                                                                                                                                                                                                                                                                                                                                                                                                                                                                                                                                                                                                    1\n",
      "IN HIS LATE THIRTIES, MAX FISCHER IS A SUCCESSFUL CARTOONIST LIVING IN LOS ANGELES. SCARRED BY RECENT LOVE AFFAIRS, HE IS CAUTIOUS YET INTRIGUED WHEN HE MEETS LILY AARON AND HER NINE-YEAR-OLD SON LINCOLN. LILY, THE MANAGER OF AN OFFBEAT RESTAURANT, DEVOTES HER LIFE TO RAISING HER SON ALONE. AS MAX SPENDS TIME WITH THE AARONS, HE FALLS IRRESISTIBLY IN LOVE WITH THEM. THE PE IN HIS LATE THIRTIES, MAX FISCHER IS A SUCCESSFUL CARTOONIST LIVING IN LOS ANGELES. SCARRED BY RECENT LOVE AFFAIRS, HE IS CAUTIOUS YET INTRIGUED WHEN HE MEETS LILY AARON AND HER NINE-YEAR-OLD SON LINCOLN. LILY, THE MANAGER OF AN OFFBEAT RESTAURANT, DEVOTES HER LIFE TO RAISING HER SON ALONE. AS MAX SPENDS TIME WITH THE AARONS, HE FALLS IRRESISTIBLY IN LOVE WITH THEM. THE PERFECT MATE, THE PERFECT CHILD - THE PERFECT SITUATION, SINCE THEY SEEM TO LOVE HIM, TOO, WITH EQUAL INTENSITY. BUT AS SOON AS MAX MOVES IN WITH THE AARONS, HE STARTS TO UNCOVER DISTURBING SECRETS ABOUT LILY. HE CAN FIND NO TRACE OF HER EX-HUSBAND. WORSE, HE DISCOVERS SHE HAS COMMITTED A CRIME SO HEINOUS THAT SHE HAS BEEN RUNNING FROM THE TRUTH FOR YEARS. IT HAS BEEN SAID THAT THE HEART DOES NOT KNOW FROM LOGIC. SHOULD MAX RIGHT LILY'S WRONG - SACRIFICING HIS ADOPTIVE FAMILY? OR SHOULD HE LOOK AWAY FROM THE TRUTH? EITHER CHOICE IS DEVASTATING.                                                                                                                                                                                                                                                                                                                                                                                                                                                                                                                                                                                                                                                                                                                                                                                                                                                                                                                                                                                                                                                                                                                                                                                                                                                                                                                                                                                                                                                                                                                                                                                                                                                                                                                                                                                                                                                 1\n",
      "Name: description, Length: 39375, dtype: int64\n",
      "38885373    1\n",
      "23700870    1\n",
      "41637280    1\n",
      "16065950    1\n",
      "9633181     1\n",
      "           ..\n",
      "9753303     1\n",
      "6101718     1\n",
      "6177493     1\n",
      "297684      1\n",
      "27233899    1\n",
      "Name: id, Length: 10440, dtype: int64\n",
      "SELECTED POEMS             4\n",
      "PERFECT                    4\n",
      "POSSESSION                 3\n",
      "BROKEN                     3\n",
      "HIDE AND SEEK              3\n",
      "                          ..\n",
      "TSCHICK                    1\n",
      "AND QUIET FLOWS THE DON    1\n",
      "AMONG THE FREE             1\n",
      "MEDIEVAL MENACE            1\n",
      "COMMUNION: A TRUE STORY    1\n",
      "Name: title, Length: 10291, dtype: int64\n",
      "HTTPS://WWW.GOODREADS.COM//BOOK/SHOW/1255731.ROBIN_WILLIAMS                    1\n",
      "HTTPS://WWW.GOODREADS.COM//BOOK/SHOW/8495705-ENDURANCE                         1\n",
      "HTTPS://WWW.GOODREADS.COM//BOOK/SHOW/7641657-THE-BONE-CONJURER                 1\n",
      "HTTPS://WWW.GOODREADS.COM//BOOK/SHOW/4934587-TIME-QUAKE                        1\n",
      "HTTPS://WWW.GOODREADS.COM//BOOK/SHOW/17311008-THE-CAIN-CASEY-SERIES            1\n",
      "                                                                              ..\n",
      "HTTPS://WWW.GOODREADS.COM//BOOK/SHOW/20714091-BLIND-LOVE                       1\n",
      "HTTPS://WWW.GOODREADS.COM//BOOK/SHOW/6076413-BALLAD                            1\n",
      "HTTPS://WWW.GOODREADS.COM//BOOK/SHOW/7183665-PATRICIA-BRIGGS-MERCY-THOMPSON    1\n",
      "HTTPS://WWW.GOODREADS.COM//BOOK/SHOW/4735808-INVISIBLE-TERROR-COLLECTION       1\n",
      "HTTPS://WWW.GOODREADS.COM//BOOK/SHOW/452157.THE_ROAD_TO_THE_DARK_TOWER         1\n",
      "Name: link, Length: 10440, dtype: int64\n",
      "(STAR WARS LEGENDS)                         5\n",
      "(THE KNOWLEDGE)                             4\n",
      "(ÐÐ°Ð¼ÐΜÐ´Ð½Ð¸. ÐÐ°ÑÐ° ÑÑÐ°)           4\n",
      "(LOVE MEDICINE)                             3\n",
      "(MARIO PUZO'S MAFIA)                        2\n",
      "                                           ..\n",
      "(WORDLESS CHRONICLES #1)                    1\n",
      "(THE REMNANT CHRONICLES #2)                 1\n",
      "(NEUSEELAND-SAGA #3)                        1\n",
      "(THE DEVIL'S KISS #1.3 - INCLUDED IN #1)    1\n",
      "(THE BET #1)                                1\n",
      "Name: series, Length: 4627, dtype: int64\n",
      "HTTPS://I.GR-ASSETS.COM/IMAGES/S/COMPRESSED.PHOTO.GOODREADS.COM/BOOKS/1385508725L/130440.JPG             1\n",
      "HTTPS://I.GR-ASSETS.COM/IMAGES/S/COMPRESSED.PHOTO.GOODREADS.COM/BOOKS/1388228249L/35458.JPG              1\n",
      "HTTPS://I.GR-ASSETS.COM/IMAGES/S/COMPRESSED.PHOTO.GOODREADS.COM/BOOKS/1392837158L/20872449.JPG           1\n",
      "HTTPS://I.GR-ASSETS.COM/IMAGES/S/COMPRESSED.PHOTO.GOODREADS.COM/BOOKS/1275653975L/2368691.JPG            1\n",
      "HTTPS://I.GR-ASSETS.COM/IMAGES/S/COMPRESSED.PHOTO.GOODREADS.COM/BOOKS/1345249765L/15833906.JPG           1\n",
      "                                                                                                        ..\n",
      "HTTPS://I.GR-ASSETS.COM/IMAGES/S/COMPRESSED.PHOTO.GOODREADS.COM/BOOKS/1440051437L/5843145._SY475_.JPG    1\n",
      "HTTPS://I.GR-ASSETS.COM/IMAGES/S/COMPRESSED.PHOTO.GOODREADS.COM/BOOKS/1284933803L/5899954.JPG            1\n",
      "HTTPS://I.GR-ASSETS.COM/IMAGES/S/COMPRESSED.PHOTO.GOODREADS.COM/BOOKS/1389588800L/30283.JPG              1\n",
      "HTTPS://I.GR-ASSETS.COM/IMAGES/S/COMPRESSED.PHOTO.GOODREADS.COM/BOOKS/1340131724L/14811943.JPG           1\n",
      "HTTPS://I.GR-ASSETS.COM/IMAGES/S/COMPRESSED.PHOTO.GOODREADS.COM/BOOKS/1387664224L/455523.JPG             1\n",
      "Name: cover_link, Length: 10319, dtype: int64\n",
      "NORA ROBERTS                    22\n",
      "AGATHA CHRISTIE                 13\n",
      "MERCEDES LACKEY                 12\n",
      "L.J. SMITH                      12\n",
      "MEG CABOT                       12\n",
      "                                ..\n",
      "BRIAN K. VAUGHAN, PIA GUERRA     1\n",
      "GERDA WEISSMANN KLEIN            1\n",
      "ELLIOTT J. GORN                  1\n",
      "E.L. MONTES                      1\n",
      "CASEY WATSON                     1\n",
      "Name: author, Length: 7880, dtype: int64\n",
      "HTTPS://WWW.GOODREADS.COM/AUTHOR/SHOW/625.NORA_ROBERTS          25\n",
      "HTTPS://WWW.GOODREADS.COM/AUTHOR/SHOW/3780.JAMES_PATTERSON      22\n",
      "HTTPS://WWW.GOODREADS.COM/AUTHOR/SHOW/5158478.ANONYMOUS         20\n",
      "HTTPS://WWW.GOODREADS.COM/AUTHOR/SHOW/123715.AGATHA_CHRISTIE    15\n",
      "HTTPS://WWW.GOODREADS.COM/AUTHOR/SHOW/50873.L_J_SMITH           14\n",
      "                                                                ..\n",
      "HTTPS://WWW.GOODREADS.COM/AUTHOR/SHOW/26766.FELICE_PICANO        1\n",
      "HTTPS://WWW.GOODREADS.COM/AUTHOR/SHOW/870382.JOHN_BROTHERTON     1\n",
      "HTTPS://WWW.GOODREADS.COM/AUTHOR/SHOW/47232.LIZ_BERRY            1\n",
      "HTTPS://WWW.GOODREADS.COM/AUTHOR/SHOW/7079.BEN_FOUNTAIN          1\n",
      "HTTPS://WWW.GOODREADS.COM/AUTHOR/SHOW/3470.ROBIN_FURTH           1\n",
      "Name: author_link, Length: 7157, dtype: int64\n",
      "2        76\n",
      "1        72\n",
      "3        72\n",
      "4        67\n",
      "6        55\n",
      "         ..\n",
      "48915     1\n",
      "18196     1\n",
      "5910      1\n",
      "5926      1\n",
      "2047      1\n",
      "Name: rating_count, Length: 6406, dtype: int64\n",
      "0       280\n",
      "1       270\n",
      "2       195\n",
      "3       156\n",
      "4       144\n",
      "       ... \n",
      "1204      1\n",
      "3253      1\n",
      "3269      1\n",
      "1228      1\n",
      "5985      1\n",
      "Name: review_count, Length: 2432, dtype: int64\n",
      "320.0     190\n",
      "304.0     184\n",
      "352.0     176\n",
      "288.0     169\n",
      "256.0     164\n",
      "         ... \n",
      "929.0       1\n",
      "1067.0      1\n",
      "1128.0      1\n",
      "654.0       1\n",
      "925.0       1\n",
      "Name: number_of_pages, Length: 912, dtype: int64\n",
      "2009                 91\n",
      "2008                 83\n",
      "2006                 83\n",
      "2003                 82\n",
      "2004                 81\n",
      "                     ..\n",
      "NOVEMBER 5TH 2002     1\n",
      "JANUARY 1ST 1901      1\n",
      "MAY 24TH 2017         1\n",
      "APRIL 17TH 1995       1\n",
      "JUNE 10TH 2002        1\n",
      "Name: date_published, Length: 3958, dtype: int64\n",
      "VINTAGE                                                    115\n",
      "HARPERCOLLINS                                              111\n",
      "CREATESPACE INDEPENDENT PUBLISHING PLATFORM                 96\n",
      "PENGUIN BOOKS                                               89\n",
      "BALLANTINE BOOKS                                            75\n",
      "                                                          ... \n",
      "CADDY ROWLAND                                                1\n",
      "T C  SOUTHWELL, VIA SMASHWORDS                               1\n",
      "BAAE INC.                                                    1\n",
      "PONTO POCKET                                                 1\n",
      "ATHENEUM BOOKS FOR YOUNG READERS: RICHARD JACKSON BOOKS      1\n",
      "Name: publisher, Length: 3591, dtype: int64\n",
      "THE COLLECTED STORIES                   3\n",
      "PERFECT                                 3\n",
      "LEGACY                                  3\n",
      "HOME                                    3\n",
      "HIDE AND SEEK                           3\n",
      "                                       ..\n",
      "THE GIRL WHO COULD NOT DREAM            1\n",
      "GRAND DAYS                              1\n",
      "THE FEVER CODE                          1\n",
      "ELIZABETH IS MISSING                    1\n",
      "THE BAR CODE TATTOO (POINT THRILLER)    1\n",
      "Name: original_title, Length: 7709, dtype: int64\n",
      "FICTION 1USER                                                                                                                                             19\n",
      "FICTION 2                                                                                                                                                 13\n",
      "NONFICTION 1USER                                                                                                                                          11\n",
      "CHILDRENS 1USER                                                                                                                                           10\n",
      "CHILDRENS 2                                                                                                                                                9\n",
      "                                                                                                                                                          ..\n",
      "ART 126, FANTASY 53, PARANORMAL-FAIRIES 8                                                                                                                  1\n",
      "HISTORICAL-HISTORICAL FICTION 527, YOUNG ADULT 330, FANTASY 232, HISTORICAL 193, FICTION 102                                                               1\n",
      "MYSTERY 480, THRILLER 472, FICTION 304, MYSTERY-CRIME 234, SUSPENSE 172, DRAMA 136, THRILLER-MYSTERY THRILLER 104, NOVELS 45, DARK 39, CONTEMPORARY 39     1\n",
      "FICTION 34, CULTURAL-PAKISTAN 16, LITERARY FICTION 4                                                                                                       1\n",
      "YOUNG ADULT 552, ROMANCE 436, CONTEMPORARY 406, WOMENS FICTION-CHICK LIT 114, REALISTIC FICTION 95                                                         1\n",
      "Name: genre_and_votes, Length: 9605, dtype: int64\n",
      "0061784788    1\n",
      "0452275334    1\n",
      "0844669032    1\n",
      "0812558790    1\n",
      "0670321907    1\n",
      "             ..\n",
      "0140449299    1\n",
      "1590387759    1\n",
      "0310251044    1\n",
      "088776875X    1\n",
      "8804536810    1\n",
      "Name: isbn, Length: 8032, dtype: int64\n",
      "9.780451e+12    1\n",
      "9.780376e+12    1\n",
      "9.781108e+12    1\n",
      "9.781439e+12    1\n",
      "9.781481e+12    1\n",
      "               ..\n",
      "9.780718e+12    1\n",
      "9.781583e+12    1\n",
      "9.781565e+12    1\n",
      "9.780062e+12    1\n",
      "9.781595e+12    1\n",
      "Name: isbn13, Length: 7847, dtype: int64\n",
      "B074BHR5JG    1\n",
      "B077BTSK4H    1\n",
      "B00SSXHVK8    1\n",
      "B004SI455Q    1\n",
      "B015GP6PXY    1\n",
      "             ..\n",
      "B07PRQ78RB    1\n",
      "B010F7S5MM    1\n",
      "B008GASFDA    1\n",
      "B07BFB98H5    1\n",
      "B00ELRU1O8    1\n",
      "Name: asin, Length: 1082, dtype: int64\n",
      "UNITED STATES OF AMERICA                                                                                                                                                                                                                120\n",
      "NEW YORK CITY, NEW YORK(UNITED STATES)                                                                                                                                                                                                   42\n",
      "LONDON, ENGLAND                                                                                                                                                                                                                          41\n",
      "UNITED KINGDOM                                                                                                                                                                                                                           34\n",
      "CALIFORNIA(UNITED STATES)                                                                                                                                                                                                                26\n",
      "                                                                                                                                                                                                                                       ... \n",
      "LONDON, ENGLAND MOSCOW,1971(RUSSIAN FEDERATION) WALLACHIA,1972(ROMANIA) Â¦MORE COUNTY DURHAM, ENGLAND(UNITED KINGDOM) PITEÈTI,1975(ROMANIA) TITU,1975(ROMANIA) BONNYRIGG, MIDLOTHIAN, SCOTLAND,1976 LEIPZIG(GERMANY) ENDOR Â¦LESS      1\n",
      "STONEYBRIDGE(IRELAND)                                                                                                                                                                                                                     1\n",
      "GRAVESEND, NEW HAMPSHIRE(UNITED STATES) TORONTO, ONTARIO(CANADA)                                                                                                                                                                          1\n",
      "VENICE(ITALY) GENOA(ITALY) VALLETTA(MALTA) Â¦MORE GIETHOORN(NETHERLANDS) MUZAFFARGARH(PAKISTAN) SKOPJE(MACEDONIA, THE FORMER YUGOSLAV REPUBLIC OF) Â¦LESS                                                                               1\n",
      "ISANDOR                                                                                                                                                                                                                                   1\n",
      "Name: settings, Length: 1339, dtype: int64\n",
      "CALVIN, HOBBES                                                                                                                                                                                                                                                                                                                                                                                       9\n",
      "DIRK PITT, AL GIORDINO                                                                                                                                                                                                                                                                                                                                                                               4\n",
      "JUNIE B. JONES                                                                                                                                                                                                                                                                                                                                                                                       4\n",
      "HARRY PAGET FLASHMAN                                                                                                                                                                                                                                                                                                                                                                                 3\n",
      "DIANA, PRINCESS OF WALES                                                                                                                                                                                                                                                                                                                                                                             3\n",
      "                                                                                                                                                                                                                                                                                                                                                                                                    ..\n",
      "JEMIMA PUDDLE-DUCK                                                                                                                                                                                                                                                                                                                                                                                   1\n",
      "BEAR, THIA                                                                                                                                                                                                                                                                                                                                                                                           1\n",
      "ANYA ANDREYEVNA RANEVSKAYA, VARIA, FIICA ADOPTIVA A RANEVSKAIEI, GAEV LEONID ANDREEVICI, FRATELE RANEVSKAIEI, LOPAHIN IERMOLAI ALEXEEVICI, NEGUSTOR, TROFIMOV PIOTR SERGHEEVICI, STUDENT, SIMEONOV-PISCIK BORIS BORISOVICI, MOSIER, CHARLOTTA IVANOVNA, GUVERNANTA, EPIHODOV SIMION PANTELEEVICI, CONTABIL, DUNIASA, FATA IN CASA, FIRS, LACHEU, IASA, TINAR LACHEU, LYUBOV ANDREYEVNA RANEVSKAYA    1\n",
      "GEORGE WASHINGTON                                                                                                                                                                                                                                                                                                                                                                                    1\n",
      "JOHN DONNE, ANN MORE, PEGGE DONNE, IZAAK WALTON, SAMUEL PEPYS                                                                                                                                                                                                                                                                                                                                        1\n",
      "Name: characters, Length: 2627, dtype: int64\n",
      "GOODREADS CHOICE AWARD NOMINEE FOR YOUNG ADULT FANTASY & SCIENCE FICTION (2019)                                                                                                                                5\n",
      "GOODREADS CHOICE AWARD NOMINEE FOR ROMANCE (2013)                                                                                                                                                              5\n",
      "GOODREADS CHOICE AWARD NOMINEE FOR DEBUT AUTHOR (2013)                                                                                                                                                         4\n",
      "GOODREADS CHOICE AWARD NOMINEE FOR ROMANCE (2014)                                                                                                                                                              4\n",
      "GOODREADS CHOICE AWARD NOMINEE FOR YOUNG ADULT FANTASY (2010)                                                                                                                                                  3\n",
      "                                                                                                                                                                                                              ..\n",
      "DOROTHY CANFIELD FISHER CHILDREN'S BOOK AWARD NOMINEE (1984), NATIONAL BOOK AWARD FINALIST FOR CHILDREN'S FICTION (HARDCOVER) (1983)                                                                           1\n",
      "EDGAR AWARD FOR BEST PAPERBACK ORIGINAL (1989)                                                                                                                                                                 1\n",
      "BOLLINGER EVERYMAN WODEHOUSE PRIZE NOMINEE FOR COMIC FICTION (2008), SAKURA MEDAL NOMINEE FOR HIGH SCHOOL BOOK (2010)                                                                                          1\n",
      "TÃ¤HTIVAELTAJA AWARD NOMINEE (2014), PRIX DES LIBRAIRES DU QUÃ©BEC (2015), BOOKWORM BEST AWARD FOR PEOPLE'S PICK (2013), GOODREADS CHOICE AWARD NOMINEE FOR SCIENCE FICTION AND FOR GOODREADS AUTHOR (2012)    1\n",
      "LITERATURPREIS DER JURY DER JUNGEN LESER FOR JUGENDBUCH (2005)                                                                                                                                                 1\n",
      "Name: awards, Length: 2023, dtype: int64\n",
      "HTTPS://WWW.GOODREADS.COM//BOOK_LINK/FOLLOW/17439?BOOK_ID=18698406&SOURCE=DROPDOWN    1\n",
      "HTTPS://WWW.GOODREADS.COM//BOOK_LINK/FOLLOW/1?BOOK_ID=218571&SOURCE=DROPDOWN          1\n",
      "HTTPS://WWW.GOODREADS.COM//BOOK_LINK/FOLLOW/17439?BOOK_ID=10459088&SOURCE=DROPDOWN    1\n",
      "HTTPS://WWW.GOODREADS.COM//BOOK_LINK/FOLLOW/17439?BOOK_ID=23908423&SOURCE=DROPDOWN    1\n",
      "HTTPS://WWW.GOODREADS.COM//BOOK_LINK/FOLLOW/17439?BOOK_ID=2572997&SOURCE=DROPDOWN     1\n",
      "                                                                                     ..\n",
      "HTTPS://WWW.GOODREADS.COM//BOOK_LINK/FOLLOW/17439?BOOK_ID=110494&SOURCE=DROPDOWN      1\n",
      "HTTPS://WWW.GOODREADS.COM//BOOK_LINK/FOLLOW/17439?BOOK_ID=13543005&SOURCE=DROPDOWN    1\n",
      "HTTPS://WWW.GOODREADS.COM//BOOK_LINK/FOLLOW/17439?BOOK_ID=26053772&SOURCE=DROPDOWN    1\n",
      "HTTPS://WWW.GOODREADS.COM//BOOK_LINK/FOLLOW/17439?BOOK_ID=18169712&SOURCE=DROPDOWN    1\n",
      "HTTPS://WWW.GOODREADS.COM//BOOK_LINK/FOLLOW/17439?BOOK_ID=7721416&SOURCE=DROPDOWN     1\n",
      "Name: amazon_redirect_link, Length: 10440, dtype: int64\n",
      "HTTPS://WWW.GOODREADS.COM//BOOK_LINK/FOLLOW/8?BOOK_ID=410237      1\n",
      "HTTPS://WWW.GOODREADS.COM//BOOK_LINK/FOLLOW/8?BOOK_ID=86062       1\n",
      "HTTPS://WWW.GOODREADS.COM//BOOK_LINK/FOLLOW/8?BOOK_ID=2091315     1\n",
      "HTTPS://WWW.GOODREADS.COM//BOOK_LINK/FOLLOW/8?BOOK_ID=1016871     1\n",
      "HTTPS://WWW.GOODREADS.COM//BOOK_LINK/FOLLOW/8?BOOK_ID=27276365    1\n",
      "                                                                 ..\n",
      "HTTPS://WWW.GOODREADS.COM//BOOK_LINK/FOLLOW/8?BOOK_ID=107776      1\n",
      "HTTPS://WWW.GOODREADS.COM//BOOK_LINK/FOLLOW/8?BOOK_ID=41090841    1\n",
      "HTTPS://WWW.GOODREADS.COM//BOOK_LINK/FOLLOW/8?BOOK_ID=15774058    1\n",
      "HTTPS://WWW.GOODREADS.COM//BOOK_LINK/FOLLOW/8?BOOK_ID=1945842     1\n",
      "HTTPS://WWW.GOODREADS.COM//BOOK_LINK/FOLLOW/8?BOOK_ID=1291491     1\n",
      "Name: worldcat_redirect_link, Length: 9658, dtype: int64\n",
      "871181, 871181, 581003, 412668, 1557364, 1247303, 1803569, 1557360, 1557376, 1557355, 1462252                                                                                                  7\n",
      "43263551, 43263551                                                                                                                                                                             3\n",
      "13591666, 13591666, 14811943, 7095798, 41464463, 45023015, 51974571, 45308041, 43179329, 41977749, 44083978, 51045998, 45550571, 43671103, 45011405, 42440103, 39109661, 40495060, 40235157    2\n",
      "17255435, 17255435, 17733861, 17925397, 18813530, 18191814, 18967087, 21466236, 23790992, 24089731, 24695337                                                                                   2\n",
      "45046771, 45046771                                                                                                                                                                             2\n",
      "                                                                                                                                                                                              ..\n",
      "40265590, 40265590, 50920410, 53832911, 33517571, 22543949, 3222976, 45276625, 48829512, 48137, 13458013, 43835491, 43386055, 173890, 30653701, 50253429, 45420390, 45320351, 6883372          1\n",
      "1051153, 1051153, 1133446, 159061, 494748, 820274, 967494, 6984102, 196950, 867248, 8332386, 177246, 196951, 1012180, 1873420, 99077, 205294, 1538417, 819667                                  1\n",
      "7826803, 7826803, 151926, 6256840, 1890163, 119993, 134961, 34063512, 6554964, 52870233, 11232134, 1798551, 218486, 6521256, 2270903, 111102, 45429491, 2939754, 44793422                      1\n",
      "37919362, 37919362, 9874196, 24396857, 39085465, 53010571, 33517549, 52241772, 60154, 20454084, 3831023, 15798321, 16213785, 24870, 20417843, 13085609, 920530, 42415597, 26385363             1\n",
      "37007788, 37007788, 40190305, 26095121, 43319620, 26240663, 34521785, 42201354, 42359576, 43092477, 52856186, 50524627, 35343333, 53496821, 316978, 26836918, 50364010, 21284, 24934636        1\n",
      "Name: recommended_books, Length: 9585, dtype: int64\n",
      "106588, 106584, 106554, 106552, 106582, 157088, 171731, 735116, 1507235, 1747741    11\n",
      "764220, 850410, 850411, 850385, 850413, 850397, 850390, 1806174, 1207062, 764225     8\n",
      "479309, 268601, 238126, 201175, 74036, 132778, 238125, 172691, 268598, 213975        8\n",
      "61975, 127584, 28541, 28547, 127586, 28553, 61958, 61974, 465904, 20082              6\n",
      "34497, 34506, 34507, 386372, 34499, 34504, 64217, 64216, 64218, 34510                6\n",
      "                                                                                    ..\n",
      "8100267, 18668428                                                                    1\n",
      "22571275, 24644814, 30254923                                                         1\n",
      "545875, 228117, 276875, 276877, 5945209, 8582816, 22891415                           1\n",
      "31281719, 40557608, 52125327                                                         1\n",
      "7924112                                                                              1\n",
      "Name: books_in_series, Length: 4240, dtype: int64\n",
      "                                                                                                                                                                                                                                                                                                                                                                                                                                                                                                                                                                                                                                                                                                                                                                                                                                                                                                                                                                                                                                                                                                                                                                                                                                                                                                                                                                                                                                                                                                                                                                                                                                                                                                                                                                                                                                                                                                                                                                                                                                                                                                                                                                                                                                                                                                                                                                                                                                                                                                                                                                                                                                                                                                                                                                                                                                                                                                                                                                                                                                                                                                                                                                                                  33\n",
      "ÙØ°Ù ÙÙ Ø·Ø¨Ø¹Ø© \"Ø¯Ø§Ø± Ø§ÙÙÙØ± - Ø¨ÙØ±ÙØª\" ÙÙÙ Ø¢Ø®Ø± Ø·Ø¨Ø¹Ø© Ø¹Ø±Ø¨ÙØ© ØªÙ",
      " Ø§ØΜØ¯Ø§Ø±ÙØ§ Ø­ØªÙ Ø§ÙØ¢Ù Ø¹ÙÙ 47 Ø¬Ø²Ø¡ ÙÙ 23 Ù",
      "Ø¬ÙØ¯ Ø¨Ø§ÙØ§Ø¶Ø§ÙØ© Ø§ÙÙ Ù",
      "Ø¬ÙØ¯ Ø®Ø§ØΜ Ø¨Ø§ÙÙÙØ§Ø±Ø³ ÙØªØ¨Ù Ø§ÙØ§Ø³ØªØ§Ø° Ù",
      "Ø­Ù",
      "Ø¯ Ø¹Ø¨Ø¯ Ø§ÙØ±Ø­ÙÙ",
      " Ø¨Ù",
      "ÙØ¯Ù",
      "Ø© Ø®Ø§ØΜØ© ÙØ³Ø±Ø¯ Ø³ÙØ±Ø© Ø§ÙÙÙÙØ³ÙÙ \"ÙÙÙ Ø¯ÙÙØ±Ø§ÙØª\" Ù",
      "Ø¤ÙÙ Ø§ÙÙ",
      "ÙØ³ÙØ¹Ø© Ø§ÙØ§Ø´ÙØ± ÙÙ Ø§ÙÙØ±Ù Ø§ÙØ¹Ø´Ø±ÙÙ ÙØªØ§Ø¨ Ù",
      "ÙØ³ÙØ¹Ù ØªØ§Ø±ÙØ®Ù Ø¶Ø®Ù",
      " Ù",
      "Ù ØªØ£ÙÙÙ Ø§ÙÙÙÙØ³ÙÙ ÙØ§ÙÙ",
      "Ø¤Ø±Ø® Ø§ÙØ£Ù",
      "Ø±ÙÙÙ \"ÙÙÙ Ø¯ÙÙØ±Ø§ÙØª\" ÙØ²ÙØ¬ØªÙ \"Ø£Ø±ÙÙ Ø¯ÙÙØ±Ø§ÙØª\". ÙÙ Ù",
      "ÙØ³ÙØ¹Ø© ÙÙ ÙÙØ³ÙØ© Ø§ÙØªØ§Ø±ÙØ® ÙØ¶Ù Ù",
      "Ø¤ÙÙÙØ§ Ø¹Ø´Ø±Ø§Øª Ø§ ÙØ°Ù ÙÙ Ø·Ø¨Ø¹Ø© \"Ø¯Ø§Ø± Ø§ÙÙÙØ± - Ø¨ÙØ±ÙØª\" ÙÙÙ Ø¢Ø®Ø± Ø·Ø¨Ø¹Ø© Ø¹Ø±Ø¨ÙØ© ØªÙ",
      " Ø§ØΜØ¯Ø§Ø±ÙØ§ Ø­ØªÙ Ø§ÙØ¢Ù Ø¹ÙÙ 47 Ø¬Ø²Ø¡ ÙÙ 23 Ù",
      "Ø¬ÙØ¯ Ø¨Ø§ÙØ§Ø¶Ø§ÙØ© Ø§ÙÙ Ù",
      "Ø¬ÙØ¯ Ø®Ø§ØΜ Ø¨Ø§ÙÙÙØ§Ø±Ø³ ÙØªØ¨Ù Ø§ÙØ§Ø³ØªØ§Ø° Ù",
      "Ø­Ù",
      "Ø¯ Ø¹Ø¨Ø¯ Ø§ÙØ±Ø­ÙÙ",
      " Ø¨Ù",
      "ÙØ¯Ù",
      "Ø© Ø®Ø§ØΜØ© ÙØ³Ø±Ø¯ Ø³ÙØ±Ø© Ø§ÙÙÙÙØ³ÙÙ \"ÙÙÙ Ø¯ÙÙØ±Ø§ÙØª\" Ù",
      "Ø¤ÙÙ Ø§ÙÙ",
      "ÙØ³ÙØ¹Ø© Ø§ÙØ§Ø´ÙØ± ÙÙ Ø§ÙÙØ±Ù Ø§ÙØ¹Ø´Ø±ÙÙ ÙØªØ§Ø¨ Ù",
      "ÙØ³ÙØ¹Ù ØªØ§Ø±ÙØ®Ù Ø¶Ø®Ù",
      " Ù",
      "Ù ØªØ£ÙÙÙ Ø§ÙÙÙÙØ³ÙÙ ÙØ§ÙÙ",
      "Ø¤Ø±Ø® Ø§ÙØ£Ù",
      "Ø±ÙÙÙ \"ÙÙÙ Ø¯ÙÙØ±Ø§ÙØª\" ÙØ²ÙØ¬ØªÙ \"Ø£Ø±ÙÙ Ø¯ÙÙØ±Ø§ÙØª\". ÙÙ Ù",
      "ÙØ³ÙØ¹Ø© ÙÙ ÙÙØ³ÙØ© Ø§ÙØªØ§Ø±ÙØ® ÙØ¶Ù Ù",
      "Ø¤ÙÙÙØ§ Ø¹Ø´Ø±Ø§Øª Ø§ÙØ³ÙÙÙ ÙÙ Ø¥Ø¹Ø¯Ø§Ø¯ÙØ§Ø ÙÙØ±Ø£ ÙØ°ÙÙ Ø¹Ø´Ø±Ø§Øª Ø§ÙÙ",
      "Ø¤ÙÙØ§Øª ÙØ·Ø§Ù Ø¨Ø¬Ù",
      "ÙØ¹ Ø£Ø±Ø¬Ø§Ø¡ Ø§ÙØ¹Ø§ÙÙ",
      " Ù",
      "Ù Ø´Ø±ÙÙØ© Ø¥ÙÙ ØºØ±Ø¨ÙØ© Ø£ÙØ«Ø± Ù",
      "Ù Ù",
      "Ø±Ø© Ø¹ÙÙ Ù",
      "Ø¯Ø§Ø± 40 Ø¹Ø§Ù",
      "ÙØ§ Ù",
      "Ù Ø¹Ø§Ù",
      " 1935 Ø­ØªÙ Ø¹Ø§Ù",
      " 1975Ø ÙØ­Ø³Ø¨ Ø§ÙÙØ§Ø±Ø¦ Ø¯ÙÙÙØ§ Ø¹ÙÙ Ø§ÙØ¬ÙØ¯ Ø§ÙØ°Ù Ø¨Ø°ÙÙ ÙÙ Ø¥Ø¹Ø¯Ø§Ø¯ Ø§ÙØ¹Ø¯Ø© ÙÙØ§ Ø£Ù ÙØ·ÙØ¹ Ø¹ÙÙ Ø«Ø¨Øª Ø§ÙÙ",
      "Ø±Ø§Ø¬Ø¹ Ø§ÙØ¹Ø§Ù",
      "Ø© ÙØ§ÙØ®Ø§ØΜØ© Ø§ÙØ°Ù Ø£Ø«Ø¨ØªÙØ§Ù ÙÙ Ø¢Ø®Ø± ÙÙ Ø¬Ø²Ø¡ Ù",
      "Ù ÙØ°Ù Ø§ÙØ£Ø¬Ø²Ø§Ø¡. ÙÙØ¯ ÙØ§Ù ÙØ¹ØªØ²Ù",
      " ÙÙ Ø¨Ø§Ø¯Ø¦ Ø§ÙØ£Ù",
      "Ø± Ø£Ù ØªÙÙÙ ÙØ°Ù Ø§ÙØ³ÙØ³ÙØ© ÙÙ Ø®Ù",
      "Ø³Ø© Ù",
      "Ø¬ÙØ¯Ø§ØªØ ÙÙÙÙ Ø§ÙØ¨Ø­Ø« ØªØ´Ø¹Ø¨ ÙØ§ÙÙ",
      "Ø§Ø¯Ø© ÙØ«Ø±Øª ÙØ²Ø§Ø¯ÙØ§ Ø¥ÙÙ Ø³Ø¨Ø¹Ø©Ø Ø«Ù",
      " ØªØ¬Ø§ÙØ²Øª ÙØ°Ø§ Ø§ÙØ¹Ø¯Ø¯ Ø§ÙØ°Ù ÙØ¯Ø±Ù ÙÙØ§ Ø£Ø®ÙØ±Ø§Ù ÙÙØ±Ø±ÙØ§ ÙÙ 11 Ù",
      "Ø¬ÙØ¯. ÙØªØ­Ø¯Ø« ÙÙÙØ§ Ø¹Ù ÙØΜØ© Ø¬Ù",
      "ÙØ¹ Ø§ÙØ­Ø¶Ø§Ø±Ø§Øª Ø§ÙØ¨Ø´Ø±ÙØ© Ù",
      "ÙØ° Ø¨Ø¯Ø§ÙØªÙØ§ ÙØ­ØªÙ Ø¹ØΜØ± ÙØ§Ø¨ÙÙÙÙ ÙÙØªØ³Ù",
      " Ø¨Ø§ÙÙ",
      "ÙØ¶ÙØ¹ÙØ© ÙØ¨Ø§ÙÙ",
      "ÙÙØ¬ Ø§ÙØ¹ÙÙ",
      "Ù ÙØ§ÙØ®ÙØ§ØΜØ© Ø£Ù ÙØ°Ù Ø§ÙØ³ÙØ³ÙØ© Ø°Ø®ÙØ±Ø© Ø¹ÙÙ",
      "ÙØ© ÙØ§ ØºÙÙ Ø¹ÙÙØ§ ÙÙÙ",
      "ÙØªØ¨Ø© Ø§ÙØ¹Ø±Ø¨ÙØ© ÙÙØ¹Ø´Ø§Ù Ø§ÙØªØ§Ø±ÙØ® ÙØ§ÙÙÙØ³ÙØ© ÙØ§ÙØ£Ø¯Ø¨ ÙØ§ÙØ¹ÙÙ",
      " ÙØ§ÙÙÙ ÙØ§ÙØ§Ø¬ØªÙ",
      "Ø§Ø¹ ÙØ¬Ù",
      "ÙØ¹ Ù",
      "ÙÙÙ",
      "Ø§Øª Ø§ÙØ­Ø¶Ø§Ø±Ø©.  Ø§ÙØªØ±Ø¬Ù",
      "Ø© Ø§ÙØ¹Ø±Ø¨ÙØ©:  ØªÙ",
      "Øª ØªØ±Ø¬Ù",
      "Ø© Ø§ÙÙØªØ§Ø¨ Ø¥ÙÙ Ø§ÙÙØºØ© Ø§ÙØ¹Ø±Ø¨ÙØ© ÙØ£ØΜØ¯Ø±ØªÙ Ø§ÙÙ",
      "ÙØ¸Ù",
      "Ø© Ø§ÙØ¹Ø±Ø¨ÙØ© ÙÙØªØ±Ø¨ÙØ© ÙØ§ÙØ«ÙØ§ÙØ© ÙØ§ÙØ¹ÙÙÙ",
      " Ø§ÙØªØ§Ø¨Ø¹Ø© ÙØ¬Ø§Ù",
      "Ø¹Ø© Ø§ÙØ¯ÙÙ Ø§ÙØ¹Ø±Ø¨ÙØ© ÙØ¯Ø§Ø± Ø§ÙØ¬ÙÙ ÙÙ Ø¨ÙØ±ÙØª Ø³ÙØ© 1988  Ø§ÙÙØ³Ø®Ø© Ø§ÙØ¹Ø±Ø¨ÙØ© ØªØªÙÙÙ Ù",
      "Ù 42 Ø¬Ø²Ø¡ ÙÙ 24 Ù",
      "Ø¬ÙØ¯Ø ØªÙØ§ÙØ¨ Ø¹ÙÙ ØªØ±Ø¬Ù",
      "ØªÙ ÙØ®Ø¨Ø© Ù",
      "Ù Ø§ÙØ§Ø³Ø§ØªØ°Ù ÙÙ Ø§ÙÙÙØ³ÙØ© ÙØ§ÙØªØ§Ø±ÙØ® ÙØ§ÙØ¹ÙÙÙ",
      ".     5\n",
      "THIS SCARCE ANTIQUARIAN BOOK IS A FACSIMILE REPRINT OF THE ORIGINAL. DUE TO ITS AGE, IT MAY CONTAIN IMPERFECTIONS SUCH AS MARKS, NOTATIONS, MARGINALIA AND FLAWED PAGES. BECAUSE WE BELIEVE THIS WORK IS CULTURALLY IMPORTANT, WE HAVE MADE IT AVAILABLE AS PART OF OUR COMMITMENT FOR PROTECTING, PRESERVING, AND PROMOTING THE WORLD'S LITERATURE IN AFFORDABLE, HIGH QUALITY, MODERN THIS SCARCE ANTIQUARIAN BOOK IS A FACSIMILE REPRINT OF THE ORIGINAL. DUE TO ITS AGE, IT MAY CONTAIN IMPERFECTIONS SUCH AS MARKS, NOTATIONS, MARGINALIA AND FLAWED PAGES. BECAUSE WE BELIEVE THIS WORK IS CULTURALLY IMPORTANT, WE HAVE MADE IT AVAILABLE AS PART OF OUR COMMITMENT FOR PROTECTING, PRESERVING, AND PROMOTING THE WORLD'S LITERATURE IN AFFORDABLE, HIGH QUALITY, MODERN EDITIONS THAT ARE TRUE TO THE ORIGINAL WORK.                                                                                                                                                                                                                                                                                                                                                                                                                                                                                                                                                                                                                                                                                                                                                                                                                                                                                                                                                                                                                                                                                                                                                                                                                                                                                                                                                                                                                                                                                                                                                                                                                                                                                                                                                                                                                                                                                                                                                                                                                                                                                                                                                                                                                                                                                                                                                                       4\n",
      "Ù",
      "Ø¬Ù",
      "ÙØ¹Ø© ÙØΜØΜÙØ©                                                                                                                                                                                                                                                                                                                                                                                                                                                                                                                                                                                                                                                                                                                                                                                                                                                                                                                                                                                                                                                                                                                                                                                                                                                                                                                                                                                                                                                                                                                                                                                                                                                                                                                                                                                                                                                                                                                                                                                                                                                                                                                                                                                                                                                                                                                                                                                                                                                                                                                                                                                                                                                                                                                                                                                                                                                                                                                                                                                                                                                                                                                                                                            3\n",
      "THIS BOOK WAS CONVERTED FROM ITS PHYSICAL EDITION TO THE DIGITAL FORMAT BY A COMMUNITY OF VOLUNTEERS. YOU MAY FIND IT FOR FREE ON THE WEB. PURCHASE OF THE KINDLE EDITION INCLUDES WIRELESS DELIVERY.                                                                                                                                                                                                                                                                                                                                                                                                                                                                                                                                                                                                                                                                                                                                                                                                                                                                                                                                                                                                                                                                                                                                                                                                                                                                                                                                                                                                                                                                                                                                                                                                                                                                                                                                                                                                                                                                                                                                                                                                                                                                                                                                                                                                                                                                                                                                                                                                                                                                                                                                                                                                                                                                                                                                                                                                                                                                                                                                                                                              3\n",
      "                                                                                                                                                                                                                                                                                                                                                                                                                                                                                                                                                                                                                                                                                                                                                                                                                                                                                                                                                                                                                                                                                                                                                                                                                                                                                                                                                                                                                                                                                                                                                                                                                                                                                                                                                                                                                                                                                                                                                                                                                                                                                                                                                                                                                                                                                                                                                                                                                                                                                                                                                                                                                                                                                                                                                                                                                                                                                                                                                                                                                                                                                                                                                                                                  ..\n",
      "THE GRANDSON OF AN EMINENT AYATOLLAH AND THE SON OF AN IRANIAN DIPLOMAT, NOW AN AMERICAN CITIZEN, HOOMAN MAJD IS, IN A WAY, BOTH 100 PERCENT IRANIAN AND 100 PERCENT AMERICAN, COMBINING AN INSIDERÂS KNOWLEDGE OF HOW IRAN WORKS WITH A REMARKABLE ABILITY TO EXPLAIN ITS HISTORY AND  THE GRANDSON OF AN EMINENT AYATOLLAH AND THE SON OF AN IRANIAN DIPLOMAT, NOW AN AMERICAN CITIZEN, HOOMAN MAJD IS, IN A WAY, BOTH 100 PERCENT IRANIAN AND 100 PERCENT AMERICAN, COMBINING AN INSIDERÂS KNOWLEDGE OF HOW IRAN WORKS WITH A REMARKABLE ABILITY TO EXPLAIN ITS HISTORY AND ITS QUIRKS TO WESTERN READERS. IN THE AYATOLLAH BEGS TO DIFFER, HE PAINTS A PORTRAIT OF A COUNTRY THAT IS FIERCELY PROUD OF ITS PERSIAN HERITAGE, MYSTIFIED BY ITS OUTSIDER STATUS, AND SCORNFUL OF THE IDEA THAT THE UNITED STATES CAN DICTATE HOW IT SHOULD INTERACT WITH THE COMMUNITY OF NATIONS. WITH WIT, STYLE, AND AN UNUSUAL ABILITY TO GET PAST THE TYPICAL SOUND BITE ON IRAN, MAJD REVEALS THE PARADOXES INHERENT IN THE IRANIAN CHARACTER WHICH HAVE BAFFLED AMERICANS FOR MORE THAN THIRTY YEARS. MEETING WITH SARTORIALLY CHALLENGED GOVERNMENT OFFICIALS IN THE PRESIDENTIAL PALACE; SMOKING OPIUM WITH AN ADDICTED CLERIC, HIS FAMILY, AND FRIENDS; DRINKING FINE WHISKEY AT PARTIES IN FASHIONABLE NORTH TEHRAN; AND GINGERLY SELF-FLAGELLATING IN A CELEBRATION OF ASHURA, MAJD TAKES READERS ON A RARE TOUR OF IRAN AND SHARES INSIGHTS SHAPED BY HIS COMPLEX HERITAGE. HE CONSIDERS IRAN AS A MUSLIM COUNTRY, AS A SHIITE COUNTRY, AND, PERHAPS ABOVE ALL, AS A PERSIAN ONE. MAJD SHOWS THAT AS SHIITES MARKED BY AN INFERIORITY COMPLEX, AND PERSIANS MARKED BY A SUPERIORITY COMPLEX, IRANIANS ARE FIERCELY DEVOTED TO PROTECTING THEIR RIGHTS, A FACTOR THAT HAS CONTRIBUTED TO THEIR INTRANSIGENCE OVER THEIR NUCLEAR PROGRAMS. HE POINTS TO THE IMPORTANCE OF THE PERSIAN VIEW OF PRIVACY, ARGUING THAT THE STABILITY OF THE CURRENT REGIME OWES MUCH TO THE FREEDOM IRANIANS HAVE TO BEHAVE AS THEY WISH BEHIND ÂPERSIAN WALLS.Â AND WITH WRY AFFECTION, MAJD DESCRIBES THE PERSIAN CONCEPT OF TAÂAROUF, AN EXAGGERATED FORM OF POLITE SELF-DEPRECATION THAT MAY EXPLAIN SOME OF IRANIAN PRESIDENT AHMADINEJADÂS MORE BIZARRE PUBLIC MOMENTS.  WITH UNFORGETTABLE PORTRAITS OF IRANIANS, FROM GOVERNMENT FIGURES TO WOMEN CAB DRIVERS TO REFORM-MINDED AYATOLLAHS, MAJD BRINGS TO LIFE A COUNTRY THAT IS DEEPLY RELIGIOUS YET HIGHLY COSMOPOLITAN, AUTHORITARIAN YET WITH DEMOCRATIC AND REFORMIST TRADITIONSÂAN IRAN THAT IS A MORE NUANCED NEMESIS TO THE UNITED STATES THAN IT IS TYPICALLY PORTRAYED TO BE.                                                                                                                                                                                                                                                                                                                                                                                                                                                                                                                                                            1\n",
      "\"NÃ¤YTIN HYVÃ¤LTÃ¤ JA KUULOSTIN LUMOAVALTA. NÃ¤YTTELIJÃ¤LTÃ¤. JA JOS NÃ¤YTTELIJÃ¤ USKOO, ETTÃ¤ HÃ¤N OSAA LENTÃ¤Ã¤, HÃ¤N MYÃ¶S OSAA. MUTTA MINÃ¤ OLIN MENETTÃ¤NYT USKONI AJAT SITTEN.\" REIDAR PALMGRENIN TOINEN ROMAANI ON POSKETON TRAGIKOMEDIA NÃ¤YTTELIJÃ¤STÃ¤, LENTÃ¤MISESTÃ¤ JA LAITOSTEATTERIN KUMMITUKSISTA.                                                                                                                                                                                                                                                                                                                                                                                                                                                                                                                                                                                                                                                                                                                                                                                                                                                                                                                                                                                                                                                                                                                                                                                                                                                                                                                                                                                                                                                                                                                                                                                                                                                                                                                                                                                                                                                                                                                                                                                                                                                                                                                                                                                                                                                                                                                                                                                                                                                                                                                                                                                                                                                                                                                                                                                                                                                                                 1\n",
      "A COMPILATION OF VIOLET'S VEGAN COMICS' FAVOURITE RHYMING STORIES - WHY ARE YOU A VEGAN?, \"I'M NOT DINNER!,\" EDMUND'S LUNCH, BONES AND TEEF, AND A NEW RHYMING VERSION OF WHERE ARE YOU GOING DEIDRA? - PLUS LONG AND SHORT WACKY RHYMES AND TONGUE TWISTERS. AND SIX POPULAR NURSERY RHYMES REWORDED TO REFLECT COMPASSION AND RESPECT FOR ANIMALS AND THE ENVIRONMENT. THIS BIG, COLO A COMPILATION OF VIOLET'S VEGAN COMICS' FAVOURITE RHYMING STORIES - WHY ARE YOU A VEGAN?, \"I'M NOT DINNER!,\" EDMUND'S LUNCH, BONES AND TEEF, AND A NEW RHYMING VERSION OF WHERE ARE YOU GOING DEIDRA? - PLUS LONG AND SHORT WACKY RHYMES AND TONGUE TWISTERS. AND SIX POPULAR NURSERY RHYMES REWORDED TO REFLECT COMPASSION AND RESPECT FOR ANIMALS AND THE ENVIRONMENT. THIS BIG, COLOURFUL, FULLY ILLUSTRATED BOOK IS GREAT FOR BEDTIME STORIES AND FOR READING WITH AND TO LITTLE ONES.                                                                                                                                                                                                                                                                                                                                                                                                                                                                                                                                                                                                                                                                                                                                                                                                                                                                                                                                                                                                                                                                                                                                                                                                                                                                                                                                                                                                                                                                                                                                                                                                                                                                                                                                                                                                                                                                                                                                                                                                                                                                                                                                                                                                                                                                                                                 1\n",
      "TELLS THE STORY OF THE LATE BRAM STOKER'S SURVIVING FAMILY MEMBERS IN 1922 AS THEY STRUGGLE TO COME TO GRIPS WITH THE DARK UNDERCURRENTS IN THE NOVEL  . FLORENCE, BRAM'S WIDOW, IS SHOCKED WHEN A GERMAN COMPANY, PRANA FILMS, PIRATES HER LATE HUSBANDÂS STORY FOR A FILM,  . WILLIAM, THE SON OF BRAM AND FLORENCE, IS AT FIRST BAFFLED BY HIS MOTHERÂ  TELLS THE STORY OF THE LATE BRAM STOKER'S SURVIVING FAMILY MEMBERS IN 1922 AS THEY STRUGGLE TO COME TO GRIPS WITH THE DARK UNDERCURRENTS IN THE NOVEL  . FLORENCE, BRAM'S WIDOW, IS SHOCKED WHEN A GERMAN COMPANY, PRANA FILMS, PIRATES HER LATE HUSBANDÂS STORY FOR A FILM,  . WILLIAM, THE SON OF BRAM AND FLORENCE, IS AT FIRST BAFFLED BY HIS MOTHERÂS DISCOMFORT, BUT HE SOON FINDS HIMSELF STRUGGLING WITH HIS OWN MEMORIES. MARY, FLORENCEÂS FREE-SPIRITED YOUNG IRISH COMPANION, IS CAPTIVATED BY 1920S LONDON AND ALL ITS MYSTERIES. SHE FINDS ESCAPE IN HER COPY OF   AND FORMS AN UNLIKELY, AND TO FLORENCEÂS MIND A DANGEROUS, BOND OF FRIENDSHIP WITH WILLIAM.                                                                                                                                                                                                                                                                                                                                                                                                                                                                                                                                                                                                                                                                                                                                                                                                                                                                                                                                                                                                                                                                                                                                                                                                                                                                                                                                                                                                                                                                                                                                                                                                                                                                                                                                                                                                                                                                                                                                                                                                                                                                                                                                                 1\n",
      "DRAWING FROM DOZENS OF THE U.S. ARMY'S OFFICIAL FIELD MANUALS, EDITOR JAY MCCULLOUGH HAS CULLED A THOUSAND PAGES OF THE MOST USEFUL AND CURIOUS TIDBITS FOR THE WOULD-BE SOLDIER, HISTORIAN, MOVIE-MAKER, WRITER, OR SURVIVALISTÂINCLUDING TECHNIQUES ON FIRST AID; SURVIVAL IN THE HOTTEST OR COLDEST OF CLIMATES; FINDING OR BUILDING LIFE-SAVING SHELTERS; SURVIVING NUCLEAR, BIOLOGICAL, DRAWING FROM DOZENS OF THE U.S. ARMY'S OFFICIAL FIELD MANUALS, EDITOR JAY MCCULLOUGH HAS CULLED A THOUSAND PAGES OF THE MOST USEFUL AND CURIOUS TIDBITS FOR THE WOULD-BE SOLDIER, HISTORIAN, MOVIE-MAKER, WRITER, OR SURVIVALISTÂINCLUDING TECHNIQUES ON FIRST AID; SURVIVAL IN THE HOTTEST OR COLDEST OF CLIMATES; FINDING OR BUILDING LIFE-SAVING SHELTERS; SURVIVING NUCLEAR, BIOLOGICAL, AND CHEMICAL ATTACKS; PHYSICAL AND MENTAL FITNESS, AND HOW TO FIND FOOD AND WATER ANYWHERE, ANYTIME. WITH HUNDREDS OF PHOTOGRAPHS AND ILLUSTRATIONS SHOWING EVERYTHING FROM EDIBLE PLANTS TO RARE SKIN DISEASES OF THE JUNGLE, EVERY PAGE REVEALS HOW USEFUL ARMY KNOWLEDGE CAN BE.                                                                                                                                                                                                                                                                                                                                                                                                                                                                                                                                                                                                                                                                                                                                                                                                                                                                                                                                                                                                                                                                                                                                                                                                                                                                                                                                                                                                                                                                                                                                                                                                                                                                                                                                                                                                                                                                                                                                                                                                                                                                                                                  1\n",
      "Name: description, Length: 9889, dtype: int64\n"
     ]
    }
   ],
   "source": [
    "#Checking typos\n",
    "#Find errors\n",
    "def check_typos(x):\n",
    "    for i in x: # Loop through the dataframe\n",
    "#         if x[i].dtype == \"object\": # Get object type values\n",
    "            print(x[i].value_counts()) # Return frequency of object values\n",
    "check_typos(x_train)\n",
    "check_typos(x_test)"
   ]
  },
  {
   "cell_type": "markdown",
   "metadata": {},
   "source": [
    "After I check the data, I found two mistakes for both training/testing dataset as below"
   ]
  },
  {
   "cell_type": "code",
   "execution_count": 8,
   "metadata": {},
   "outputs": [],
   "source": [
    "x_test['genre_and_votes'] = x_test['genre_and_votes'].str.replace('American Hi...-','').str.replace(r'[^a-zA-Z0-9, ]', ' ')\n",
    "x_train['genre_and_votes'] = x_train['genre_and_votes'].str.replace('American Hi...-','').str.replace(r'[^a-zA-Z0-9, ]', ' ')"
   ]
  },
  {
   "cell_type": "code",
   "execution_count": 9,
   "metadata": {},
   "outputs": [],
   "source": [
    "x_test['genre_and_votes'] = x_test['genre_and_votes'].str.replace('USER','')\n",
    "x_train['genre_and_votes'] = x_train['genre_and_votes'].str.replace('USER','')"
   ]
  },
  {
   "cell_type": "markdown",
   "metadata": {},
   "source": [
    "<b>Missing values</b>"
   ]
  },
  {
   "cell_type": "code",
   "execution_count": 10,
   "metadata": {},
   "outputs": [],
   "source": [
    "x_train['series'] = x_train['series'].apply(lambda x:1 if type(x)==str else 0)\n",
    "x_train['awards'] = x_train['awards'].apply(lambda x:1 if type(x)==str else 0)\n",
    "\n",
    "x_test['series'] = x_test['series'].apply(lambda x:1 if type(x)==str else 0)\n",
    "x_test['awards'] = x_test['awards'].apply(lambda x:1 if type(x)==str else 0)"
   ]
  },
  {
   "cell_type": "code",
   "execution_count": 11,
   "metadata": {},
   "outputs": [],
   "source": [
    "#Missing value\n",
    "x_train['series'] = x_train['series'].fillna(\"UNKNOWN\")\n",
    "x_train['cover_link'] = x_train['cover_link'].fillna(\"UNKNOWN\")\n",
    "x_train['date_published'] = x_train['date_published'].fillna(\"UNKNOWN\")\n",
    "x_train['publisher'] = x_train['publisher'].fillna(\"UNKNOWN\")\n",
    "x_train['original_title'] = x_train['original_title'].fillna(\"UNKNOWN\")\n",
    "x_train['genre_and_votes'] = x_train['genre_and_votes'].fillna(\"UNKNOWN\")\n",
    "x_train['isbn'] = x_train['isbn'].fillna(\"UNKNOWN\")\n",
    "x_train['isbn13'] = x_train['isbn13'].fillna(\"UNKNOWN\")\n",
    "x_train['asin'] = x_train['asin'].fillna(\"UNKNOWN\")\n",
    "x_train['settings'] = x_train['settings'].fillna(\"UNKNOWN\")\n",
    "x_train['characters'] = x_train['characters'].fillna(\"UNKNOWN\")\n",
    "x_train['awards'] = x_train['awards'].fillna(\"UNKNOWN\")\n",
    "x_train['worldcat_redirect_link'] = x_train['worldcat_redirect_link'].fillna(\"UNKNOWN\")\n",
    "x_train['recommended_books'] = x_train['recommended_books'].fillna(\"UNKNOWN\")\n",
    "x_train['books_in_series'] = x_train['books_in_series'].fillna(\"UNKNOWN\")\n",
    "x_train['description'] = x_train['description'].fillna(\"UNKNOWN\")"
   ]
  },
  {
   "cell_type": "code",
   "execution_count": 12,
   "metadata": {},
   "outputs": [],
   "source": [
    "x_train['number_of_pages'] = x_train['number_of_pages'].fillna(x_train['number_of_pages'].mean())\n",
    "x_train['rating_count'] = x_train['rating_count'].fillna(x_train['rating_count'].mean())\n",
    "x_train['review_count'] = x_train['review_count'].fillna(x_train['review_count'].mean())"
   ]
  },
  {
   "cell_type": "code",
   "execution_count": 13,
   "metadata": {},
   "outputs": [],
   "source": [
    "x_test['series'] = x_test['series'].fillna(\"UNKNOWN\")\n",
    "x_test['cover_link'] = x_test['cover_link'].fillna(\"UNKNOWN\")\n",
    "x_test['date_published'] = x_test['date_published'].fillna(\"UNKNOWN\")\n",
    "x_test['publisher'] = x_test['publisher'].fillna(\"UNKNOWN\")\n",
    "x_test['original_title'] = x_test['original_title'].fillna(\"UNKNOWN\")\n",
    "x_test['genre_and_votes'] = x_test['genre_and_votes'].fillna(\"UNKNOWN\")\n",
    "x_test['isbn'] = x_test['isbn'].fillna(\"UNKNOWN\")\n",
    "x_test['isbn13'] = x_test['isbn13'].fillna(\"UNKNOWN\")\n",
    "x_test['asin'] = x_test['asin'].fillna(\"UNKNOWN\")\n",
    "x_test['settings'] = x_test['settings'].fillna(\"UNKNOWN\")\n",
    "x_test['characters'] = x_test['characters'].fillna(\"UNKNOWN\")\n",
    "x_test['worldcat_redirect_link'] = x_test['worldcat_redirect_link'].fillna(\"UNKNOWN\")\n",
    "x_test['recommended_books'] = x_test['recommended_books'].fillna(\"UNKNOWN\")\n",
    "x_test['books_in_series'] = x_test['books_in_series'].fillna(\"UNKNOWN\")\n",
    "x_test['description'] = x_test['description'].fillna(\"UNKNOWN\")\n",
    "x_test['awards'] = x_test['awards'].fillna(\"UNKNOWN\")"
   ]
  },
  {
   "cell_type": "code",
   "execution_count": 14,
   "metadata": {},
   "outputs": [],
   "source": [
    "x_test['number_of_pages'] = x_test['number_of_pages'].fillna(x_test['number_of_pages'].mean())\n",
    "x_test['rating_count'] = x_test['rating_count'].fillna(x_test['rating_count'].mean())\n",
    "x_test['review_count'] = x_test['review_count'].fillna(x_test['review_count'].mean())"
   ]
  },
  {
   "cell_type": "markdown",
   "metadata": {},
   "source": [
    "<b> 1.2 Data Exploration </b>"
   ]
  },
  {
   "cell_type": "code",
   "execution_count": 15,
   "metadata": {},
   "outputs": [
    {
     "data": {
      "text/html": [
       "<div>\n",
       "<style scoped>\n",
       "    .dataframe tbody tr th:only-of-type {\n",
       "        vertical-align: middle;\n",
       "    }\n",
       "\n",
       "    .dataframe tbody tr th {\n",
       "        vertical-align: top;\n",
       "    }\n",
       "\n",
       "    .dataframe thead th {\n",
       "        text-align: right;\n",
       "    }\n",
       "</style>\n",
       "<table border=\"1\" class=\"dataframe\">\n",
       "  <thead>\n",
       "    <tr style=\"text-align: right;\">\n",
       "      <th></th>\n",
       "      <th>id</th>\n",
       "      <th>title</th>\n",
       "      <th>link</th>\n",
       "      <th>series</th>\n",
       "      <th>cover_link</th>\n",
       "      <th>author</th>\n",
       "      <th>author_link</th>\n",
       "      <th>rating_count</th>\n",
       "      <th>review_count</th>\n",
       "      <th>number_of_pages</th>\n",
       "      <th>...</th>\n",
       "      <th>isbn13</th>\n",
       "      <th>asin</th>\n",
       "      <th>settings</th>\n",
       "      <th>characters</th>\n",
       "      <th>awards</th>\n",
       "      <th>amazon_redirect_link</th>\n",
       "      <th>worldcat_redirect_link</th>\n",
       "      <th>recommended_books</th>\n",
       "      <th>books_in_series</th>\n",
       "      <th>description</th>\n",
       "    </tr>\n",
       "  </thead>\n",
       "  <tbody>\n",
       "    <tr>\n",
       "      <th>0</th>\n",
       "      <td>2533958</td>\n",
       "      <td>FROST/NIXON</td>\n",
       "      <td>HTTPS://WWW.GOODREADS.COM//BOOK/SHOW/2533958.F...</td>\n",
       "      <td>0</td>\n",
       "      <td>HTTPS://I.GR-ASSETS.COM/IMAGES/S/COMPRESSED.PH...</td>\n",
       "      <td>DAVID FROST</td>\n",
       "      <td>HTTPS://WWW.GOODREADS.COM/AUTHOR/SHOW/264173.D...</td>\n",
       "      <td>523</td>\n",
       "      <td>51</td>\n",
       "      <td>338.0</td>\n",
       "      <td>...</td>\n",
       "      <td>9780230531147</td>\n",
       "      <td>UNKNOWN</td>\n",
       "      <td>UNKNOWN</td>\n",
       "      <td>RICHARD NIXON, DAVID FROST</td>\n",
       "      <td>0</td>\n",
       "      <td>HTTPS://WWW.GOODREADS.COM//BOOK_LINK/FOLLOW/17...</td>\n",
       "      <td>HTTPS://WWW.GOODREADS.COM//BOOK_LINK/FOLLOW/8?...</td>\n",
       "      <td>13167112, 13167112, 29429295, 2074322, 3025937...</td>\n",
       "      <td>UNKNOWN</td>\n",
       "      <td>INCLUDING HILARIOUS TALES OF THE PEOPLE HE ENC...</td>\n",
       "    </tr>\n",
       "    <tr>\n",
       "      <th>1</th>\n",
       "      <td>16071790</td>\n",
       "      <td>JUST WHAT KIND OF MOTHER ARE YOU?</td>\n",
       "      <td>HTTPS://WWW.GOODREADS.COM//BOOK/SHOW/16071790-...</td>\n",
       "      <td>0</td>\n",
       "      <td>HTTPS://I.GR-ASSETS.COM/IMAGES/S/COMPRESSED.PH...</td>\n",
       "      <td>PAULA DALY</td>\n",
       "      <td>HTTPS://WWW.GOODREADS.COM/AUTHOR/SHOW/6175529....</td>\n",
       "      <td>10092</td>\n",
       "      <td>1236</td>\n",
       "      <td>320.0</td>\n",
       "      <td>...</td>\n",
       "      <td>9780385680073</td>\n",
       "      <td>UNKNOWN</td>\n",
       "      <td>UNKNOWN</td>\n",
       "      <td>UNKNOWN</td>\n",
       "      <td>0</td>\n",
       "      <td>HTTPS://WWW.GOODREADS.COM//BOOK_LINK/FOLLOW/1?...</td>\n",
       "      <td>HTTPS://WWW.GOODREADS.COM//BOOK_LINK/FOLLOW/8?...</td>\n",
       "      <td>42614702, 42614702, 42182331, 45730306, 379129...</td>\n",
       "      <td>UNKNOWN</td>\n",
       "      <td>A SEARING AND SINISTER THRILLER FOR READERS WH...</td>\n",
       "    </tr>\n",
       "    <tr>\n",
       "      <th>2</th>\n",
       "      <td>13825165</td>\n",
       "      <td>CAFENOVA</td>\n",
       "      <td>HTTPS://WWW.GOODREADS.COM//BOOK/SHOW/13825165-...</td>\n",
       "      <td>1</td>\n",
       "      <td>HTTPS://I.GR-ASSETS.COM/IMAGES/S/COMPRESSED.PH...</td>\n",
       "      <td>S. JANE SCHEYDER</td>\n",
       "      <td>HTTPS://WWW.GOODREADS.COM/AUTHOR/SHOW/5871778....</td>\n",
       "      <td>769</td>\n",
       "      <td>90</td>\n",
       "      <td>318.0</td>\n",
       "      <td>...</td>\n",
       "      <td>9780983031802</td>\n",
       "      <td>UNKNOWN</td>\n",
       "      <td>UNKNOWN</td>\n",
       "      <td>UNKNOWN</td>\n",
       "      <td>0</td>\n",
       "      <td>HTTPS://WWW.GOODREADS.COM//BOOK_LINK/FOLLOW/17...</td>\n",
       "      <td>HTTPS://WWW.GOODREADS.COM//BOOK_LINK/FOLLOW/8?...</td>\n",
       "      <td>89959, 89959, 59091, 1996085, 25843420, 364288...</td>\n",
       "      <td>23498673</td>\n",
       "      <td>LEAVING HER BROKEN HEART BEHIND IN SEATTLE, MA...</td>\n",
       "    </tr>\n",
       "    <tr>\n",
       "      <th>3</th>\n",
       "      <td>18061</td>\n",
       "      <td>UNCLE FRED IN THE SPRINGTIME</td>\n",
       "      <td>HTTPS://WWW.GOODREADS.COM//BOOK/SHOW/18061.UNC...</td>\n",
       "      <td>1</td>\n",
       "      <td>HTTPS://I.GR-ASSETS.COM/IMAGES/S/COMPRESSED.PH...</td>\n",
       "      <td>P.G. WODEHOUSE</td>\n",
       "      <td>HTTPS://WWW.GOODREADS.COM/AUTHOR/SHOW/7963.P_G...</td>\n",
       "      <td>4200</td>\n",
       "      <td>328</td>\n",
       "      <td>288.0</td>\n",
       "      <td>...</td>\n",
       "      <td>9781841591308</td>\n",
       "      <td>UNKNOWN</td>\n",
       "      <td>UNKNOWN</td>\n",
       "      <td>CLARENCE THREEPWOOD, SEBASTIAN BEACH, RUPERT B...</td>\n",
       "      <td>0</td>\n",
       "      <td>HTTPS://WWW.GOODREADS.COM//BOOK_LINK/FOLLOW/17...</td>\n",
       "      <td>HTTPS://WWW.GOODREADS.COM//BOOK_LINK/FOLLOW/8?...</td>\n",
       "      <td>17910171, 17910171, 13418137, 48839090, 390885...</td>\n",
       "      <td>16241184, 16241186, 16241198</td>\n",
       "      <td>PONGO TWISTLETON IS IN A STATE OF FINANCIAL EM...</td>\n",
       "    </tr>\n",
       "    <tr>\n",
       "      <th>4</th>\n",
       "      <td>3766428</td>\n",
       "      <td>DOUBLE SHARE</td>\n",
       "      <td>HTTPS://WWW.GOODREADS.COM//BOOK/SHOW/3766428-D...</td>\n",
       "      <td>1</td>\n",
       "      <td>HTTPS://I.GR-ASSETS.COM/IMAGES/S/COMPRESSED.PH...</td>\n",
       "      <td>NATHAN LOWELL</td>\n",
       "      <td>HTTPS://WWW.GOODREADS.COM/AUTHOR/SHOW/1048167....</td>\n",
       "      <td>4212</td>\n",
       "      <td>184</td>\n",
       "      <td>308.0</td>\n",
       "      <td>...</td>\n",
       "      <td>UNKNOWN</td>\n",
       "      <td>UNKNOWN</td>\n",
       "      <td>UNKNOWN</td>\n",
       "      <td>ISHMAEL HORATIO WANG</td>\n",
       "      <td>1</td>\n",
       "      <td>HTTPS://WWW.GOODREADS.COM//BOOK_LINK/FOLLOW/17...</td>\n",
       "      <td>UNKNOWN</td>\n",
       "      <td>53172544, 53172544, 20951387, 52856493, 444219...</td>\n",
       "      <td>2334538, 2906048, 4266110, 6963764, 10054649, ...</td>\n",
       "      <td>IN HIS FIRST ASSIGNMENT AS AN OFFICER, ISHMAEL...</td>\n",
       "    </tr>\n",
       "  </tbody>\n",
       "</table>\n",
       "<p>5 rows × 25 columns</p>\n",
       "</div>"
      ],
      "text/plain": [
       "         id                              title  \\\n",
       "0   2533958                        FROST/NIXON   \n",
       "1  16071790  JUST WHAT KIND OF MOTHER ARE YOU?   \n",
       "2  13825165                           CAFENOVA   \n",
       "3     18061       UNCLE FRED IN THE SPRINGTIME   \n",
       "4   3766428                       DOUBLE SHARE   \n",
       "\n",
       "                                                link  series  \\\n",
       "0  HTTPS://WWW.GOODREADS.COM//BOOK/SHOW/2533958.F...       0   \n",
       "1  HTTPS://WWW.GOODREADS.COM//BOOK/SHOW/16071790-...       0   \n",
       "2  HTTPS://WWW.GOODREADS.COM//BOOK/SHOW/13825165-...       1   \n",
       "3  HTTPS://WWW.GOODREADS.COM//BOOK/SHOW/18061.UNC...       1   \n",
       "4  HTTPS://WWW.GOODREADS.COM//BOOK/SHOW/3766428-D...       1   \n",
       "\n",
       "                                          cover_link            author  \\\n",
       "0  HTTPS://I.GR-ASSETS.COM/IMAGES/S/COMPRESSED.PH...       DAVID FROST   \n",
       "1  HTTPS://I.GR-ASSETS.COM/IMAGES/S/COMPRESSED.PH...        PAULA DALY   \n",
       "2  HTTPS://I.GR-ASSETS.COM/IMAGES/S/COMPRESSED.PH...  S. JANE SCHEYDER   \n",
       "3  HTTPS://I.GR-ASSETS.COM/IMAGES/S/COMPRESSED.PH...    P.G. WODEHOUSE   \n",
       "4  HTTPS://I.GR-ASSETS.COM/IMAGES/S/COMPRESSED.PH...     NATHAN LOWELL   \n",
       "\n",
       "                                         author_link  rating_count  \\\n",
       "0  HTTPS://WWW.GOODREADS.COM/AUTHOR/SHOW/264173.D...           523   \n",
       "1  HTTPS://WWW.GOODREADS.COM/AUTHOR/SHOW/6175529....         10092   \n",
       "2  HTTPS://WWW.GOODREADS.COM/AUTHOR/SHOW/5871778....           769   \n",
       "3  HTTPS://WWW.GOODREADS.COM/AUTHOR/SHOW/7963.P_G...          4200   \n",
       "4  HTTPS://WWW.GOODREADS.COM/AUTHOR/SHOW/1048167....          4212   \n",
       "\n",
       "   review_count  number_of_pages  ...         isbn13     asin settings  \\\n",
       "0            51            338.0  ...  9780230531147  UNKNOWN  UNKNOWN   \n",
       "1          1236            320.0  ...  9780385680073  UNKNOWN  UNKNOWN   \n",
       "2            90            318.0  ...  9780983031802  UNKNOWN  UNKNOWN   \n",
       "3           328            288.0  ...  9781841591308  UNKNOWN  UNKNOWN   \n",
       "4           184            308.0  ...        UNKNOWN  UNKNOWN  UNKNOWN   \n",
       "\n",
       "                                          characters awards  \\\n",
       "0                         RICHARD NIXON, DAVID FROST      0   \n",
       "1                                            UNKNOWN      0   \n",
       "2                                            UNKNOWN      0   \n",
       "3  CLARENCE THREEPWOOD, SEBASTIAN BEACH, RUPERT B...      0   \n",
       "4                               ISHMAEL HORATIO WANG      1   \n",
       "\n",
       "                                amazon_redirect_link  \\\n",
       "0  HTTPS://WWW.GOODREADS.COM//BOOK_LINK/FOLLOW/17...   \n",
       "1  HTTPS://WWW.GOODREADS.COM//BOOK_LINK/FOLLOW/1?...   \n",
       "2  HTTPS://WWW.GOODREADS.COM//BOOK_LINK/FOLLOW/17...   \n",
       "3  HTTPS://WWW.GOODREADS.COM//BOOK_LINK/FOLLOW/17...   \n",
       "4  HTTPS://WWW.GOODREADS.COM//BOOK_LINK/FOLLOW/17...   \n",
       "\n",
       "                              worldcat_redirect_link  \\\n",
       "0  HTTPS://WWW.GOODREADS.COM//BOOK_LINK/FOLLOW/8?...   \n",
       "1  HTTPS://WWW.GOODREADS.COM//BOOK_LINK/FOLLOW/8?...   \n",
       "2  HTTPS://WWW.GOODREADS.COM//BOOK_LINK/FOLLOW/8?...   \n",
       "3  HTTPS://WWW.GOODREADS.COM//BOOK_LINK/FOLLOW/8?...   \n",
       "4                                            UNKNOWN   \n",
       "\n",
       "                                   recommended_books  \\\n",
       "0  13167112, 13167112, 29429295, 2074322, 3025937...   \n",
       "1  42614702, 42614702, 42182331, 45730306, 379129...   \n",
       "2  89959, 89959, 59091, 1996085, 25843420, 364288...   \n",
       "3  17910171, 17910171, 13418137, 48839090, 390885...   \n",
       "4  53172544, 53172544, 20951387, 52856493, 444219...   \n",
       "\n",
       "                                     books_in_series  \\\n",
       "0                                            UNKNOWN   \n",
       "1                                            UNKNOWN   \n",
       "2                                           23498673   \n",
       "3                       16241184, 16241186, 16241198   \n",
       "4  2334538, 2906048, 4266110, 6963764, 10054649, ...   \n",
       "\n",
       "                                         description  \n",
       "0  INCLUDING HILARIOUS TALES OF THE PEOPLE HE ENC...  \n",
       "1  A SEARING AND SINISTER THRILLER FOR READERS WH...  \n",
       "2  LEAVING HER BROKEN HEART BEHIND IN SEATTLE, MA...  \n",
       "3  PONGO TWISTLETON IS IN A STATE OF FINANCIAL EM...  \n",
       "4  IN HIS FIRST ASSIGNMENT AS AN OFFICER, ISHMAEL...  \n",
       "\n",
       "[5 rows x 25 columns]"
      ]
     },
     "execution_count": 15,
     "metadata": {},
     "output_type": "execute_result"
    }
   ],
   "source": [
    "x_train.head()"
   ]
  },
  {
   "cell_type": "markdown",
   "metadata": {},
   "source": [
    "<b> Visualization 1 </b>"
   ]
  },
  {
   "cell_type": "code",
   "execution_count": 16,
   "metadata": {},
   "outputs": [
    {
     "data": {
      "text/plain": [
       "<matplotlib.legend.Legend at 0x133ddcd0>"
      ]
     },
     "execution_count": 16,
     "metadata": {},
     "output_type": "execute_result"
    },
    {
     "data": {
      "image/png": "[encoded data removed]",
      "text/plain": [
       "<Figure size 1080x720 with 1 Axes>"
      ]
     },
     "metadata": {},
     "output_type": "display_data"
    }
   ],
   "source": [
    "x_train['awards'].value_counts().plot(kind=\"pie\", autopct ='%.2f', figsize = (15, 10))\n",
    "#Define the title and set legend\n",
    "plt.title(\"Awards visualization\")\n",
    "plt.legend([\"0: No\", \"1: Yes\"], title =\"Awards\",loc = \"best\", bbox_to_anchor = (1, 1) )"
   ]
  },
  {
   "cell_type": "markdown",
   "metadata": {},
   "source": [
    "I use pie chart to illustrate award viewing for a variety of reasons. First of all, for showing data like that, the pie chart is very good. Secondly, to show percentage or portional data, the pie chart is used. Finally, as there are only two forms of interaction with the award data, it is simple to construct a pie chart and the user can easily see if the books have won an award. As can be seen, only 20% of books had been won a award. "
   ]
  },
  {
   "cell_type": "markdown",
   "metadata": {},
   "source": [
    "<b> Visualization 2 </b>"
   ]
  },
  {
   "cell_type": "code",
   "execution_count": 17,
   "metadata": {},
   "outputs": [
    {
     "data": {
      "text/plain": [
       "<AxesSubplot:xlabel='review_count'>"
      ]
     },
     "execution_count": 17,
     "metadata": {},
     "output_type": "execute_result"
    },
    {
     "data": {
      "image/png": "[encoded data removed]",
      "text/plain": [
       "<Figure size 1440x576 with 1 Axes>"
      ]
     },
     "metadata": {
      "needs_background": "light"
     },
     "output_type": "display_data"
    }
   ],
   "source": [
    "# check outliner\n",
    "plt.figure(figsize=(20,8))\n",
    "sns.boxplot(x = x_train['review_count'])"
   ]
  },
  {
   "cell_type": "markdown",
   "metadata": {},
   "source": [
    "According to the graph, books has more than 25000 reviews is considered the outlier."
   ]
  },
  {
   "cell_type": "code",
   "execution_count": 18,
   "metadata": {},
   "outputs": [],
   "source": [
    "# drop outlier\n",
    "x_train_subset = x_train.drop(x_train.index[x_train['review_count']>25000])"
   ]
  },
  {
   "cell_type": "code",
   "execution_count": 19,
   "metadata": {},
   "outputs": [
    {
     "data": {
      "text/plain": [
       "Text(0, 0.5, 'Frequency')"
      ]
     },
     "execution_count": 19,
     "metadata": {},
     "output_type": "execute_result"
    },
    {
     "data": {
      "image/png": "[encoded data removed]",
      "text/plain": [
       "<Figure size 720x720 with 1 Axes>"
      ]
     },
     "metadata": {
      "needs_background": "light"
     },
     "output_type": "display_data"
    }
   ],
   "source": [
    "figure = plt.figure(figsize=(10,10)) \n",
    "#Define the axis\n",
    "ax = figure.gca()\n",
    "#Draw the plot using histogram plot\n",
    "x_train_subset['review_count'].plot.hist(ax = ax)\n",
    "#Define the title, x label, y label\n",
    "plt.legend(loc = \"upper left\", bbox_to_anchor = (1, 1) )\n",
    "ax.set_title('Review count distribution')\n",
    "ax.set_xlabel('Review count') \n",
    "ax.set_ylabel('Frequency')"
   ]
  },
  {
   "cell_type": "markdown",
   "metadata": {},
   "source": [
    "\n",
    "Through this chart we can see that the majority of books have zero reviews. A few books with reviews fall in the range of 0 to 5000. Very few books have reviews above 5000."
   ]
  },
  {
   "cell_type": "markdown",
   "metadata": {},
   "source": [
    "<b> Visualization 3 </b>"
   ]
  },
  {
   "cell_type": "code",
   "execution_count": 20,
   "metadata": {},
   "outputs": [
    {
     "data": {
      "text/plain": [
       "Text(0, 0.5, 'review_count')"
      ]
     },
     "execution_count": 20,
     "metadata": {},
     "output_type": "execute_result"
    },
    {
     "data": {
      "image/png": "[encoded data removed]",
      "text/plain": [
       "<Figure size 720x720 with 1 Axes>"
      ]
     },
     "metadata": {
      "needs_background": "light"
     },
     "output_type": "display_data"
    }
   ],
   "source": [
    "#set the plot area\n",
    "figure = plt.figure(figsize=(10,10)) \n",
    "# Define axis \n",
    "ax = figure.gca()    \n",
    "x_train[['review_count','awards']].boxplot(by = 'awards', ax = ax, showfliers=False) \n",
    "#Define title, x lable and y lable\n",
    "# plt.legend(loc = \"upper left\", bbox_to_anchor = (1, 1) )\n",
    "ax.set_title('Box plots of awards by review count') \n",
    "ax.set_xlabel('awards')\n",
    "ax.set_ylabel('review_count')"
   ]
  },
  {
   "cell_type": "markdown",
   "metadata": {},
   "source": [
    "The box plots graphic below illustrates the different distribution level of book review according to 2 groups of books. These books are divided into 2 groups as ‘Rewarded’ (shown as 1) for books which have achieved at least 1 reward and ‘Not Rewarded’ (shown as 0) for books which have never been rewarded by the community. According to the chart, it can be seen that there is no ‘Not Rewarded’ book comes across the quantity of 1000 reviews. For this group, these books only can receive from 0 to nearly 1000 reviews. However, most of them receive from 0 to about 400 review. The mean value for book review of this group is only about 100 review per book. On the other hand, the group ‘Rewarded’ books has wider distribution of review (from 0 to 5800). The distribution level become thick from 300 to 2500. The mean value stays at 800, which is 8 times compared to the ‘Not Rewarded’ group.\n"
   ]
  },
  {
   "cell_type": "markdown",
   "metadata": {},
   "source": [
    "<b> 2. Feature Engineering </b>"
   ]
  },
  {
   "cell_type": "code",
   "execution_count": 21,
   "metadata": {},
   "outputs": [],
   "source": [
    "x_train.insert(0, 'average_rating' ,y_train['average_rating'])\n",
    "x_test.insert(0, 'average_rating' ,y_train['average_rating'])"
   ]
  },
  {
   "cell_type": "markdown",
   "metadata": {},
   "source": [
    "<b> Drop unnecessary columns </b>\n"
   ]
  },
  {
   "cell_type": "code",
   "execution_count": 22,
   "metadata": {},
   "outputs": [],
   "source": [
    "x_train = x_train.drop(columns={'books_in_series','date_published','original_title','settings','id', 'link', 'cover_link', 'author_link', 'amazon_redirect_link', 'worldcat_redirect_link', 'asin', 'isbn', 'isbn13', 'description', 'recommended_books','description'}, axis =1)"
   ]
  },
  {
   "cell_type": "code",
   "execution_count": 23,
   "metadata": {},
   "outputs": [],
   "source": [
    "x_test = x_test.drop(columns={'books_in_series','date_published','original_title','settings','id', 'link', 'cover_link', 'author_link', 'amazon_redirect_link', 'worldcat_redirect_link', 'asin', 'isbn', 'isbn13', 'description', 'recommended_books','description'}, axis =1)"
   ]
  },
  {
   "cell_type": "markdown",
   "metadata": {},
   "source": [
    "<b> Label encoding </b>\n"
   ]
  },
  {
   "cell_type": "code",
   "execution_count": 24,
   "metadata": {},
   "outputs": [],
   "source": [
    "label_encode = preprocessing.LabelEncoder()\n",
    "list = [\"title\",\"author\", \"publisher\",\"genre_and_votes\",\"awards\",\"series\",\"average_rating\",'characters']\n",
    "for i in list:\n",
    "    x_train[i] = label_encode.fit_transform(x_train[i])\n",
    "    x_test[i] = label_encode.fit_transform(x_test[i])"
   ]
  },
  {
   "cell_type": "code",
   "execution_count": 25,
   "metadata": {},
   "outputs": [
    {
     "data": {
      "text/html": [
       "<style  type=\"text/css\" >\n",
       "#T_7d86a4ae_4f75_11eb_8853_aced5c909132row0_col0,#T_7d86a4ae_4f75_11eb_8853_aced5c909132row1_col1,#T_7d86a4ae_4f75_11eb_8853_aced5c909132row2_col2,#T_7d86a4ae_4f75_11eb_8853_aced5c909132row3_col3,#T_7d86a4ae_4f75_11eb_8853_aced5c909132row4_col4,#T_7d86a4ae_4f75_11eb_8853_aced5c909132row5_col5,#T_7d86a4ae_4f75_11eb_8853_aced5c909132row6_col6,#T_7d86a4ae_4f75_11eb_8853_aced5c909132row7_col7,#T_7d86a4ae_4f75_11eb_8853_aced5c909132row8_col8,#T_7d86a4ae_4f75_11eb_8853_aced5c909132row9_col9,#T_7d86a4ae_4f75_11eb_8853_aced5c909132row10_col10{\n",
       "            background-color:  #b40426;\n",
       "            color:  #f1f1f1;\n",
       "        }#T_7d86a4ae_4f75_11eb_8853_aced5c909132row0_col1,#T_7d86a4ae_4f75_11eb_8853_aced5c909132row4_col7,#T_7d86a4ae_4f75_11eb_8853_aced5c909132row8_col3{\n",
       "            background-color:  #445acc;\n",
       "            color:  #f1f1f1;\n",
       "        }#T_7d86a4ae_4f75_11eb_8853_aced5c909132row0_col2{\n",
       "            background-color:  #89acfd;\n",
       "            color:  #000000;\n",
       "        }#T_7d86a4ae_4f75_11eb_8853_aced5c909132row0_col3{\n",
       "            background-color:  #4055c8;\n",
       "            color:  #f1f1f1;\n",
       "        }#T_7d86a4ae_4f75_11eb_8853_aced5c909132row0_col4,#T_7d86a4ae_4f75_11eb_8853_aced5c909132row1_col2,#T_7d86a4ae_4f75_11eb_8853_aced5c909132row3_col10{\n",
       "            background-color:  #6687ed;\n",
       "            color:  #000000;\n",
       "        }#T_7d86a4ae_4f75_11eb_8853_aced5c909132row0_col5{\n",
       "            background-color:  #7093f3;\n",
       "            color:  #000000;\n",
       "        }#T_7d86a4ae_4f75_11eb_8853_aced5c909132row0_col6,#T_7d86a4ae_4f75_11eb_8853_aced5c909132row3_col2,#T_7d86a4ae_4f75_11eb_8853_aced5c909132row3_col5,#T_7d86a4ae_4f75_11eb_8853_aced5c909132row6_col0,#T_7d86a4ae_4f75_11eb_8853_aced5c909132row8_col2,#T_7d86a4ae_4f75_11eb_8853_aced5c909132row10_col2{\n",
       "            background-color:  #6b8df0;\n",
       "            color:  #000000;\n",
       "        }#T_7d86a4ae_4f75_11eb_8853_aced5c909132row0_col7,#T_7d86a4ae_4f75_11eb_8853_aced5c909132row3_col6,#T_7d86a4ae_4f75_11eb_8853_aced5c909132row4_col9{\n",
       "            background-color:  #4b64d5;\n",
       "            color:  #f1f1f1;\n",
       "        }#T_7d86a4ae_4f75_11eb_8853_aced5c909132row0_col8,#T_7d86a4ae_4f75_11eb_8853_aced5c909132row1_col3,#T_7d86a4ae_4f75_11eb_8853_aced5c909132row8_col0,#T_7d86a4ae_4f75_11eb_8853_aced5c909132row8_col10,#T_7d86a4ae_4f75_11eb_8853_aced5c909132row9_col0{\n",
       "            background-color:  #5875e1;\n",
       "            color:  #000000;\n",
       "        }#T_7d86a4ae_4f75_11eb_8853_aced5c909132row0_col9{\n",
       "            background-color:  #80a3fa;\n",
       "            color:  #000000;\n",
       "        }#T_7d86a4ae_4f75_11eb_8853_aced5c909132row0_col10,#T_7d86a4ae_4f75_11eb_8853_aced5c909132row8_col4{\n",
       "            background-color:  #5572df;\n",
       "            color:  #000000;\n",
       "        }#T_7d86a4ae_4f75_11eb_8853_aced5c909132row1_col0,#T_7d86a4ae_4f75_11eb_8853_aced5c909132row5_col1,#T_7d86a4ae_4f75_11eb_8853_aced5c909132row6_col7{\n",
       "            background-color:  #465ecf;\n",
       "            color:  #f1f1f1;\n",
       "        }#T_7d86a4ae_4f75_11eb_8853_aced5c909132row1_col4{\n",
       "            background-color:  #5f7fe8;\n",
       "            color:  #000000;\n",
       "        }#T_7d86a4ae_4f75_11eb_8853_aced5c909132row1_col5{\n",
       "            background-color:  #6e90f2;\n",
       "            color:  #000000;\n",
       "        }#T_7d86a4ae_4f75_11eb_8853_aced5c909132row1_col6,#T_7d86a4ae_4f75_11eb_8853_aced5c909132row3_col8{\n",
       "            background-color:  #4e68d8;\n",
       "            color:  #000000;\n",
       "        }#T_7d86a4ae_4f75_11eb_8853_aced5c909132row1_col7,#T_7d86a4ae_4f75_11eb_8853_aced5c909132row1_col10,#T_7d86a4ae_4f75_11eb_8853_aced5c909132row3_col7{\n",
       "            background-color:  #6384eb;\n",
       "            color:  #000000;\n",
       "        }#T_7d86a4ae_4f75_11eb_8853_aced5c909132row1_col8,#T_7d86a4ae_4f75_11eb_8853_aced5c909132row4_col1,#T_7d86a4ae_4f75_11eb_8853_aced5c909132row10_col1{\n",
       "            background-color:  #455cce;\n",
       "            color:  #f1f1f1;\n",
       "        }#T_7d86a4ae_4f75_11eb_8853_aced5c909132row1_col9{\n",
       "            background-color:  #7b9ff9;\n",
       "            color:  #000000;\n",
       "        }#T_7d86a4ae_4f75_11eb_8853_aced5c909132row2_col0,#T_7d86a4ae_4f75_11eb_8853_aced5c909132row6_col9{\n",
       "            background-color:  #6282ea;\n",
       "            color:  #000000;\n",
       "        }#T_7d86a4ae_4f75_11eb_8853_aced5c909132row2_col1,#T_7d86a4ae_4f75_11eb_8853_aced5c909132row2_col3,#T_7d86a4ae_4f75_11eb_8853_aced5c909132row2_col9,#T_7d86a4ae_4f75_11eb_8853_aced5c909132row6_col8,#T_7d86a4ae_4f75_11eb_8853_aced5c909132row8_col6,#T_7d86a4ae_4f75_11eb_8853_aced5c909132row9_col2,#T_7d86a4ae_4f75_11eb_8853_aced5c909132row9_col4,#T_7d86a4ae_4f75_11eb_8853_aced5c909132row9_col5,#T_7d86a4ae_4f75_11eb_8853_aced5c909132row9_col6,#T_7d86a4ae_4f75_11eb_8853_aced5c909132row9_col10,#T_7d86a4ae_4f75_11eb_8853_aced5c909132row10_col0,#T_7d86a4ae_4f75_11eb_8853_aced5c909132row10_col7{\n",
       "            background-color:  #3b4cc0;\n",
       "            color:  #f1f1f1;\n",
       "        }#T_7d86a4ae_4f75_11eb_8853_aced5c909132row2_col4,#T_7d86a4ae_4f75_11eb_8853_aced5c909132row7_col2,#T_7d86a4ae_4f75_11eb_8853_aced5c909132row7_col5,#T_7d86a4ae_4f75_11eb_8853_aced5c909132row8_col5{\n",
       "            background-color:  #6788ee;\n",
       "            color:  #000000;\n",
       "        }#T_7d86a4ae_4f75_11eb_8853_aced5c909132row2_col5,#T_7d86a4ae_4f75_11eb_8853_aced5c909132row6_col10,#T_7d86a4ae_4f75_11eb_8853_aced5c909132row8_col9{\n",
       "            background-color:  #7396f5;\n",
       "            color:  #000000;\n",
       "        }#T_7d86a4ae_4f75_11eb_8853_aced5c909132row2_col6{\n",
       "            background-color:  #6485ec;\n",
       "            color:  #000000;\n",
       "        }#T_7d86a4ae_4f75_11eb_8853_aced5c909132row2_col7,#T_7d86a4ae_4f75_11eb_8853_aced5c909132row4_col3,#T_7d86a4ae_4f75_11eb_8853_aced5c909132row4_col8,#T_7d86a4ae_4f75_11eb_8853_aced5c909132row5_col3,#T_7d86a4ae_4f75_11eb_8853_aced5c909132row5_col9{\n",
       "            background-color:  #3e51c5;\n",
       "            color:  #f1f1f1;\n",
       "        }#T_7d86a4ae_4f75_11eb_8853_aced5c909132row2_col8,#T_7d86a4ae_4f75_11eb_8853_aced5c909132row5_col8{\n",
       "            background-color:  #4358cb;\n",
       "            color:  #f1f1f1;\n",
       "        }#T_7d86a4ae_4f75_11eb_8853_aced5c909132row2_col10,#T_7d86a4ae_4f75_11eb_8853_aced5c909132row3_col4{\n",
       "            background-color:  #5e7de7;\n",
       "            color:  #000000;\n",
       "        }#T_7d86a4ae_4f75_11eb_8853_aced5c909132row3_col0{\n",
       "            background-color:  #4961d2;\n",
       "            color:  #f1f1f1;\n",
       "        }#T_7d86a4ae_4f75_11eb_8853_aced5c909132row3_col1,#T_7d86a4ae_4f75_11eb_8853_aced5c909132row7_col4,#T_7d86a4ae_4f75_11eb_8853_aced5c909132row9_col7{\n",
       "            background-color:  #5d7ce6;\n",
       "            color:  #000000;\n",
       "        }#T_7d86a4ae_4f75_11eb_8853_aced5c909132row3_col9{\n",
       "            background-color:  #799cf8;\n",
       "            color:  #000000;\n",
       "        }#T_7d86a4ae_4f75_11eb_8853_aced5c909132row4_col0,#T_7d86a4ae_4f75_11eb_8853_aced5c909132row8_col7{\n",
       "            background-color:  #4f69d9;\n",
       "            color:  #000000;\n",
       "        }#T_7d86a4ae_4f75_11eb_8853_aced5c909132row4_col2{\n",
       "            background-color:  #779af7;\n",
       "            color:  #000000;\n",
       "        }#T_7d86a4ae_4f75_11eb_8853_aced5c909132row4_col5{\n",
       "            background-color:  #e26952;\n",
       "            color:  #000000;\n",
       "        }#T_7d86a4ae_4f75_11eb_8853_aced5c909132row4_col6{\n",
       "            background-color:  #5470de;\n",
       "            color:  #000000;\n",
       "        }#T_7d86a4ae_4f75_11eb_8853_aced5c909132row4_col10{\n",
       "            background-color:  #93b5fe;\n",
       "            color:  #000000;\n",
       "        }#T_7d86a4ae_4f75_11eb_8853_aced5c909132row5_col0,#T_7d86a4ae_4f75_11eb_8853_aced5c909132row7_col0,#T_7d86a4ae_4f75_11eb_8853_aced5c909132row9_col8{\n",
       "            background-color:  #4c66d6;\n",
       "            color:  #000000;\n",
       "        }#T_7d86a4ae_4f75_11eb_8853_aced5c909132row5_col2{\n",
       "            background-color:  #7699f6;\n",
       "            color:  #000000;\n",
       "        }#T_7d86a4ae_4f75_11eb_8853_aced5c909132row5_col4{\n",
       "            background-color:  #e36b54;\n",
       "            color:  #000000;\n",
       "        }#T_7d86a4ae_4f75_11eb_8853_aced5c909132row5_col6,#T_7d86a4ae_4f75_11eb_8853_aced5c909132row7_col10{\n",
       "            background-color:  #5673e0;\n",
       "            color:  #000000;\n",
       "        }#T_7d86a4ae_4f75_11eb_8853_aced5c909132row5_col7,#T_7d86a4ae_4f75_11eb_8853_aced5c909132row6_col3,#T_7d86a4ae_4f75_11eb_8853_aced5c909132row8_col1,#T_7d86a4ae_4f75_11eb_8853_aced5c909132row10_col3{\n",
       "            background-color:  #4257c9;\n",
       "            color:  #f1f1f1;\n",
       "        }#T_7d86a4ae_4f75_11eb_8853_aced5c909132row5_col10{\n",
       "            background-color:  #b2ccfb;\n",
       "            color:  #000000;\n",
       "        }#T_7d86a4ae_4f75_11eb_8853_aced5c909132row6_col1{\n",
       "            background-color:  #4a63d3;\n",
       "            color:  #f1f1f1;\n",
       "        }#T_7d86a4ae_4f75_11eb_8853_aced5c909132row6_col2{\n",
       "            background-color:  #8caffe;\n",
       "            color:  #000000;\n",
       "        }#T_7d86a4ae_4f75_11eb_8853_aced5c909132row6_col4{\n",
       "            background-color:  #6a8bef;\n",
       "            color:  #000000;\n",
       "        }#T_7d86a4ae_4f75_11eb_8853_aced5c909132row6_col5{\n",
       "            background-color:  #7a9df8;\n",
       "            color:  #000000;\n",
       "        }#T_7d86a4ae_4f75_11eb_8853_aced5c909132row7_col1{\n",
       "            background-color:  #6180e9;\n",
       "            color:  #000000;\n",
       "        }#T_7d86a4ae_4f75_11eb_8853_aced5c909132row7_col3{\n",
       "            background-color:  #5b7ae5;\n",
       "            color:  #000000;\n",
       "        }#T_7d86a4ae_4f75_11eb_8853_aced5c909132row7_col6,#T_7d86a4ae_4f75_11eb_8853_aced5c909132row9_col3,#T_7d86a4ae_4f75_11eb_8853_aced5c909132row10_col9{\n",
       "            background-color:  #485fd1;\n",
       "            color:  #f1f1f1;\n",
       "        }#T_7d86a4ae_4f75_11eb_8853_aced5c909132row7_col8,#T_7d86a4ae_4f75_11eb_8853_aced5c909132row9_col1{\n",
       "            background-color:  #506bda;\n",
       "            color:  #000000;\n",
       "        }#T_7d86a4ae_4f75_11eb_8853_aced5c909132row7_col9{\n",
       "            background-color:  #85a8fc;\n",
       "            color:  #000000;\n",
       "        }#T_7d86a4ae_4f75_11eb_8853_aced5c909132row10_col4{\n",
       "            background-color:  #8fb1fe;\n",
       "            color:  #000000;\n",
       "        }#T_7d86a4ae_4f75_11eb_8853_aced5c909132row10_col5{\n",
       "            background-color:  #b9d0f9;\n",
       "            color:  #000000;\n",
       "        }#T_7d86a4ae_4f75_11eb_8853_aced5c909132row10_col6{\n",
       "            background-color:  #5977e3;\n",
       "            color:  #000000;\n",
       "        }#T_7d86a4ae_4f75_11eb_8853_aced5c909132row10_col8{\n",
       "            background-color:  #3d50c3;\n",
       "            color:  #f1f1f1;\n",
       "        }</style><table id=\"T_7d86a4ae_4f75_11eb_8853_aced5c909132\" ><thead>    <tr>        <th class=\"blank level0\" ></th>        <th class=\"col_heading level0 col0\" >average_rating</th>        <th class=\"col_heading level0 col1\" >title</th>        <th class=\"col_heading level0 col2\" >series</th>        <th class=\"col_heading level0 col3\" >author</th>        <th class=\"col_heading level0 col4\" >rating_count</th>        <th class=\"col_heading level0 col5\" >review_count</th>        <th class=\"col_heading level0 col6\" >number_of_pages</th>        <th class=\"col_heading level0 col7\" >publisher</th>        <th class=\"col_heading level0 col8\" >genre_and_votes</th>        <th class=\"col_heading level0 col9\" >characters</th>        <th class=\"col_heading level0 col10\" >awards</th>    </tr></thead><tbody>\n",
       "                <tr>\n",
       "                        <th id=\"T_7d86a4ae_4f75_11eb_8853_aced5c909132level0_row0\" class=\"row_heading level0 row0\" >average_rating</th>\n",
       "                        <td id=\"T_7d86a4ae_4f75_11eb_8853_aced5c909132row0_col0\" class=\"data row0 col0\" >1.000000</td>\n",
       "                        <td id=\"T_7d86a4ae_4f75_11eb_8853_aced5c909132row0_col1\" class=\"data row0 col1\" >-0.008395</td>\n",
       "                        <td id=\"T_7d86a4ae_4f75_11eb_8853_aced5c909132row0_col2\" class=\"data row0 col2\" >0.080111</td>\n",
       "                        <td id=\"T_7d86a4ae_4f75_11eb_8853_aced5c909132row0_col3\" class=\"data row0 col3\" >-0.001605</td>\n",
       "                        <td id=\"T_7d86a4ae_4f75_11eb_8853_aced5c909132row0_col4\" class=\"data row0 col4\" >0.020408</td>\n",
       "                        <td id=\"T_7d86a4ae_4f75_11eb_8853_aced5c909132row0_col5\" class=\"data row0 col5\" >0.009589</td>\n",
       "                        <td id=\"T_7d86a4ae_4f75_11eb_8853_aced5c909132row0_col6\" class=\"data row0 col6\" >0.109233</td>\n",
       "                        <td id=\"T_7d86a4ae_4f75_11eb_8853_aced5c909132row0_col7\" class=\"data row0 col7\" >0.010725</td>\n",
       "                        <td id=\"T_7d86a4ae_4f75_11eb_8853_aced5c909132row0_col8\" class=\"data row0 col8\" >0.046391</td>\n",
       "                        <td id=\"T_7d86a4ae_4f75_11eb_8853_aced5c909132row0_col9\" class=\"data row0 col9\" >0.048555</td>\n",
       "                        <td id=\"T_7d86a4ae_4f75_11eb_8853_aced5c909132row0_col10\" class=\"data row0 col10\" >-0.053647</td>\n",
       "            </tr>\n",
       "            <tr>\n",
       "                        <th id=\"T_7d86a4ae_4f75_11eb_8853_aced5c909132level0_row1\" class=\"row_heading level0 row1\" >title</th>\n",
       "                        <td id=\"T_7d86a4ae_4f75_11eb_8853_aced5c909132row1_col0\" class=\"data row1 col0\" >-0.008395</td>\n",
       "                        <td id=\"T_7d86a4ae_4f75_11eb_8853_aced5c909132row1_col1\" class=\"data row1 col1\" >1.000000</td>\n",
       "                        <td id=\"T_7d86a4ae_4f75_11eb_8853_aced5c909132row1_col2\" class=\"data row1 col2\" >-0.040948</td>\n",
       "                        <td id=\"T_7d86a4ae_4f75_11eb_8853_aced5c909132row1_col3\" class=\"data row1 col3\" >0.074566</td>\n",
       "                        <td id=\"T_7d86a4ae_4f75_11eb_8853_aced5c909132row1_col4\" class=\"data row1 col4\" >-0.002042</td>\n",
       "                        <td id=\"T_7d86a4ae_4f75_11eb_8853_aced5c909132row1_col5\" class=\"data row1 col5\" >0.001797</td>\n",
       "                        <td id=\"T_7d86a4ae_4f75_11eb_8853_aced5c909132row1_col6\" class=\"data row1 col6\" >0.013286</td>\n",
       "                        <td id=\"T_7d86a4ae_4f75_11eb_8853_aced5c909132row1_col7\" class=\"data row1 col7\" >0.086465</td>\n",
       "                        <td id=\"T_7d86a4ae_4f75_11eb_8853_aced5c909132row1_col8\" class=\"data row1 col8\" >-0.013641</td>\n",
       "                        <td id=\"T_7d86a4ae_4f75_11eb_8853_aced5c909132row1_col9\" class=\"data row1 col9\" >0.033299</td>\n",
       "                        <td id=\"T_7d86a4ae_4f75_11eb_8853_aced5c909132row1_col10\" class=\"data row1 col10\" >-0.003987</td>\n",
       "            </tr>\n",
       "            <tr>\n",
       "                        <th id=\"T_7d86a4ae_4f75_11eb_8853_aced5c909132level0_row2\" class=\"row_heading level0 row2\" >series</th>\n",
       "                        <td id=\"T_7d86a4ae_4f75_11eb_8853_aced5c909132row2_col0\" class=\"data row2 col0\" >0.080111</td>\n",
       "                        <td id=\"T_7d86a4ae_4f75_11eb_8853_aced5c909132row2_col1\" class=\"data row2 col1\" >-0.040948</td>\n",
       "                        <td id=\"T_7d86a4ae_4f75_11eb_8853_aced5c909132row2_col2\" class=\"data row2 col2\" >1.000000</td>\n",
       "                        <td id=\"T_7d86a4ae_4f75_11eb_8853_aced5c909132row2_col3\" class=\"data row2 col3\" >-0.021844</td>\n",
       "                        <td id=\"T_7d86a4ae_4f75_11eb_8853_aced5c909132row2_col4\" class=\"data row2 col4\" >0.021161</td>\n",
       "                        <td id=\"T_7d86a4ae_4f75_11eb_8853_aced5c909132row2_col5\" class=\"data row2 col5\" >0.017385</td>\n",
       "                        <td id=\"T_7d86a4ae_4f75_11eb_8853_aced5c909132row2_col6\" class=\"data row2 col6\" >0.089251</td>\n",
       "                        <td id=\"T_7d86a4ae_4f75_11eb_8853_aced5c909132row2_col7\" class=\"data row2 col7\" >-0.034129</td>\n",
       "                        <td id=\"T_7d86a4ae_4f75_11eb_8853_aced5c909132row2_col8\" class=\"data row2 col8\" >-0.023654</td>\n",
       "                        <td id=\"T_7d86a4ae_4f75_11eb_8853_aced5c909132row2_col9\" class=\"data row2 col9\" >-0.208709</td>\n",
       "                        <td id=\"T_7d86a4ae_4f75_11eb_8853_aced5c909132row2_col10\" class=\"data row2 col10\" >-0.020086</td>\n",
       "            </tr>\n",
       "            <tr>\n",
       "                        <th id=\"T_7d86a4ae_4f75_11eb_8853_aced5c909132level0_row3\" class=\"row_heading level0 row3\" >author</th>\n",
       "                        <td id=\"T_7d86a4ae_4f75_11eb_8853_aced5c909132row3_col0\" class=\"data row3 col0\" >-0.001605</td>\n",
       "                        <td id=\"T_7d86a4ae_4f75_11eb_8853_aced5c909132row3_col1\" class=\"data row3 col1\" >0.074566</td>\n",
       "                        <td id=\"T_7d86a4ae_4f75_11eb_8853_aced5c909132row3_col2\" class=\"data row3 col2\" >-0.021844</td>\n",
       "                        <td id=\"T_7d86a4ae_4f75_11eb_8853_aced5c909132row3_col3\" class=\"data row3 col3\" >1.000000</td>\n",
       "                        <td id=\"T_7d86a4ae_4f75_11eb_8853_aced5c909132row3_col4\" class=\"data row3 col4\" >-0.006928</td>\n",
       "                        <td id=\"T_7d86a4ae_4f75_11eb_8853_aced5c909132row3_col5\" class=\"data row3 col5\" >-0.006758</td>\n",
       "                        <td id=\"T_7d86a4ae_4f75_11eb_8853_aced5c909132row3_col6\" class=\"data row3 col6\" >0.004805</td>\n",
       "                        <td id=\"T_7d86a4ae_4f75_11eb_8853_aced5c909132row3_col7\" class=\"data row3 col7\" >0.089651</td>\n",
       "                        <td id=\"T_7d86a4ae_4f75_11eb_8853_aced5c909132row3_col8\" class=\"data row3 col8\" >0.013548</td>\n",
       "                        <td id=\"T_7d86a4ae_4f75_11eb_8853_aced5c909132row3_col9\" class=\"data row3 col9\" >0.023717</td>\n",
       "                        <td id=\"T_7d86a4ae_4f75_11eb_8853_aced5c909132row3_col10\" class=\"data row3 col10\" >0.004330</td>\n",
       "            </tr>\n",
       "            <tr>\n",
       "                        <th id=\"T_7d86a4ae_4f75_11eb_8853_aced5c909132level0_row4\" class=\"row_heading level0 row4\" >rating_count</th>\n",
       "                        <td id=\"T_7d86a4ae_4f75_11eb_8853_aced5c909132row4_col0\" class=\"data row4 col0\" >0.020408</td>\n",
       "                        <td id=\"T_7d86a4ae_4f75_11eb_8853_aced5c909132row4_col1\" class=\"data row4 col1\" >-0.002042</td>\n",
       "                        <td id=\"T_7d86a4ae_4f75_11eb_8853_aced5c909132row4_col2\" class=\"data row4 col2\" >0.021161</td>\n",
       "                        <td id=\"T_7d86a4ae_4f75_11eb_8853_aced5c909132row4_col3\" class=\"data row4 col3\" >-0.006928</td>\n",
       "                        <td id=\"T_7d86a4ae_4f75_11eb_8853_aced5c909132row4_col4\" class=\"data row4 col4\" >1.000000</td>\n",
       "                        <td id=\"T_7d86a4ae_4f75_11eb_8853_aced5c909132row4_col5\" class=\"data row4 col5\" >0.831690</td>\n",
       "                        <td id=\"T_7d86a4ae_4f75_11eb_8853_aced5c909132row4_col6\" class=\"data row4 col6\" >0.031937</td>\n",
       "                        <td id=\"T_7d86a4ae_4f75_11eb_8853_aced5c909132row4_col7\" class=\"data row4 col7\" >-0.012592</td>\n",
       "                        <td id=\"T_7d86a4ae_4f75_11eb_8853_aced5c909132row4_col8\" class=\"data row4 col8\" >-0.041086</td>\n",
       "                        <td id=\"T_7d86a4ae_4f75_11eb_8853_aced5c909132row4_col9\" class=\"data row4 col9\" >-0.139600</td>\n",
       "                        <td id=\"T_7d86a4ae_4f75_11eb_8853_aced5c909132row4_col10\" class=\"data row4 col10\" >0.152328</td>\n",
       "            </tr>\n",
       "            <tr>\n",
       "                        <th id=\"T_7d86a4ae_4f75_11eb_8853_aced5c909132level0_row5\" class=\"row_heading level0 row5\" >review_count</th>\n",
       "                        <td id=\"T_7d86a4ae_4f75_11eb_8853_aced5c909132row5_col0\" class=\"data row5 col0\" >0.009589</td>\n",
       "                        <td id=\"T_7d86a4ae_4f75_11eb_8853_aced5c909132row5_col1\" class=\"data row5 col1\" >0.001797</td>\n",
       "                        <td id=\"T_7d86a4ae_4f75_11eb_8853_aced5c909132row5_col2\" class=\"data row5 col2\" >0.017385</td>\n",
       "                        <td id=\"T_7d86a4ae_4f75_11eb_8853_aced5c909132row5_col3\" class=\"data row5 col3\" >-0.006758</td>\n",
       "                        <td id=\"T_7d86a4ae_4f75_11eb_8853_aced5c909132row5_col4\" class=\"data row5 col4\" >0.831690</td>\n",
       "                        <td id=\"T_7d86a4ae_4f75_11eb_8853_aced5c909132row5_col5\" class=\"data row5 col5\" >1.000000</td>\n",
       "                        <td id=\"T_7d86a4ae_4f75_11eb_8853_aced5c909132row5_col6\" class=\"data row5 col6\" >0.042019</td>\n",
       "                        <td id=\"T_7d86a4ae_4f75_11eb_8853_aced5c909132row5_col7\" class=\"data row5 col7\" >-0.023071</td>\n",
       "                        <td id=\"T_7d86a4ae_4f75_11eb_8853_aced5c909132row5_col8\" class=\"data row5 col8\" >-0.022092</td>\n",
       "                        <td id=\"T_7d86a4ae_4f75_11eb_8853_aced5c909132row5_col9\" class=\"data row5 col9\" >-0.192312</td>\n",
       "                        <td id=\"T_7d86a4ae_4f75_11eb_8853_aced5c909132row5_col10\" class=\"data row5 col10\" >0.256107</td>\n",
       "            </tr>\n",
       "            <tr>\n",
       "                        <th id=\"T_7d86a4ae_4f75_11eb_8853_aced5c909132level0_row6\" class=\"row_heading level0 row6\" >number_of_pages</th>\n",
       "                        <td id=\"T_7d86a4ae_4f75_11eb_8853_aced5c909132row6_col0\" class=\"data row6 col0\" >0.109233</td>\n",
       "                        <td id=\"T_7d86a4ae_4f75_11eb_8853_aced5c909132row6_col1\" class=\"data row6 col1\" >0.013286</td>\n",
       "                        <td id=\"T_7d86a4ae_4f75_11eb_8853_aced5c909132row6_col2\" class=\"data row6 col2\" >0.089251</td>\n",
       "                        <td id=\"T_7d86a4ae_4f75_11eb_8853_aced5c909132row6_col3\" class=\"data row6 col3\" >0.004805</td>\n",
       "                        <td id=\"T_7d86a4ae_4f75_11eb_8853_aced5c909132row6_col4\" class=\"data row6 col4\" >0.031937</td>\n",
       "                        <td id=\"T_7d86a4ae_4f75_11eb_8853_aced5c909132row6_col5\" class=\"data row6 col5\" >0.042019</td>\n",
       "                        <td id=\"T_7d86a4ae_4f75_11eb_8853_aced5c909132row6_col6\" class=\"data row6 col6\" >1.000000</td>\n",
       "                        <td id=\"T_7d86a4ae_4f75_11eb_8853_aced5c909132row6_col7\" class=\"data row6 col7\" >-0.005973</td>\n",
       "                        <td id=\"T_7d86a4ae_4f75_11eb_8853_aced5c909132row6_col8\" class=\"data row6 col8\" >-0.054763</td>\n",
       "                        <td id=\"T_7d86a4ae_4f75_11eb_8853_aced5c909132row6_col9\" class=\"data row6 col9\" >-0.054674</td>\n",
       "                        <td id=\"T_7d86a4ae_4f75_11eb_8853_aced5c909132row6_col10\" class=\"data row6 col10\" >0.051035</td>\n",
       "            </tr>\n",
       "            <tr>\n",
       "                        <th id=\"T_7d86a4ae_4f75_11eb_8853_aced5c909132level0_row7\" class=\"row_heading level0 row7\" >publisher</th>\n",
       "                        <td id=\"T_7d86a4ae_4f75_11eb_8853_aced5c909132row7_col0\" class=\"data row7 col0\" >0.010725</td>\n",
       "                        <td id=\"T_7d86a4ae_4f75_11eb_8853_aced5c909132row7_col1\" class=\"data row7 col1\" >0.086465</td>\n",
       "                        <td id=\"T_7d86a4ae_4f75_11eb_8853_aced5c909132row7_col2\" class=\"data row7 col2\" >-0.034129</td>\n",
       "                        <td id=\"T_7d86a4ae_4f75_11eb_8853_aced5c909132row7_col3\" class=\"data row7 col3\" >0.089651</td>\n",
       "                        <td id=\"T_7d86a4ae_4f75_11eb_8853_aced5c909132row7_col4\" class=\"data row7 col4\" >-0.012592</td>\n",
       "                        <td id=\"T_7d86a4ae_4f75_11eb_8853_aced5c909132row7_col5\" class=\"data row7 col5\" >-0.023071</td>\n",
       "                        <td id=\"T_7d86a4ae_4f75_11eb_8853_aced5c909132row7_col6\" class=\"data row7 col6\" >-0.005973</td>\n",
       "                        <td id=\"T_7d86a4ae_4f75_11eb_8853_aced5c909132row7_col7\" class=\"data row7 col7\" >1.000000</td>\n",
       "                        <td id=\"T_7d86a4ae_4f75_11eb_8853_aced5c909132row7_col8\" class=\"data row7 col8\" >0.020413</td>\n",
       "                        <td id=\"T_7d86a4ae_4f75_11eb_8853_aced5c909132row7_col9\" class=\"data row7 col9\" >0.066653</td>\n",
       "                        <td id=\"T_7d86a4ae_4f75_11eb_8853_aced5c909132row7_col10\" class=\"data row7 col10\" >-0.049446</td>\n",
       "            </tr>\n",
       "            <tr>\n",
       "                        <th id=\"T_7d86a4ae_4f75_11eb_8853_aced5c909132level0_row8\" class=\"row_heading level0 row8\" >genre_and_votes</th>\n",
       "                        <td id=\"T_7d86a4ae_4f75_11eb_8853_aced5c909132row8_col0\" class=\"data row8 col0\" >0.046391</td>\n",
       "                        <td id=\"T_7d86a4ae_4f75_11eb_8853_aced5c909132row8_col1\" class=\"data row8 col1\" >-0.013641</td>\n",
       "                        <td id=\"T_7d86a4ae_4f75_11eb_8853_aced5c909132row8_col2\" class=\"data row8 col2\" >-0.023654</td>\n",
       "                        <td id=\"T_7d86a4ae_4f75_11eb_8853_aced5c909132row8_col3\" class=\"data row8 col3\" >0.013548</td>\n",
       "                        <td id=\"T_7d86a4ae_4f75_11eb_8853_aced5c909132row8_col4\" class=\"data row8 col4\" >-0.041086</td>\n",
       "                        <td id=\"T_7d86a4ae_4f75_11eb_8853_aced5c909132row8_col5\" class=\"data row8 col5\" >-0.022092</td>\n",
       "                        <td id=\"T_7d86a4ae_4f75_11eb_8853_aced5c909132row8_col6\" class=\"data row8 col6\" >-0.054763</td>\n",
       "                        <td id=\"T_7d86a4ae_4f75_11eb_8853_aced5c909132row8_col7\" class=\"data row8 col7\" >0.020413</td>\n",
       "                        <td id=\"T_7d86a4ae_4f75_11eb_8853_aced5c909132row8_col8\" class=\"data row8 col8\" >1.000000</td>\n",
       "                        <td id=\"T_7d86a4ae_4f75_11eb_8853_aced5c909132row8_col9\" class=\"data row8 col9\" >0.008200</td>\n",
       "                        <td id=\"T_7d86a4ae_4f75_11eb_8853_aced5c909132row8_col10\" class=\"data row8 col10\" >-0.043241</td>\n",
       "            </tr>\n",
       "            <tr>\n",
       "                        <th id=\"T_7d86a4ae_4f75_11eb_8853_aced5c909132level0_row9\" class=\"row_heading level0 row9\" >characters</th>\n",
       "                        <td id=\"T_7d86a4ae_4f75_11eb_8853_aced5c909132row9_col0\" class=\"data row9 col0\" >0.048555</td>\n",
       "                        <td id=\"T_7d86a4ae_4f75_11eb_8853_aced5c909132row9_col1\" class=\"data row9 col1\" >0.033299</td>\n",
       "                        <td id=\"T_7d86a4ae_4f75_11eb_8853_aced5c909132row9_col2\" class=\"data row9 col2\" >-0.208709</td>\n",
       "                        <td id=\"T_7d86a4ae_4f75_11eb_8853_aced5c909132row9_col3\" class=\"data row9 col3\" >0.023717</td>\n",
       "                        <td id=\"T_7d86a4ae_4f75_11eb_8853_aced5c909132row9_col4\" class=\"data row9 col4\" >-0.139600</td>\n",
       "                        <td id=\"T_7d86a4ae_4f75_11eb_8853_aced5c909132row9_col5\" class=\"data row9 col5\" >-0.192312</td>\n",
       "                        <td id=\"T_7d86a4ae_4f75_11eb_8853_aced5c909132row9_col6\" class=\"data row9 col6\" >-0.054674</td>\n",
       "                        <td id=\"T_7d86a4ae_4f75_11eb_8853_aced5c909132row9_col7\" class=\"data row9 col7\" >0.066653</td>\n",
       "                        <td id=\"T_7d86a4ae_4f75_11eb_8853_aced5c909132row9_col8\" class=\"data row9 col8\" >0.008200</td>\n",
       "                        <td id=\"T_7d86a4ae_4f75_11eb_8853_aced5c909132row9_col9\" class=\"data row9 col9\" >1.000000</td>\n",
       "                        <td id=\"T_7d86a4ae_4f75_11eb_8853_aced5c909132row9_col10\" class=\"data row9 col10\" >-0.154531</td>\n",
       "            </tr>\n",
       "            <tr>\n",
       "                        <th id=\"T_7d86a4ae_4f75_11eb_8853_aced5c909132level0_row10\" class=\"row_heading level0 row10\" >awards</th>\n",
       "                        <td id=\"T_7d86a4ae_4f75_11eb_8853_aced5c909132row10_col0\" class=\"data row10 col0\" >-0.053647</td>\n",
       "                        <td id=\"T_7d86a4ae_4f75_11eb_8853_aced5c909132row10_col1\" class=\"data row10 col1\" >-0.003987</td>\n",
       "                        <td id=\"T_7d86a4ae_4f75_11eb_8853_aced5c909132row10_col2\" class=\"data row10 col2\" >-0.020086</td>\n",
       "                        <td id=\"T_7d86a4ae_4f75_11eb_8853_aced5c909132row10_col3\" class=\"data row10 col3\" >0.004330</td>\n",
       "                        <td id=\"T_7d86a4ae_4f75_11eb_8853_aced5c909132row10_col4\" class=\"data row10 col4\" >0.152328</td>\n",
       "                        <td id=\"T_7d86a4ae_4f75_11eb_8853_aced5c909132row10_col5\" class=\"data row10 col5\" >0.256107</td>\n",
       "                        <td id=\"T_7d86a4ae_4f75_11eb_8853_aced5c909132row10_col6\" class=\"data row10 col6\" >0.051035</td>\n",
       "                        <td id=\"T_7d86a4ae_4f75_11eb_8853_aced5c909132row10_col7\" class=\"data row10 col7\" >-0.049446</td>\n",
       "                        <td id=\"T_7d86a4ae_4f75_11eb_8853_aced5c909132row10_col8\" class=\"data row10 col8\" >-0.043241</td>\n",
       "                        <td id=\"T_7d86a4ae_4f75_11eb_8853_aced5c909132row10_col9\" class=\"data row10 col9\" >-0.154531</td>\n",
       "                        <td id=\"T_7d86a4ae_4f75_11eb_8853_aced5c909132row10_col10\" class=\"data row10 col10\" >1.000000</td>\n",
       "            </tr>\n",
       "    </tbody></table>"
      ],
      "text/plain": [
       "<pandas.io.formats.style.Styler at 0x14d95df0>"
      ]
     },
     "execution_count": 25,
     "metadata": {},
     "output_type": "execute_result"
    }
   ],
   "source": [
    "rs = np.random.RandomState(0)\n",
    "df = pd.DataFrame(rs.rand(10, 10))\n",
    "corr = x_train.corr()\n",
    "corr.style.background_gradient(cmap='coolwarm')"
   ]
  },
  {
   "cell_type": "markdown",
   "metadata": {},
   "source": [
    "<b> Feature selection </b>"
   ]
  },
  {
   "cell_type": "markdown",
   "metadata": {},
   "source": [
    "<b> For X_Train </b>"
   ]
  },
  {
   "cell_type": "code",
   "execution_count": 26,
   "metadata": {},
   "outputs": [],
   "source": [
    "# separate label column\n",
    "X = x_train.copy()\n",
    "del(X['average_rating'])\n",
    "X = np.array(X)\n",
    "Y = np.array(x_train['average_rating'])"
   ]
  },
  {
   "cell_type": "code",
   "execution_count": 27,
   "metadata": {},
   "outputs": [
    {
     "name": "stdout",
     "output_type": "stream",
     "text": [
      "Num Features: 3\n",
      "Selected Features: [False  True False False False  True False False False  True]\n",
      "Feature Ranking: [6 1 7 8 3 1 5 4 2 1]\n"
     ]
    }
   ],
   "source": [
    "# Recursive Feature Elimination - feature selection\n",
    "from sklearn.feature_selection import RFE\n",
    "model = linear_model.LinearRegression()\n",
    "rfe = RFE(model, n_features_to_select=3)\n",
    "fit = rfe.fit(X, Y)\n",
    "print(\"Num Features: %s\" % (fit.n_features_))\n",
    "print(\"Selected Features: %s\" % (fit.support_))\n",
    "print(\"Feature Ranking: %s\" % (fit.ranking_))"
   ]
  },
  {
   "cell_type": "code",
   "execution_count": 28,
   "metadata": {},
   "outputs": [
    {
     "data": {
      "text/html": [
       "<div>\n",
       "<style scoped>\n",
       "    .dataframe tbody tr th:only-of-type {\n",
       "        vertical-align: middle;\n",
       "    }\n",
       "\n",
       "    .dataframe tbody tr th {\n",
       "        vertical-align: top;\n",
       "    }\n",
       "\n",
       "    .dataframe thead th {\n",
       "        text-align: right;\n",
       "    }\n",
       "</style>\n",
       "<table border=\"1\" class=\"dataframe\">\n",
       "  <thead>\n",
       "    <tr style=\"text-align: right;\">\n",
       "      <th></th>\n",
       "      <th>Actual value</th>\n",
       "      <th>Predicted value</th>\n",
       "    </tr>\n",
       "  </thead>\n",
       "  <tbody>\n",
       "    <tr>\n",
       "      <th>0</th>\n",
       "      <td>174</td>\n",
       "      <td>158.394377</td>\n",
       "    </tr>\n",
       "    <tr>\n",
       "      <th>1</th>\n",
       "      <td>218</td>\n",
       "      <td>156.790782</td>\n",
       "    </tr>\n",
       "    <tr>\n",
       "      <th>2</th>\n",
       "      <td>134</td>\n",
       "      <td>155.163297</td>\n",
       "    </tr>\n",
       "    <tr>\n",
       "      <th>3</th>\n",
       "      <td>255</td>\n",
       "      <td>160.504493</td>\n",
       "    </tr>\n",
       "    <tr>\n",
       "      <th>4</th>\n",
       "      <td>134</td>\n",
       "      <td>157.503068</td>\n",
       "    </tr>\n",
       "    <tr>\n",
       "      <th>5</th>\n",
       "      <td>100</td>\n",
       "      <td>158.168399</td>\n",
       "    </tr>\n",
       "    <tr>\n",
       "      <th>6</th>\n",
       "      <td>152</td>\n",
       "      <td>161.703474</td>\n",
       "    </tr>\n",
       "    <tr>\n",
       "      <th>7</th>\n",
       "      <td>176</td>\n",
       "      <td>164.009250</td>\n",
       "    </tr>\n",
       "    <tr>\n",
       "      <th>8</th>\n",
       "      <td>170</td>\n",
       "      <td>161.388801</td>\n",
       "    </tr>\n",
       "    <tr>\n",
       "      <th>9</th>\n",
       "      <td>133</td>\n",
       "      <td>164.901669</td>\n",
       "    </tr>\n",
       "  </tbody>\n",
       "</table>\n",
       "</div>"
      ],
      "text/plain": [
       "   Actual value  Predicted value\n",
       "0           174       158.394377\n",
       "1           218       156.790782\n",
       "2           134       155.163297\n",
       "3           255       160.504493\n",
       "4           134       157.503068\n",
       "5           100       158.168399\n",
       "6           152       161.703474\n",
       "7           176       164.009250\n",
       "8           170       161.388801\n",
       "9           133       164.901669"
      ]
     },
     "execution_count": 28,
     "metadata": {},
     "output_type": "execute_result"
    }
   ],
   "source": [
    "# 80 train, 20 value\n",
    "X_train, X_test, Y_train, Y_test = train_test_split(X, Y, test_size = 0.25, random_state=0, shuffle=True)\n",
    "lin_reg = LinearRegression()\n",
    "lin_reg.fit(X_train, Y_train)\n",
    "my_prediction = lin_reg.predict(X_test)\n",
    "predict_df = pd.DataFrame({'Actual value': Y_test.tolist(), 'Predicted value': my_prediction.tolist()}).head(25)\n",
    "predict_df.head(10)"
   ]
  },
  {
   "cell_type": "code",
   "execution_count": 29,
   "metadata": {},
   "outputs": [
    {
     "data": {
      "text/plain": [
       "25.34171658630055"
      ]
     },
     "execution_count": 29,
     "metadata": {},
     "output_type": "execute_result"
    }
   ],
   "source": [
    "metrics.mean_absolute_error(Y_test, my_prediction)"
   ]
  },
  {
   "cell_type": "code",
   "execution_count": 30,
   "metadata": {},
   "outputs": [
    {
     "data": {
      "text/plain": [
       "1144.5340323412163"
      ]
     },
     "execution_count": 30,
     "metadata": {},
     "output_type": "execute_result"
    }
   ],
   "source": [
    "metrics.mean_squared_error(Y_test, my_prediction)"
   ]
  },
  {
   "cell_type": "code",
   "execution_count": 31,
   "metadata": {},
   "outputs": [
    {
     "data": {
      "text/plain": [
       "33.830962628060355"
      ]
     },
     "execution_count": 31,
     "metadata": {},
     "output_type": "execute_result"
    }
   ],
   "source": [
    "np.sqrt(metrics.mean_squared_error(Y_test, my_prediction))"
   ]
  },
  {
   "cell_type": "markdown",
   "metadata": {},
   "source": [
    "<b> By KFold </b>"
   ]
  },
  {
   "cell_type": "code",
   "execution_count": 32,
   "metadata": {},
   "outputs": [
    {
     "name": "stdout",
     "output_type": "stream",
     "text": [
      "RMSE: 33.37\n",
      "R2: 0.04\n"
     ]
    }
   ],
   "source": [
    "cv = KFold(n_splits=5, random_state=0, shuffle=True)\n",
    "classifier_pipeline = make_pipeline(StandardScaler(), KNeighborsRegressor(n_neighbors=10))\n",
    "Y_pred = cross_val_predict(classifier_pipeline, X, Y, cv=cv)\n",
    "print(\"RMSE: \" + str(round(sqrt(mean_squared_error(Y,Y_pred)),2)))\n",
    "print(\"R2: \" + str(round(r2_score(Y,Y_pred),2)))"
   ]
  },
  {
   "cell_type": "markdown",
   "metadata": {},
   "source": [
    "<b> For X_Test </b>"
   ]
  },
  {
   "cell_type": "code",
   "execution_count": 33,
   "metadata": {},
   "outputs": [
    {
     "data": {
      "text/html": [
       "<style  type=\"text/css\" >\n",
       "#T_851198c6_4f75_11eb_b9d0_aced5c909132row0_col0,#T_851198c6_4f75_11eb_b9d0_aced5c909132row1_col1,#T_851198c6_4f75_11eb_b9d0_aced5c909132row2_col2,#T_851198c6_4f75_11eb_b9d0_aced5c909132row3_col3,#T_851198c6_4f75_11eb_b9d0_aced5c909132row4_col4,#T_851198c6_4f75_11eb_b9d0_aced5c909132row5_col5,#T_851198c6_4f75_11eb_b9d0_aced5c909132row6_col6,#T_851198c6_4f75_11eb_b9d0_aced5c909132row7_col7,#T_851198c6_4f75_11eb_b9d0_aced5c909132row8_col8,#T_851198c6_4f75_11eb_b9d0_aced5c909132row9_col9,#T_851198c6_4f75_11eb_b9d0_aced5c909132row10_col10{\n",
       "            background-color:  #b40426;\n",
       "            color:  #f1f1f1;\n",
       "        }#T_851198c6_4f75_11eb_b9d0_aced5c909132row0_col1,#T_851198c6_4f75_11eb_b9d0_aced5c909132row0_col7,#T_851198c6_4f75_11eb_b9d0_aced5c909132row6_col0{\n",
       "            background-color:  #445acc;\n",
       "            color:  #f1f1f1;\n",
       "        }#T_851198c6_4f75_11eb_b9d0_aced5c909132row0_col2,#T_851198c6_4f75_11eb_b9d0_aced5c909132row0_col9,#T_851198c6_4f75_11eb_b9d0_aced5c909132row6_col4,#T_851198c6_4f75_11eb_b9d0_aced5c909132row6_col10{\n",
       "            background-color:  #7295f4;\n",
       "            color:  #000000;\n",
       "        }#T_851198c6_4f75_11eb_b9d0_aced5c909132row0_col3,#T_851198c6_4f75_11eb_b9d0_aced5c909132row3_col0{\n",
       "            background-color:  #4961d2;\n",
       "            color:  #f1f1f1;\n",
       "        }#T_851198c6_4f75_11eb_b9d0_aced5c909132row0_col4,#T_851198c6_4f75_11eb_b9d0_aced5c909132row1_col4,#T_851198c6_4f75_11eb_b9d0_aced5c909132row8_col2{\n",
       "            background-color:  #6687ed;\n",
       "            color:  #000000;\n",
       "        }#T_851198c6_4f75_11eb_b9d0_aced5c909132row0_col5{\n",
       "            background-color:  #7396f5;\n",
       "            color:  #000000;\n",
       "        }#T_851198c6_4f75_11eb_b9d0_aced5c909132row0_col6,#T_851198c6_4f75_11eb_b9d0_aced5c909132row3_col6{\n",
       "            background-color:  #4f69d9;\n",
       "            color:  #000000;\n",
       "        }#T_851198c6_4f75_11eb_b9d0_aced5c909132row0_col8,#T_851198c6_4f75_11eb_b9d0_aced5c909132row4_col3,#T_851198c6_4f75_11eb_b9d0_aced5c909132row5_col3,#T_851198c6_4f75_11eb_b9d0_aced5c909132row6_col3{\n",
       "            background-color:  #455cce;\n",
       "            color:  #f1f1f1;\n",
       "        }#T_851198c6_4f75_11eb_b9d0_aced5c909132row0_col10,#T_851198c6_4f75_11eb_b9d0_aced5c909132row6_col9{\n",
       "            background-color:  #6485ec;\n",
       "            color:  #000000;\n",
       "        }#T_851198c6_4f75_11eb_b9d0_aced5c909132row1_col0{\n",
       "            background-color:  #3c4ec2;\n",
       "            color:  #f1f1f1;\n",
       "        }#T_851198c6_4f75_11eb_b9d0_aced5c909132row1_col2,#T_851198c6_4f75_11eb_b9d0_aced5c909132row1_col10,#T_851198c6_4f75_11eb_b9d0_aced5c909132row7_col1{\n",
       "            background-color:  #6180e9;\n",
       "            color:  #000000;\n",
       "        }#T_851198c6_4f75_11eb_b9d0_aced5c909132row1_col3,#T_851198c6_4f75_11eb_b9d0_aced5c909132row3_col8,#T_851198c6_4f75_11eb_b9d0_aced5c909132row9_col8{\n",
       "            background-color:  #516ddb;\n",
       "            color:  #000000;\n",
       "        }#T_851198c6_4f75_11eb_b9d0_aced5c909132row1_col5{\n",
       "            background-color:  #779af7;\n",
       "            color:  #000000;\n",
       "        }#T_851198c6_4f75_11eb_b9d0_aced5c909132row1_col6,#T_851198c6_4f75_11eb_b9d0_aced5c909132row9_col7{\n",
       "            background-color:  #5572df;\n",
       "            color:  #000000;\n",
       "        }#T_851198c6_4f75_11eb_b9d0_aced5c909132row1_col7,#T_851198c6_4f75_11eb_b9d0_aced5c909132row5_col6,#T_851198c6_4f75_11eb_b9d0_aced5c909132row10_col6{\n",
       "            background-color:  #5b7ae5;\n",
       "            color:  #000000;\n",
       "        }#T_851198c6_4f75_11eb_b9d0_aced5c909132row1_col8,#T_851198c6_4f75_11eb_b9d0_aced5c909132row7_col0,#T_851198c6_4f75_11eb_b9d0_aced5c909132row10_col0{\n",
       "            background-color:  #4257c9;\n",
       "            color:  #f1f1f1;\n",
       "        }#T_851198c6_4f75_11eb_b9d0_aced5c909132row1_col9{\n",
       "            background-color:  #81a4fb;\n",
       "            color:  #000000;\n",
       "        }#T_851198c6_4f75_11eb_b9d0_aced5c909132row2_col0,#T_851198c6_4f75_11eb_b9d0_aced5c909132row2_col8,#T_851198c6_4f75_11eb_b9d0_aced5c909132row5_col8{\n",
       "            background-color:  #4358cb;\n",
       "            color:  #f1f1f1;\n",
       "        }#T_851198c6_4f75_11eb_b9d0_aced5c909132row2_col1,#T_851198c6_4f75_11eb_b9d0_aced5c909132row2_col3,#T_851198c6_4f75_11eb_b9d0_aced5c909132row5_col9,#T_851198c6_4f75_11eb_b9d0_aced5c909132row6_col8,#T_851198c6_4f75_11eb_b9d0_aced5c909132row8_col0,#T_851198c6_4f75_11eb_b9d0_aced5c909132row8_col6,#T_851198c6_4f75_11eb_b9d0_aced5c909132row9_col2,#T_851198c6_4f75_11eb_b9d0_aced5c909132row9_col4,#T_851198c6_4f75_11eb_b9d0_aced5c909132row9_col5,#T_851198c6_4f75_11eb_b9d0_aced5c909132row9_col10,#T_851198c6_4f75_11eb_b9d0_aced5c909132row10_col7,#T_851198c6_4f75_11eb_b9d0_aced5c909132row10_col8{\n",
       "            background-color:  #3b4cc0;\n",
       "            color:  #f1f1f1;\n",
       "        }#T_851198c6_4f75_11eb_b9d0_aced5c909132row2_col4,#T_851198c6_4f75_11eb_b9d0_aced5c909132row7_col5{\n",
       "            background-color:  #6f92f3;\n",
       "            color:  #000000;\n",
       "        }#T_851198c6_4f75_11eb_b9d0_aced5c909132row2_col5{\n",
       "            background-color:  #7da0f9;\n",
       "            color:  #000000;\n",
       "        }#T_851198c6_4f75_11eb_b9d0_aced5c909132row2_col6{\n",
       "            background-color:  #6282ea;\n",
       "            color:  #000000;\n",
       "        }#T_851198c6_4f75_11eb_b9d0_aced5c909132row2_col7,#T_851198c6_4f75_11eb_b9d0_aced5c909132row9_col6{\n",
       "            background-color:  #3d50c3;\n",
       "            color:  #f1f1f1;\n",
       "        }#T_851198c6_4f75_11eb_b9d0_aced5c909132row2_col9,#T_851198c6_4f75_11eb_b9d0_aced5c909132row4_col8{\n",
       "            background-color:  #3e51c5;\n",
       "            color:  #f1f1f1;\n",
       "        }#T_851198c6_4f75_11eb_b9d0_aced5c909132row2_col10,#T_851198c6_4f75_11eb_b9d0_aced5c909132row4_col6,#T_851198c6_4f75_11eb_b9d0_aced5c909132row9_col1{\n",
       "            background-color:  #5875e1;\n",
       "            color:  #000000;\n",
       "        }#T_851198c6_4f75_11eb_b9d0_aced5c909132row3_col1,#T_851198c6_4f75_11eb_b9d0_aced5c909132row7_col10,#T_851198c6_4f75_11eb_b9d0_aced5c909132row8_col4{\n",
       "            background-color:  #5977e3;\n",
       "            color:  #000000;\n",
       "        }#T_851198c6_4f75_11eb_b9d0_aced5c909132row3_col2,#T_851198c6_4f75_11eb_b9d0_aced5c909132row3_col10,#T_851198c6_4f75_11eb_b9d0_aced5c909132row7_col2{\n",
       "            background-color:  #688aef;\n",
       "            color:  #000000;\n",
       "        }#T_851198c6_4f75_11eb_b9d0_aced5c909132row3_col4,#T_851198c6_4f75_11eb_b9d0_aced5c909132row8_col5{\n",
       "            background-color:  #6a8bef;\n",
       "            color:  #000000;\n",
       "        }#T_851198c6_4f75_11eb_b9d0_aced5c909132row3_col5{\n",
       "            background-color:  #7699f6;\n",
       "            color:  #000000;\n",
       "        }#T_851198c6_4f75_11eb_b9d0_aced5c909132row3_col7{\n",
       "            background-color:  #5f7fe8;\n",
       "            color:  #000000;\n",
       "        }#T_851198c6_4f75_11eb_b9d0_aced5c909132row3_col9{\n",
       "            background-color:  #7ea1fa;\n",
       "            color:  #000000;\n",
       "        }#T_851198c6_4f75_11eb_b9d0_aced5c909132row4_col0,#T_851198c6_4f75_11eb_b9d0_aced5c909132row4_col7,#T_851198c6_4f75_11eb_b9d0_aced5c909132row5_col0{\n",
       "            background-color:  #4055c8;\n",
       "            color:  #f1f1f1;\n",
       "        }#T_851198c6_4f75_11eb_b9d0_aced5c909132row4_col1{\n",
       "            background-color:  #4a63d3;\n",
       "            color:  #f1f1f1;\n",
       "        }#T_851198c6_4f75_11eb_b9d0_aced5c909132row4_col2,#T_851198c6_4f75_11eb_b9d0_aced5c909132row5_col2,#T_851198c6_4f75_11eb_b9d0_aced5c909132row8_col9{\n",
       "            background-color:  #799cf8;\n",
       "            color:  #000000;\n",
       "        }#T_851198c6_4f75_11eb_b9d0_aced5c909132row4_col5{\n",
       "            background-color:  #e0654f;\n",
       "            color:  #000000;\n",
       "        }#T_851198c6_4f75_11eb_b9d0_aced5c909132row4_col9,#T_851198c6_4f75_11eb_b9d0_aced5c909132row6_col7,#T_851198c6_4f75_11eb_b9d0_aced5c909132row8_col3,#T_851198c6_4f75_11eb_b9d0_aced5c909132row10_col1,#T_851198c6_4f75_11eb_b9d0_aced5c909132row10_col3{\n",
       "            background-color:  #485fd1;\n",
       "            color:  #f1f1f1;\n",
       "        }#T_851198c6_4f75_11eb_b9d0_aced5c909132row4_col10{\n",
       "            background-color:  #9bbcff;\n",
       "            color:  #000000;\n",
       "        }#T_851198c6_4f75_11eb_b9d0_aced5c909132row5_col1,#T_851198c6_4f75_11eb_b9d0_aced5c909132row9_col3{\n",
       "            background-color:  #4c66d6;\n",
       "            color:  #000000;\n",
       "        }#T_851198c6_4f75_11eb_b9d0_aced5c909132row5_col4{\n",
       "            background-color:  #e16751;\n",
       "            color:  #000000;\n",
       "        }#T_851198c6_4f75_11eb_b9d0_aced5c909132row5_col7,#T_851198c6_4f75_11eb_b9d0_aced5c909132row8_col1,#T_851198c6_4f75_11eb_b9d0_aced5c909132row9_col0{\n",
       "            background-color:  #3f53c6;\n",
       "            color:  #f1f1f1;\n",
       "        }#T_851198c6_4f75_11eb_b9d0_aced5c909132row5_col10{\n",
       "            background-color:  #b9d0f9;\n",
       "            color:  #000000;\n",
       "        }#T_851198c6_4f75_11eb_b9d0_aced5c909132row6_col1,#T_851198c6_4f75_11eb_b9d0_aced5c909132row7_col8,#T_851198c6_4f75_11eb_b9d0_aced5c909132row8_col10{\n",
       "            background-color:  #536edd;\n",
       "            color:  #000000;\n",
       "        }#T_851198c6_4f75_11eb_b9d0_aced5c909132row6_col2{\n",
       "            background-color:  #85a8fc;\n",
       "            color:  #000000;\n",
       "        }#T_851198c6_4f75_11eb_b9d0_aced5c909132row6_col5{\n",
       "            background-color:  #82a6fb;\n",
       "            color:  #000000;\n",
       "        }#T_851198c6_4f75_11eb_b9d0_aced5c909132row7_col3{\n",
       "            background-color:  #5d7ce6;\n",
       "            color:  #000000;\n",
       "        }#T_851198c6_4f75_11eb_b9d0_aced5c909132row7_col4,#T_851198c6_4f75_11eb_b9d0_aced5c909132row10_col2{\n",
       "            background-color:  #6384eb;\n",
       "            color:  #000000;\n",
       "        }#T_851198c6_4f75_11eb_b9d0_aced5c909132row7_col6{\n",
       "            background-color:  #506bda;\n",
       "            color:  #000000;\n",
       "        }#T_851198c6_4f75_11eb_b9d0_aced5c909132row7_col9{\n",
       "            background-color:  #84a7fc;\n",
       "            color:  #000000;\n",
       "        }#T_851198c6_4f75_11eb_b9d0_aced5c909132row8_col7,#T_851198c6_4f75_11eb_b9d0_aced5c909132row10_col9{\n",
       "            background-color:  #4b64d5;\n",
       "            color:  #f1f1f1;\n",
       "        }#T_851198c6_4f75_11eb_b9d0_aced5c909132row10_col4{\n",
       "            background-color:  #9ebeff;\n",
       "            color:  #000000;\n",
       "        }#T_851198c6_4f75_11eb_b9d0_aced5c909132row10_col5{\n",
       "            background-color:  #c4d5f3;\n",
       "            color:  #000000;\n",
       "        }</style><table id=\"T_851198c6_4f75_11eb_b9d0_aced5c909132\" ><thead>    <tr>        <th class=\"blank level0\" ></th>        <th class=\"col_heading level0 col0\" >average_rating</th>        <th class=\"col_heading level0 col1\" >title</th>        <th class=\"col_heading level0 col2\" >series</th>        <th class=\"col_heading level0 col3\" >author</th>        <th class=\"col_heading level0 col4\" >rating_count</th>        <th class=\"col_heading level0 col5\" >review_count</th>        <th class=\"col_heading level0 col6\" >number_of_pages</th>        <th class=\"col_heading level0 col7\" >publisher</th>        <th class=\"col_heading level0 col8\" >genre_and_votes</th>        <th class=\"col_heading level0 col9\" >characters</th>        <th class=\"col_heading level0 col10\" >awards</th>    </tr></thead><tbody>\n",
       "                <tr>\n",
       "                        <th id=\"T_851198c6_4f75_11eb_b9d0_aced5c909132level0_row0\" class=\"row_heading level0 row0\" >average_rating</th>\n",
       "                        <td id=\"T_851198c6_4f75_11eb_b9d0_aced5c909132row0_col0\" class=\"data row0 col0\" >1.000000</td>\n",
       "                        <td id=\"T_851198c6_4f75_11eb_b9d0_aced5c909132row0_col1\" class=\"data row0 col1\" >-0.015859</td>\n",
       "                        <td id=\"T_851198c6_4f75_11eb_b9d0_aced5c909132row0_col2\" class=\"data row0 col2\" >0.010120</td>\n",
       "                        <td id=\"T_851198c6_4f75_11eb_b9d0_aced5c909132row0_col3\" class=\"data row0 col3\" >0.028011</td>\n",
       "                        <td id=\"T_851198c6_4f75_11eb_b9d0_aced5c909132row0_col4\" class=\"data row0 col4\" >0.001862</td>\n",
       "                        <td id=\"T_851198c6_4f75_11eb_b9d0_aced5c909132row0_col5\" class=\"data row0 col5\" >0.001223</td>\n",
       "                        <td id=\"T_851198c6_4f75_11eb_b9d0_aced5c909132row0_col6\" class=\"data row0 col6\" >0.014224</td>\n",
       "                        <td id=\"T_851198c6_4f75_11eb_b9d0_aced5c909132row0_col7\" class=\"data row0 col7\" >0.003676</td>\n",
       "                        <td id=\"T_851198c6_4f75_11eb_b9d0_aced5c909132row0_col8\" class=\"data row0 col8\" >-0.020349</td>\n",
       "                        <td id=\"T_851198c6_4f75_11eb_b9d0_aced5c909132row0_col9\" class=\"data row0 col9\" >-0.002482</td>\n",
       "                        <td id=\"T_851198c6_4f75_11eb_b9d0_aced5c909132row0_col10\" class=\"data row0 col10\" >0.006691</td>\n",
       "            </tr>\n",
       "            <tr>\n",
       "                        <th id=\"T_851198c6_4f75_11eb_b9d0_aced5c909132level0_row1\" class=\"row_heading level0 row1\" >title</th>\n",
       "                        <td id=\"T_851198c6_4f75_11eb_b9d0_aced5c909132row1_col0\" class=\"data row1 col0\" >-0.015859</td>\n",
       "                        <td id=\"T_851198c6_4f75_11eb_b9d0_aced5c909132row1_col1\" class=\"data row1 col1\" >1.000000</td>\n",
       "                        <td id=\"T_851198c6_4f75_11eb_b9d0_aced5c909132row1_col2\" class=\"data row1 col2\" >-0.051210</td>\n",
       "                        <td id=\"T_851198c6_4f75_11eb_b9d0_aced5c909132row1_col3\" class=\"data row1 col3\" >0.054842</td>\n",
       "                        <td id=\"T_851198c6_4f75_11eb_b9d0_aced5c909132row1_col4\" class=\"data row1 col4\" >0.002285</td>\n",
       "                        <td id=\"T_851198c6_4f75_11eb_b9d0_aced5c909132row1_col5\" class=\"data row1 col5\" >0.014073</td>\n",
       "                        <td id=\"T_851198c6_4f75_11eb_b9d0_aced5c909132row1_col6\" class=\"data row1 col6\" >0.032258</td>\n",
       "                        <td id=\"T_851198c6_4f75_11eb_b9d0_aced5c909132row1_col7\" class=\"data row1 col7\" >0.079585</td>\n",
       "                        <td id=\"T_851198c6_4f75_11eb_b9d0_aced5c909132row1_col8\" class=\"data row1 col8\" >-0.031194</td>\n",
       "                        <td id=\"T_851198c6_4f75_11eb_b9d0_aced5c909132row1_col9\" class=\"data row1 col9\" >0.051154</td>\n",
       "                        <td id=\"T_851198c6_4f75_11eb_b9d0_aced5c909132row1_col10\" class=\"data row1 col10\" >-0.005580</td>\n",
       "            </tr>\n",
       "            <tr>\n",
       "                        <th id=\"T_851198c6_4f75_11eb_b9d0_aced5c909132level0_row2\" class=\"row_heading level0 row2\" >series</th>\n",
       "                        <td id=\"T_851198c6_4f75_11eb_b9d0_aced5c909132row2_col0\" class=\"data row2 col0\" >0.010120</td>\n",
       "                        <td id=\"T_851198c6_4f75_11eb_b9d0_aced5c909132row2_col1\" class=\"data row2 col1\" >-0.051210</td>\n",
       "                        <td id=\"T_851198c6_4f75_11eb_b9d0_aced5c909132row2_col2\" class=\"data row2 col2\" >1.000000</td>\n",
       "                        <td id=\"T_851198c6_4f75_11eb_b9d0_aced5c909132row2_col3\" class=\"data row2 col3\" >-0.023764</td>\n",
       "                        <td id=\"T_851198c6_4f75_11eb_b9d0_aced5c909132row2_col4\" class=\"data row2 col4\" >0.031849</td>\n",
       "                        <td id=\"T_851198c6_4f75_11eb_b9d0_aced5c909132row2_col5\" class=\"data row2 col5\" >0.034403</td>\n",
       "                        <td id=\"T_851198c6_4f75_11eb_b9d0_aced5c909132row2_col6\" class=\"data row2 col6\" >0.073905</td>\n",
       "                        <td id=\"T_851198c6_4f75_11eb_b9d0_aced5c909132row2_col7\" class=\"data row2 col7\" >-0.021376</td>\n",
       "                        <td id=\"T_851198c6_4f75_11eb_b9d0_aced5c909132row2_col8\" class=\"data row2 col8\" >-0.029475</td>\n",
       "                        <td id=\"T_851198c6_4f75_11eb_b9d0_aced5c909132row2_col9\" class=\"data row2 col9\" >-0.197540</td>\n",
       "                        <td id=\"T_851198c6_4f75_11eb_b9d0_aced5c909132row2_col10\" class=\"data row2 col10\" >-0.039276</td>\n",
       "            </tr>\n",
       "            <tr>\n",
       "                        <th id=\"T_851198c6_4f75_11eb_b9d0_aced5c909132level0_row3\" class=\"row_heading level0 row3\" >author</th>\n",
       "                        <td id=\"T_851198c6_4f75_11eb_b9d0_aced5c909132row3_col0\" class=\"data row3 col0\" >0.028011</td>\n",
       "                        <td id=\"T_851198c6_4f75_11eb_b9d0_aced5c909132row3_col1\" class=\"data row3 col1\" >0.054842</td>\n",
       "                        <td id=\"T_851198c6_4f75_11eb_b9d0_aced5c909132row3_col2\" class=\"data row3 col2\" >-0.023764</td>\n",
       "                        <td id=\"T_851198c6_4f75_11eb_b9d0_aced5c909132row3_col3\" class=\"data row3 col3\" >1.000000</td>\n",
       "                        <td id=\"T_851198c6_4f75_11eb_b9d0_aced5c909132row3_col4\" class=\"data row3 col4\" >0.013726</td>\n",
       "                        <td id=\"T_851198c6_4f75_11eb_b9d0_aced5c909132row3_col5\" class=\"data row3 col5\" >0.012668</td>\n",
       "                        <td id=\"T_851198c6_4f75_11eb_b9d0_aced5c909132row3_col6\" class=\"data row3 col6\" >0.014419</td>\n",
       "                        <td id=\"T_851198c6_4f75_11eb_b9d0_aced5c909132row3_col7\" class=\"data row3 col7\" >0.090060</td>\n",
       "                        <td id=\"T_851198c6_4f75_11eb_b9d0_aced5c909132row3_col8\" class=\"data row3 col8\" >0.023160</td>\n",
       "                        <td id=\"T_851198c6_4f75_11eb_b9d0_aced5c909132row3_col9\" class=\"data row3 col9\" >0.038807</td>\n",
       "                        <td id=\"T_851198c6_4f75_11eb_b9d0_aced5c909132row3_col10\" class=\"data row3 col10\" >0.020235</td>\n",
       "            </tr>\n",
       "            <tr>\n",
       "                        <th id=\"T_851198c6_4f75_11eb_b9d0_aced5c909132level0_row4\" class=\"row_heading level0 row4\" >rating_count</th>\n",
       "                        <td id=\"T_851198c6_4f75_11eb_b9d0_aced5c909132row4_col0\" class=\"data row4 col0\" >0.001862</td>\n",
       "                        <td id=\"T_851198c6_4f75_11eb_b9d0_aced5c909132row4_col1\" class=\"data row4 col1\" >0.002285</td>\n",
       "                        <td id=\"T_851198c6_4f75_11eb_b9d0_aced5c909132row4_col2\" class=\"data row4 col2\" >0.031849</td>\n",
       "                        <td id=\"T_851198c6_4f75_11eb_b9d0_aced5c909132row4_col3\" class=\"data row4 col3\" >0.013726</td>\n",
       "                        <td id=\"T_851198c6_4f75_11eb_b9d0_aced5c909132row4_col4\" class=\"data row4 col4\" >1.000000</td>\n",
       "                        <td id=\"T_851198c6_4f75_11eb_b9d0_aced5c909132row4_col5\" class=\"data row4 col5\" >0.837686</td>\n",
       "                        <td id=\"T_851198c6_4f75_11eb_b9d0_aced5c909132row4_col6\" class=\"data row4 col6\" >0.040971</td>\n",
       "                        <td id=\"T_851198c6_4f75_11eb_b9d0_aced5c909132row4_col7\" class=\"data row4 col7\" >-0.006965</td>\n",
       "                        <td id=\"T_851198c6_4f75_11eb_b9d0_aced5c909132row4_col8\" class=\"data row4 col8\" >-0.045574</td>\n",
       "                        <td id=\"T_851198c6_4f75_11eb_b9d0_aced5c909132row4_col9\" class=\"data row4 col9\" >-0.158798</td>\n",
       "                        <td id=\"T_851198c6_4f75_11eb_b9d0_aced5c909132row4_col10\" class=\"data row4 col10\" >0.186740</td>\n",
       "            </tr>\n",
       "            <tr>\n",
       "                        <th id=\"T_851198c6_4f75_11eb_b9d0_aced5c909132level0_row5\" class=\"row_heading level0 row5\" >review_count</th>\n",
       "                        <td id=\"T_851198c6_4f75_11eb_b9d0_aced5c909132row5_col0\" class=\"data row5 col0\" >0.001223</td>\n",
       "                        <td id=\"T_851198c6_4f75_11eb_b9d0_aced5c909132row5_col1\" class=\"data row5 col1\" >0.014073</td>\n",
       "                        <td id=\"T_851198c6_4f75_11eb_b9d0_aced5c909132row5_col2\" class=\"data row5 col2\" >0.034403</td>\n",
       "                        <td id=\"T_851198c6_4f75_11eb_b9d0_aced5c909132row5_col3\" class=\"data row5 col3\" >0.012668</td>\n",
       "                        <td id=\"T_851198c6_4f75_11eb_b9d0_aced5c909132row5_col4\" class=\"data row5 col4\" >0.837686</td>\n",
       "                        <td id=\"T_851198c6_4f75_11eb_b9d0_aced5c909132row5_col5\" class=\"data row5 col5\" >1.000000</td>\n",
       "                        <td id=\"T_851198c6_4f75_11eb_b9d0_aced5c909132row5_col6\" class=\"data row5 col6\" >0.053221</td>\n",
       "                        <td id=\"T_851198c6_4f75_11eb_b9d0_aced5c909132row5_col7\" class=\"data row5 col7\" >-0.011515</td>\n",
       "                        <td id=\"T_851198c6_4f75_11eb_b9d0_aced5c909132row5_col8\" class=\"data row5 col8\" >-0.029807</td>\n",
       "                        <td id=\"T_851198c6_4f75_11eb_b9d0_aced5c909132row5_col9\" class=\"data row5 col9\" >-0.213715</td>\n",
       "                        <td id=\"T_851198c6_4f75_11eb_b9d0_aced5c909132row5_col10\" class=\"data row5 col10\" >0.287102</td>\n",
       "            </tr>\n",
       "            <tr>\n",
       "                        <th id=\"T_851198c6_4f75_11eb_b9d0_aced5c909132level0_row6\" class=\"row_heading level0 row6\" >number_of_pages</th>\n",
       "                        <td id=\"T_851198c6_4f75_11eb_b9d0_aced5c909132row6_col0\" class=\"data row6 col0\" >0.014224</td>\n",
       "                        <td id=\"T_851198c6_4f75_11eb_b9d0_aced5c909132row6_col1\" class=\"data row6 col1\" >0.032258</td>\n",
       "                        <td id=\"T_851198c6_4f75_11eb_b9d0_aced5c909132row6_col2\" class=\"data row6 col2\" >0.073905</td>\n",
       "                        <td id=\"T_851198c6_4f75_11eb_b9d0_aced5c909132row6_col3\" class=\"data row6 col3\" >0.014419</td>\n",
       "                        <td id=\"T_851198c6_4f75_11eb_b9d0_aced5c909132row6_col4\" class=\"data row6 col4\" >0.040971</td>\n",
       "                        <td id=\"T_851198c6_4f75_11eb_b9d0_aced5c909132row6_col5\" class=\"data row6 col5\" >0.053221</td>\n",
       "                        <td id=\"T_851198c6_4f75_11eb_b9d0_aced5c909132row6_col6\" class=\"data row6 col6\" >1.000000</td>\n",
       "                        <td id=\"T_851198c6_4f75_11eb_b9d0_aced5c909132row6_col7\" class=\"data row6 col7\" >0.016287</td>\n",
       "                        <td id=\"T_851198c6_4f75_11eb_b9d0_aced5c909132row6_col8\" class=\"data row6 col8\" >-0.058967</td>\n",
       "                        <td id=\"T_851198c6_4f75_11eb_b9d0_aced5c909132row6_col9\" class=\"data row6 col9\" >-0.050130</td>\n",
       "                        <td id=\"T_851198c6_4f75_11eb_b9d0_aced5c909132row6_col10\" class=\"data row6 col10\" >0.054676</td>\n",
       "            </tr>\n",
       "            <tr>\n",
       "                        <th id=\"T_851198c6_4f75_11eb_b9d0_aced5c909132level0_row7\" class=\"row_heading level0 row7\" >publisher</th>\n",
       "                        <td id=\"T_851198c6_4f75_11eb_b9d0_aced5c909132row7_col0\" class=\"data row7 col0\" >0.003676</td>\n",
       "                        <td id=\"T_851198c6_4f75_11eb_b9d0_aced5c909132row7_col1\" class=\"data row7 col1\" >0.079585</td>\n",
       "                        <td id=\"T_851198c6_4f75_11eb_b9d0_aced5c909132row7_col2\" class=\"data row7 col2\" >-0.021376</td>\n",
       "                        <td id=\"T_851198c6_4f75_11eb_b9d0_aced5c909132row7_col3\" class=\"data row7 col3\" >0.090060</td>\n",
       "                        <td id=\"T_851198c6_4f75_11eb_b9d0_aced5c909132row7_col4\" class=\"data row7 col4\" >-0.006965</td>\n",
       "                        <td id=\"T_851198c6_4f75_11eb_b9d0_aced5c909132row7_col5\" class=\"data row7 col5\" >-0.011515</td>\n",
       "                        <td id=\"T_851198c6_4f75_11eb_b9d0_aced5c909132row7_col6\" class=\"data row7 col6\" >0.016287</td>\n",
       "                        <td id=\"T_851198c6_4f75_11eb_b9d0_aced5c909132row7_col7\" class=\"data row7 col7\" >1.000000</td>\n",
       "                        <td id=\"T_851198c6_4f75_11eb_b9d0_aced5c909132row7_col8\" class=\"data row7 col8\" >0.025883</td>\n",
       "                        <td id=\"T_851198c6_4f75_11eb_b9d0_aced5c909132row7_col9\" class=\"data row7 col9\" >0.058727</td>\n",
       "                        <td id=\"T_851198c6_4f75_11eb_b9d0_aced5c909132row7_col10\" class=\"data row7 col10\" >-0.030904</td>\n",
       "            </tr>\n",
       "            <tr>\n",
       "                        <th id=\"T_851198c6_4f75_11eb_b9d0_aced5c909132level0_row8\" class=\"row_heading level0 row8\" >genre_and_votes</th>\n",
       "                        <td id=\"T_851198c6_4f75_11eb_b9d0_aced5c909132row8_col0\" class=\"data row8 col0\" >-0.020349</td>\n",
       "                        <td id=\"T_851198c6_4f75_11eb_b9d0_aced5c909132row8_col1\" class=\"data row8 col1\" >-0.031194</td>\n",
       "                        <td id=\"T_851198c6_4f75_11eb_b9d0_aced5c909132row8_col2\" class=\"data row8 col2\" >-0.029475</td>\n",
       "                        <td id=\"T_851198c6_4f75_11eb_b9d0_aced5c909132row8_col3\" class=\"data row8 col3\" >0.023160</td>\n",
       "                        <td id=\"T_851198c6_4f75_11eb_b9d0_aced5c909132row8_col4\" class=\"data row8 col4\" >-0.045574</td>\n",
       "                        <td id=\"T_851198c6_4f75_11eb_b9d0_aced5c909132row8_col5\" class=\"data row8 col5\" >-0.029807</td>\n",
       "                        <td id=\"T_851198c6_4f75_11eb_b9d0_aced5c909132row8_col6\" class=\"data row8 col6\" >-0.058967</td>\n",
       "                        <td id=\"T_851198c6_4f75_11eb_b9d0_aced5c909132row8_col7\" class=\"data row8 col7\" >0.025883</td>\n",
       "                        <td id=\"T_851198c6_4f75_11eb_b9d0_aced5c909132row8_col8\" class=\"data row8 col8\" >1.000000</td>\n",
       "                        <td id=\"T_851198c6_4f75_11eb_b9d0_aced5c909132row8_col9\" class=\"data row8 col9\" >0.022024</td>\n",
       "                        <td id=\"T_851198c6_4f75_11eb_b9d0_aced5c909132row8_col10\" class=\"data row8 col10\" >-0.057171</td>\n",
       "            </tr>\n",
       "            <tr>\n",
       "                        <th id=\"T_851198c6_4f75_11eb_b9d0_aced5c909132level0_row9\" class=\"row_heading level0 row9\" >characters</th>\n",
       "                        <td id=\"T_851198c6_4f75_11eb_b9d0_aced5c909132row9_col0\" class=\"data row9 col0\" >-0.002482</td>\n",
       "                        <td id=\"T_851198c6_4f75_11eb_b9d0_aced5c909132row9_col1\" class=\"data row9 col1\" >0.051154</td>\n",
       "                        <td id=\"T_851198c6_4f75_11eb_b9d0_aced5c909132row9_col2\" class=\"data row9 col2\" >-0.197540</td>\n",
       "                        <td id=\"T_851198c6_4f75_11eb_b9d0_aced5c909132row9_col3\" class=\"data row9 col3\" >0.038807</td>\n",
       "                        <td id=\"T_851198c6_4f75_11eb_b9d0_aced5c909132row9_col4\" class=\"data row9 col4\" >-0.158798</td>\n",
       "                        <td id=\"T_851198c6_4f75_11eb_b9d0_aced5c909132row9_col5\" class=\"data row9 col5\" >-0.213715</td>\n",
       "                        <td id=\"T_851198c6_4f75_11eb_b9d0_aced5c909132row9_col6\" class=\"data row9 col6\" >-0.050130</td>\n",
       "                        <td id=\"T_851198c6_4f75_11eb_b9d0_aced5c909132row9_col7\" class=\"data row9 col7\" >0.058727</td>\n",
       "                        <td id=\"T_851198c6_4f75_11eb_b9d0_aced5c909132row9_col8\" class=\"data row9 col8\" >0.022024</td>\n",
       "                        <td id=\"T_851198c6_4f75_11eb_b9d0_aced5c909132row9_col9\" class=\"data row9 col9\" >1.000000</td>\n",
       "                        <td id=\"T_851198c6_4f75_11eb_b9d0_aced5c909132row9_col10\" class=\"data row9 col10\" >-0.146807</td>\n",
       "            </tr>\n",
       "            <tr>\n",
       "                        <th id=\"T_851198c6_4f75_11eb_b9d0_aced5c909132level0_row10\" class=\"row_heading level0 row10\" >awards</th>\n",
       "                        <td id=\"T_851198c6_4f75_11eb_b9d0_aced5c909132row10_col0\" class=\"data row10 col0\" >0.006691</td>\n",
       "                        <td id=\"T_851198c6_4f75_11eb_b9d0_aced5c909132row10_col1\" class=\"data row10 col1\" >-0.005580</td>\n",
       "                        <td id=\"T_851198c6_4f75_11eb_b9d0_aced5c909132row10_col2\" class=\"data row10 col2\" >-0.039276</td>\n",
       "                        <td id=\"T_851198c6_4f75_11eb_b9d0_aced5c909132row10_col3\" class=\"data row10 col3\" >0.020235</td>\n",
       "                        <td id=\"T_851198c6_4f75_11eb_b9d0_aced5c909132row10_col4\" class=\"data row10 col4\" >0.186740</td>\n",
       "                        <td id=\"T_851198c6_4f75_11eb_b9d0_aced5c909132row10_col5\" class=\"data row10 col5\" >0.287102</td>\n",
       "                        <td id=\"T_851198c6_4f75_11eb_b9d0_aced5c909132row10_col6\" class=\"data row10 col6\" >0.054676</td>\n",
       "                        <td id=\"T_851198c6_4f75_11eb_b9d0_aced5c909132row10_col7\" class=\"data row10 col7\" >-0.030904</td>\n",
       "                        <td id=\"T_851198c6_4f75_11eb_b9d0_aced5c909132row10_col8\" class=\"data row10 col8\" >-0.057171</td>\n",
       "                        <td id=\"T_851198c6_4f75_11eb_b9d0_aced5c909132row10_col9\" class=\"data row10 col9\" >-0.146807</td>\n",
       "                        <td id=\"T_851198c6_4f75_11eb_b9d0_aced5c909132row10_col10\" class=\"data row10 col10\" >1.000000</td>\n",
       "            </tr>\n",
       "    </tbody></table>"
      ],
      "text/plain": [
       "<pandas.io.formats.style.Styler at 0x14d927f0>"
      ]
     },
     "execution_count": 33,
     "metadata": {},
     "output_type": "execute_result"
    }
   ],
   "source": [
    "rs = np.random.RandomState(0)\n",
    "df = pd.DataFrame(rs.rand(10, 10))\n",
    "corr = x_test.corr()\n",
    "corr.style.background_gradient(cmap='coolwarm')"
   ]
  },
  {
   "cell_type": "code",
   "execution_count": 34,
   "metadata": {},
   "outputs": [],
   "source": [
    "# separate label column\n",
    "X = x_test.copy()\n",
    "del(X['average_rating'])\n",
    "X = np.array(X)\n",
    "Y = np.array(x_test['average_rating'])"
   ]
  },
  {
   "cell_type": "code",
   "execution_count": 35,
   "metadata": {},
   "outputs": [],
   "source": [
    "# X = x_test.filter(['title','author','number of pages','review_count','rating_count','series','awards'])\n",
    "# Y = x_test['average_rating']"
   ]
  },
  {
   "cell_type": "code",
   "execution_count": 36,
   "metadata": {},
   "outputs": [
    {
     "name": "stdout",
     "output_type": "stream",
     "text": [
      "Num Features: 3\n",
      "Selected Features: [False  True False False False  True False False False  True]\n",
      "Feature Ranking: [4 1 2 8 6 1 5 3 7 1]\n"
     ]
    }
   ],
   "source": [
    "# Recursive Feature Elimination - feature selection\n",
    "from sklearn.feature_selection import RFE\n",
    "model = linear_model.LinearRegression()\n",
    "rfe = RFE(model, n_features_to_select=3)\n",
    "fit = rfe.fit(X, Y)\n",
    "print(\"Num Features: %s\" % (fit.n_features_))\n",
    "print(\"Selected Features: %s\" % (fit.support_))\n",
    "print(\"Feature Ranking: %s\" % (fit.ranking_))"
   ]
  },
  {
   "cell_type": "code",
   "execution_count": 37,
   "metadata": {},
   "outputs": [
    {
     "data": {
      "text/html": [
       "<div>\n",
       "<style scoped>\n",
       "    .dataframe tbody tr th:only-of-type {\n",
       "        vertical-align: middle;\n",
       "    }\n",
       "\n",
       "    .dataframe tbody tr th {\n",
       "        vertical-align: top;\n",
       "    }\n",
       "\n",
       "    .dataframe thead th {\n",
       "        text-align: right;\n",
       "    }\n",
       "</style>\n",
       "<table border=\"1\" class=\"dataframe\">\n",
       "  <thead>\n",
       "    <tr style=\"text-align: right;\">\n",
       "      <th></th>\n",
       "      <th>Actual value</th>\n",
       "      <th>Predicted value</th>\n",
       "    </tr>\n",
       "  </thead>\n",
       "  <tbody>\n",
       "    <tr>\n",
       "      <th>0</th>\n",
       "      <td>129</td>\n",
       "      <td>124.182853</td>\n",
       "    </tr>\n",
       "    <tr>\n",
       "      <th>1</th>\n",
       "      <td>144</td>\n",
       "      <td>122.515554</td>\n",
       "    </tr>\n",
       "    <tr>\n",
       "      <th>2</th>\n",
       "      <td>151</td>\n",
       "      <td>124.213029</td>\n",
       "    </tr>\n",
       "    <tr>\n",
       "      <th>3</th>\n",
       "      <td>123</td>\n",
       "      <td>123.736767</td>\n",
       "    </tr>\n",
       "    <tr>\n",
       "      <th>4</th>\n",
       "      <td>118</td>\n",
       "      <td>123.921733</td>\n",
       "    </tr>\n",
       "    <tr>\n",
       "      <th>5</th>\n",
       "      <td>102</td>\n",
       "      <td>125.881648</td>\n",
       "    </tr>\n",
       "    <tr>\n",
       "      <th>6</th>\n",
       "      <td>109</td>\n",
       "      <td>124.764672</td>\n",
       "    </tr>\n",
       "    <tr>\n",
       "      <th>7</th>\n",
       "      <td>110</td>\n",
       "      <td>126.204935</td>\n",
       "    </tr>\n",
       "    <tr>\n",
       "      <th>8</th>\n",
       "      <td>115</td>\n",
       "      <td>122.193076</td>\n",
       "    </tr>\n",
       "    <tr>\n",
       "      <th>9</th>\n",
       "      <td>126</td>\n",
       "      <td>124.604689</td>\n",
       "    </tr>\n",
       "  </tbody>\n",
       "</table>\n",
       "</div>"
      ],
      "text/plain": [
       "   Actual value  Predicted value\n",
       "0           129       124.182853\n",
       "1           144       122.515554\n",
       "2           151       124.213029\n",
       "3           123       123.736767\n",
       "4           118       123.921733\n",
       "5           102       125.881648\n",
       "6           109       124.764672\n",
       "7           110       126.204935\n",
       "8           115       122.193076\n",
       "9           126       124.604689"
      ]
     },
     "execution_count": 37,
     "metadata": {},
     "output_type": "execute_result"
    }
   ],
   "source": [
    "# 80 train, 20 value\n",
    "X_train, X_test, Y_train, Y_test = train_test_split(X, Y, test_size = 0.25, random_state=0, shuffle=True)\n",
    "lin_reg = LinearRegression()\n",
    "lin_reg.fit(X_train, Y_train)\n",
    "my_prediction = lin_reg.predict(X_test)\n",
    "predict_df = pd.DataFrame({'Actual value': Y_test.tolist(), 'Predicted value': my_prediction.tolist()}).head(25)\n",
    "predict_df.head(10)"
   ]
  },
  {
   "cell_type": "code",
   "execution_count": 38,
   "metadata": {},
   "outputs": [
    {
     "data": {
      "text/plain": [
       "25.90057612913537"
      ]
     },
     "execution_count": 38,
     "metadata": {},
     "output_type": "execute_result"
    }
   ],
   "source": [
    "metrics.mean_absolute_error(Y_test, my_prediction)"
   ]
  },
  {
   "cell_type": "code",
   "execution_count": 39,
   "metadata": {},
   "outputs": [
    {
     "data": {
      "text/plain": [
       "1139.1080120356942"
      ]
     },
     "execution_count": 39,
     "metadata": {},
     "output_type": "execute_result"
    }
   ],
   "source": [
    "metrics.mean_squared_error(Y_test, my_prediction)"
   ]
  },
  {
   "cell_type": "code",
   "execution_count": 40,
   "metadata": {},
   "outputs": [
    {
     "data": {
      "text/plain": [
       "33.75067424564573"
      ]
     },
     "execution_count": 40,
     "metadata": {},
     "output_type": "execute_result"
    }
   ],
   "source": [
    "np.sqrt(metrics.mean_squared_error(Y_test, my_prediction))"
   ]
  },
  {
   "cell_type": "markdown",
   "metadata": {},
   "source": [
    "<b> By KFold  </b>"
   ]
  },
  {
   "cell_type": "code",
   "execution_count": 41,
   "metadata": {},
   "outputs": [
    {
     "name": "stdout",
     "output_type": "stream",
     "text": [
      "RMSE: 35.14\n",
      "R2: -0.11\n"
     ]
    }
   ],
   "source": [
    "cv = KFold(n_splits=5, random_state=0, shuffle=True)\n",
    "classifier_pipeline = make_pipeline(StandardScaler(), KNeighborsRegressor(n_neighbors=10))\n",
    "Y_pred = cross_val_predict(classifier_pipeline, X, Y, cv=cv)\n",
    "print(\"RMSE: \" + str(round(sqrt(mean_squared_error(Y,Y_pred)),2)))\n",
    "print(\"R2: \" + str(round(r2_score(Y,Y_pred),2)))"
   ]
  },
  {
   "cell_type": "markdown",
   "metadata": {},
   "source": [
    "<b> Conclusion </b>"
   ]
  },
  {
   "cell_type": "markdown",
   "metadata": {},
   "source": [
    "After feature engineering step, I decided to choose \"number_of_pages\", \"awards\" and \"series\" column for data modelling "
   ]
  },
  {
   "cell_type": "markdown",
   "metadata": {},
   "source": [
    "<b> 3. Data Modelling </b>"
   ]
  },
  {
   "cell_type": "markdown",
   "metadata": {},
   "source": [
    "<b> Model 1</b>"
   ]
  },
  {
   "cell_type": "code",
   "execution_count": 42,
   "metadata": {},
   "outputs": [],
   "source": [
    "# train/test split with scikit-learn\n",
    "# train/val split with scikit-learn\n",
    "from sklearn.model_selection import train_test_split\n",
    "\n",
    "train_set_x, val_set_x, train_set_y, val_set_y = train_test_split(x_train[['rating_count', 'review_count','author' ,'number_of_pages', 'series', 'awards','characters','publisher','genre_and_votes','title']], \n",
    "                                                                  y_train['average_rating'], test_size=0.2, random_state=0, shuffle=True)"
   ]
  },
  {
   "cell_type": "code",
   "execution_count": 43,
   "metadata": {},
   "outputs": [
    {
     "name": "stdout",
     "output_type": "stream",
     "text": [
      "Val RSME: 0.3767\n",
      "Test RSME: 2.0993\n",
      "Coefficient of determination: 0.03\n",
      "Wall time: 1.06 s\n"
     ]
    }
   ],
   "source": [
    "%%time\n",
    "model = xgboost.XGBRegressor()\n",
    "model = model.fit(train_set_x[['number_of_pages', 'series', 'awards']], train_set_y)\n",
    "# Make predictions using the train/val set\n",
    "Y_pred_train = model.predict(train_set_x[['number_of_pages', 'series', 'awards']])\n",
    "Y_pred_val = model.predict(val_set_x[[ 'number_of_pages', 'series', 'awards']])\n",
    "Y_pred_test = model.predict(x_test[[ 'number_of_pages', 'series', 'awards']])\n",
    "# The mean squared error\n",
    "print('Val RSME: %.4f' % np.sqrt(metrics.mean_squared_error(val_set_y, Y_pred_val)))\n",
    "print('Test RSME: %.4f' % np.sqrt(metrics.mean_squared_error(y_test['average_rating'], Y_pred_test)))\n",
    "# The coefficient of determination: \n",
    "print('Coefficient of determination: %.2f'\n",
    "      % metrics.r2_score(val_set_y, Y_pred_val))"
   ]
  },
  {
   "cell_type": "markdown",
   "metadata": {},
   "source": [
    "<b> Save file to submit Kaggle </b>"
   ]
  },
  {
   "cell_type": "code",
   "execution_count": 44,
   "metadata": {},
   "outputs": [],
   "source": [
    "pred_id = np.array(y_test['id']).astype(int)"
   ]
  },
  {
   "cell_type": "code",
   "execution_count": 45,
   "metadata": {},
   "outputs": [],
   "source": [
    "submission = pd.DataFrame({'id':pred_id, 'average_rating': Y_pred_test})"
   ]
  },
  {
   "cell_type": "code",
   "execution_count": 46,
   "metadata": {},
   "outputs": [
    {
     "name": "stdout",
     "output_type": "stream",
     "text": [
      "Saved filemySubmission.csv\n"
     ]
    }
   ],
   "source": [
    "filename = 'mySubmission.csv'\n",
    "submission.to_csv(filename, index=False)\n",
    "print('Saved file' + filename)"
   ]
  },
  {
   "cell_type": "markdown",
   "metadata": {},
   "source": [
    "<b>Model 2 </b>"
   ]
  },
  {
   "cell_type": "code",
   "execution_count": 47,
   "metadata": {},
   "outputs": [],
   "source": [
    "from sklearn import linear_model\n",
    "import sklearn.metrics as metrics"
   ]
  },
  {
   "cell_type": "code",
   "execution_count": 48,
   "metadata": {},
   "outputs": [],
   "source": [
    "# train/test split with scikit-learn\n",
    "# train/val split with scikit-learn\n",
    "from sklearn.model_selection import train_test_split\n",
    "\n",
    "train_set_x, val_set_x, train_set_y, val_set_y = train_test_split(x_train[['number_of_pages', 'series', 'awards']], \n",
    "                                                                  y_train['average_rating'], test_size=0.2, random_state=0, shuffle=True)"
   ]
  },
  {
   "cell_type": "code",
   "execution_count": 49,
   "metadata": {},
   "outputs": [
    {
     "data": {
      "text/plain": [
       "LinearRegression()"
      ]
     },
     "execution_count": 49,
     "metadata": {},
     "output_type": "execute_result"
    }
   ],
   "source": [
    "# Train the model using the training sets\n",
    "model = linear_model.LinearRegression()\n",
    "model.fit(train_set_x, train_set_y)"
   ]
  },
  {
   "cell_type": "code",
   "execution_count": 50,
   "metadata": {},
   "outputs": [],
   "source": [
    "# Make predictions using the testing set\n",
    "Y_pred = model.predict(val_set_x)"
   ]
  },
  {
   "cell_type": "code",
   "execution_count": 51,
   "metadata": {},
   "outputs": [
    {
     "name": "stdout",
     "output_type": "stream",
     "text": [
      "Coefficients: \n",
      " [ 0.0001515   0.04965408 -0.04816191]\n",
      "Mean squared error: 0.14\n",
      "Coefficient of determination: -53.93\n"
     ]
    }
   ],
   "source": [
    "# The coefficients\n",
    "print('Coefficients: \\n', model.coef_)\n",
    "# The mean squared error\n",
    "print('Mean squared error: %.2f'\n",
    "      % metrics.mean_squared_error(val_set_y, Y_pred))\n",
    "# The coefficient of determination: \n",
    "print('Coefficient of determination: %.2f'\n",
    "      % metrics.r2_score(Y_pred, val_set_y))"
   ]
  },
  {
   "cell_type": "code",
   "execution_count": 52,
   "metadata": {},
   "outputs": [],
   "source": [
    "predictionId = np.array(y_test['id']).astype(int)"
   ]
  },
  {
   "cell_type": "markdown",
   "metadata": {},
   "source": [
    "<b> Model 3 </b>"
   ]
  },
  {
   "cell_type": "code",
   "execution_count": 53,
   "metadata": {},
   "outputs": [],
   "source": [
    "# train/test split with scikit-learn\n",
    "# train/val split with scikit-learn\n",
    "from sklearn.model_selection import train_test_split\n",
    "\n",
    "train_set_x, val_set_x, train_set_y, val_set_y = train_test_split(x_train[['number_of_pages', 'series', 'awards']], \n",
    "                                                                  y_train['average_rating'], test_size=0.2, random_state=0, shuffle=True)"
   ]
  },
  {
   "cell_type": "code",
   "execution_count": 54,
   "metadata": {},
   "outputs": [
    {
     "data": {
      "text/plain": [
       "Pipeline(steps=[('poly', PolynomialFeatures()), ('linear', LinearRegression())])"
      ]
     },
     "execution_count": 54,
     "metadata": {},
     "output_type": "execute_result"
    }
   ],
   "source": [
    "from sklearn.preprocessing import PolynomialFeatures\n",
    "from sklearn.pipeline import Pipeline\n",
    "# Train the model using the training sets\n",
    "model = Pipeline([('poly', PolynomialFeatures(degree=2)),\n",
    "                  ('linear', linear_model.LinearRegression())])\n",
    "model.fit(train_set_x, train_set_y)"
   ]
  },
  {
   "cell_type": "code",
   "execution_count": 55,
   "metadata": {},
   "outputs": [],
   "source": [
    "# Make predictions using the testing set\n",
    "Y_pred = model.predict(val_set_x)"
   ]
  },
  {
   "cell_type": "code",
   "execution_count": 56,
   "metadata": {},
   "outputs": [
    {
     "name": "stdout",
     "output_type": "stream",
     "text": [
      "Coefficients: \n",
      " [ 0.00000000e+00  1.36613578e-04  6.66770638e-03 -5.37216164e-02\n",
      " -1.12475136e-08  7.10926153e-05  9.52210766e-05  6.66770638e-03\n",
      "  5.82669778e-02 -5.37216164e-02]\n",
      "Mean squared error (MSE): 0.38\n",
      "Coefficient of determination: 0.02\n"
     ]
    }
   ],
   "source": [
    "# The coefficients\n",
    "print('Coefficients: \\n', model.named_steps['linear'].coef_)\n",
    "# The mean squared error\n",
    "print('Mean squared error (MSE): %.2f'\n",
    "      % np.sqrt(metrics.mean_squared_error(Y_pred, val_set_y)))\n",
    "# The coefficient of determination: \n",
    "print('Coefficient of determination: %.2f'\n",
    "      % metrics.r2_score(val_set_y, Y_pred))"
   ]
  },
  {
   "cell_type": "markdown",
   "metadata": {},
   "source": [
    "| Model | MSE | R squared |\n",
    "| --- | --- | --- |\n",
    "| Model 1 | 0.14 | 0.03 |\n",
    "| Model 2 | 0,14 | -53,93 |\n",
    "| Model 3 | 0,38 | 0,02 |\n"
   ]
  },
  {
   "cell_type": "markdown",
   "metadata": {},
   "source": [
    "As can be seen in the table above, model 1 seems to be the best model among 3 model I have created. The second model is quite bad for predicting since the R squared value is approximately -54. In the real life, the second model is unacceptable and cannot be used. The last model is quite good, but not as good as model 1 since the coefficient of determination is slightly lower than model 1, while the mean squared error of model 3 is much higher than model 1"
   ]
  }
 ],
 "metadata": {
  "kernelspec": {
   "display_name": "Python 3",
   "language": "python",
   "name": "python3"
  },
  "language_info": {
   "codemirror_mode": {
    "name": "ipython",
    "version": 3
   },
   "file_extension": ".py",
   "mimetype": "text/x-python",
   "name": "python",
   "nbconvert_exporter": "python",
   "pygments_lexer": "ipython3",
   "version": "3.8.5"
  }
 },
 "nbformat": 4,
 "nbformat_minor": 4
}
